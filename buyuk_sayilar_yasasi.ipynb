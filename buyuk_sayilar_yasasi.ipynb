{
 "cells": [
  {
   "cell_type": "markdown",
   "id": "06cd7f10-1832-4ae5-b27e-35e1432d9959",
   "metadata": {},
   "source": [
    "# Büyük Sayılar Yasası"
   ]
  },
  {
   "cell_type": "markdown",
   "id": "f45aff67-745a-4130-a697-e0a201fa7734",
   "metadata": {},
   "source": [
    "## Bir rassal değişkenin uzun vadeli kararlılığını tanımlayan olasılık teoremidir."
   ]
  },
  {
   "cell_type": "code",
   "execution_count": 1,
   "id": "9d1fc7b6-b0d9-42f9-8573-6906f315347a",
   "metadata": {},
   "outputs": [],
   "source": [
    "import numpy as np"
   ]
  },
  {
   "cell_type": "code",
   "execution_count": 3,
   "id": "e858fd1e-2b67-4d5f-8049-58298b839b9d",
   "metadata": {},
   "outputs": [
    {
     "name": "stdout",
     "output_type": "stream",
     "text": [
      "Atış Sayısı:  2 ----- Yazı Olasılığı: 0.50\n",
      "Atış Sayısı:  4 ----- Yazı Olasılığı: 0.00\n",
      "Atış Sayısı:  8 ----- Yazı Olasılığı: 0.62\n",
      "Atış Sayısı:  16 ----- Yazı Olasılığı: 0.44\n",
      "Atış Sayısı:  32 ----- Yazı Olasılığı: 0.47\n",
      "Atış Sayısı:  64 ----- Yazı Olasılığı: 0.56\n",
      "Atış Sayısı:  128 ----- Yazı Olasılığı: 0.51\n",
      "Atış Sayısı:  256 ----- Yazı Olasılığı: 0.53\n",
      "Atış Sayısı:  512 ----- Yazı Olasılığı: 0.53\n",
      "Atış Sayısı:  1024 ----- Yazı Olasılığı: 0.50\n",
      "Atış Sayısı:  2048 ----- Yazı Olasılığı: 0.49\n",
      "Atış Sayısı:  4096 ----- Yazı Olasılığı: 0.49\n",
      "Atış Sayısı:  8192 ----- Yazı Olasılığı: 0.50\n",
      "Atış Sayısı:  16384 ----- Yazı Olasılığı: 0.50\n",
      "Atış Sayısı:  32768 ----- Yazı Olasılığı: 0.50\n",
      "Atış Sayısı:  65536 ----- Yazı Olasılığı: 0.50\n",
      "Atış Sayısı:  131072 ----- Yazı Olasılığı: 0.50\n",
      "Atış Sayısı:  262144 ----- Yazı Olasılığı: 0.50\n",
      "Atış Sayısı:  524288 ----- Yazı Olasılığı: 0.50\n",
      "Atış Sayısı:  1048576 ----- Yazı Olasılığı: 0.50\n"
     ]
    }
   ],
   "source": [
    "rng = np.random.RandomState(123)\n",
    "for element in np.arange(1, 21):\n",
    "    deney_sayisi = 2 ** element\n",
    "    yazi_turalar = rng.randint(0, 2, size=deney_sayisi)\n",
    "    yazi_olasiliklari = np.mean(yazi_turalar)\n",
    "    print('Atış Sayısı: ', deney_sayisi, '-----', 'Yazı Olasılığı: %.2f' % (yazi_olasiliklari % 100))"
   ]
  },
  {
   "cell_type": "markdown",
   "id": "10c50681-f6ae-477f-9741-5155e5525bfd",
   "metadata": {},
   "source": [
    "### En basit örnek olarak, yazı-tura oyununu ele alalım. Yazı-tura örneği, bir Bernoulli deneyi olarak bilinir; çünkü deneyin her zaman sadece iki olası sonucu vardır: Para ya 'yazı' ya da 'tura' gelecektir. Yani bu tür bir deneyde, elde edilebilecek veriler ikilidir (binary) ve olayların bir oranı tarafından tanımlanan binom dağılımını takip eder. Dolayısıyla adil bir paranın beklenen (teorik) 'yazı' gelme oranı %50 'dir. Ancak gerçek bir deneyde;\n",
    "### - İlk atış tura gelebilir. Yani gözlediğiniz yazı oranı %0 'dir. Bu, %100 hata payı demektir.\n",
    "### - İkinci atış yine tura gelebilir. Yani gözlediğiniz yazı oran hale %0 'dır. Bu, %100 hata payı demektir.\n",
    "### - Üçüncü atış yazı gelebilir. Gözlediğiniz yazı oranı artık %33.3 (3 atışta 1 yazı) olmuştur. Bu, %33.3 hata payı demektir.\n",
    "### - Dördüncü atış tura gelebilir. Gözlediğiniz yazı oranı %25 (4 atışta 1 yazı) olmuştur. Bu, %50 hata payı demektir.\n",
    "### - Beşinci atış yazı gelebilir. Gölediğiniz yazı oranı %40 (5 atışta 2 yazı) olmuştur. Bu, %20 hata payı demektir.\n",
    "### - Altıncı atış yazı gelebilir. Gözlediğiniz yazı oranı %50 (6 atışta 3 yazı) olmuştur. Bu, %0 hata payı demektir.\n",
    "### Elbette parayı atmaya devam ettikçe, oran %50 etrafında dolanacaktır; ama ne kadar çok sayıda atış yaparsanız, yani deneme sayısı ne kadar yüksek olursa, beklenen değer olan %50 'ye o kadar yaklaştığınızı görürsünüz. İşte büyük sayılar yasası, bu deneme sayısı arttıkça gözlenen oranın teorik beklenti olan %50 'ye, hata payınınsa giderek %0 'a yakınsayacağını söyler."
   ]
  }
 ],
 "metadata": {
  "kernelspec": {
   "display_name": "Python 3 (ipykernel)",
   "language": "python",
   "name": "python3"
  },
  "language_info": {
   "codemirror_mode": {
    "name": "ipython",
    "version": 3
   },
   "file_extension": ".py",
   "mimetype": "text/x-python",
   "name": "python",
   "nbconvert_exporter": "python",
   "pygments_lexer": "ipython3",
   "version": "3.9.12"
  }
 },
 "nbformat": 4,
 "nbformat_minor": 5
}
