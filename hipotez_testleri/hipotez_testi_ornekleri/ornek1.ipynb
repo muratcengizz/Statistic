{
 "cells": [
  {
   "cell_type": "markdown",
   "id": "efe308a8-7432-463a-b7e7-9bd0a2665b9f",
   "metadata": {},
   "source": [
    "# Senaryo:\n",
    "### Bir restoran sahibi, yeni bir menü öğesi eklemek için bir karar vermek istiyor. Mevcut menüdeki en popüler öğelerden birinin yerine, birkaç hafta boyunca yeni bir öğe sunulacaktır. Restoran sahibi, yeni öğenin mevcut popüler öğeden daha az ilgi gösterip göstermeyeceğini belirlemek istiyor.\n",
    "\n",
    "# Hipotezler:\n",
    "\n",
    "### H0: Yeni öğe ile mevcut popüler öğe arasında bir fark yoktur.\n",
    "### H1: Yeni öğe, mevcut popüler öğeden daha az popülerdir.\n",
    "\n",
    "# Veri Toplama ve Analizi:\n",
    "\n",
    "### Restoran sahibi, yeni öğeyi 3 hafta boyunca sunar ve satışları kaydeder. Daha sonra, aynı dönemde mevcut popüler öğenin satışları kaydedilir. Veriler aşağıdaki gibidir:\n",
    "\n",
    "### Yeni Öğe:           {'1.hafta': 10, '2.hafta': 12, '3.hafta': 15}\n",
    "### Mevcut Popüler Öğe: {'1.hafta': 20, '2.hafta': 18, '3.hafta', 22}\n",
    "\n",
    "\n",
    "### Verileri kullanarak, restoran sahibi bir hipotez testi yapabilir. İlk olarak, anlamlılık seviyesi belirlenir. Örneğin %5 olarak belirlenebilir. Daha sonra, hipotez testinin tipine göre uygun test istatistiği ve kritik değer belirlenir.\n",
    "\n",
    "### Bu örnekte, iki bağımsız örneklemlerin karşılaştırılması söz konusudur. Veriler normal dağılmadığı için, Mann-Whitney U testi kullanılabilir. İşlem sonunda elde edilen test istatistiği değer 4'tür ve kabul edilebilir kritik değer 1'dir.\n",
    "\n",
    "# Sonuçlar:\n",
    "\n",
    "### Test istatistiği 4, kabul edilebilir kritik değer 1'den küçüktür, bu nedenle H0 hipotezi reddedilir. Yani, yeni öğe, mevcut popüler öğeden daha az popülerdir. Restoran sahibi, yeni öğenin menüden çıkarılması gerektiğine karar verebilir.\n"
   ]
  }
 ],
 "metadata": {
  "kernelspec": {
   "display_name": "Python 3 (ipykernel)",
   "language": "python",
   "name": "python3"
  },
  "language_info": {
   "codemirror_mode": {
    "name": "ipython",
    "version": 3
   },
   "file_extension": ".py",
   "mimetype": "text/x-python",
   "name": "python",
   "nbconvert_exporter": "python",
   "pygments_lexer": "ipython3",
   "version": "3.9.12"
  }
 },
 "nbformat": 4,
 "nbformat_minor": 5
}
