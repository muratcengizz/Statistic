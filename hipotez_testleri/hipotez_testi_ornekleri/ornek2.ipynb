{
 "cells": [
  {
   "cell_type": "markdown",
   "id": "09ea2eb9-bd8c-4352-9fe8-8858979cf6fb",
   "metadata": {},
   "source": [
    "# Bir Restoranda Müşteri Memnuniyeti Hipotezi"
   ]
  },
  {
   "cell_type": "markdown",
   "id": "d0f3d319-3956-4812-910a-cfc155683b45",
   "metadata": {},
   "source": [
    "### Bir restoran sahibi, müşterilerinin memnuniyet düzeyini ölçmek istiyor. Restorana gelen müşterilere anket uygulanarak, müşterilerin restoranın yemeklerinin kalitesi hakkındaki görüşleri toplandı. Restoran sahibi, müşterilerinin ortalama memnuniyet puanının 8 olduğunu düşünüyor.\n",
    "\n",
    "# Restoran sahibinin hipotezleri:\n",
    "\n",
    "### H0: μ = 8 (Müşterilerin ortalama memnuniyet puanı 8'dir.)\n",
    "### Ha: μ ≠ 8 (Müşterilerin ortalama memnuniyet puanı 8'den farklıdır.)\n",
    "\n",
    "### Müşterilerden elde edilen veriler, normal dağılım göstermektedir. Anket sonuçlarına göre, 100 müşterinin ortalama memnuniyet puanı 7.5 ve standart sapması 1.5 olarak hesaplandı.\n",
    "\n",
    "# Test İstatistiği Hesaplanır:\n",
    "\n",
    "### t = (x̄ - μ) / (s / √n) = (7.5 - 8) / (1.5 / √100) = -5.33\n",
    "\n",
    "### Burada x̄, örneklem ortalaması, \n",
    "### μ, popülasyon ortalaması\n",
    "### s, örneklem standart sapması\n",
    "### n, örneklem büyüklüğüdür.\n",
    "\n",
    "### Örneklemin büyüklüğü 100 olduğu için, t istatistiği t dağılımına uygun olacaktır. Bu nedenle, α = 0.05 anlamlılık düzeyinde, t-tabloasundan t-kritik değeri bulunur. Tek taraflı test yapacağımız için, t-kritik değeri 1,66 'dır.\n",
    "\n",
    "### Hesaplanan t-değeri (-5,33), t-kritik değerinden (1,66) daha küçük olduğu için, H0 hipotezi reddedilir. Yani, müşterilerin ortalama memnuniyet puanı 8'den farklıdır. Bu sonuç, restoran sahibinin düşüncesinin aksine, restoranın müşterileri tarafından daha az beğenildiği anlamına gelir."
   ]
  }
 ],
 "metadata": {
  "kernelspec": {
   "display_name": "Python 3 (ipykernel)",
   "language": "python",
   "name": "python3"
  },
  "language_info": {
   "codemirror_mode": {
    "name": "ipython",
    "version": 3
   },
   "file_extension": ".py",
   "mimetype": "text/x-python",
   "name": "python",
   "nbconvert_exporter": "python",
   "pygments_lexer": "ipython3",
   "version": "3.9.12"
  }
 },
 "nbformat": 4,
 "nbformat_minor": 5
}
