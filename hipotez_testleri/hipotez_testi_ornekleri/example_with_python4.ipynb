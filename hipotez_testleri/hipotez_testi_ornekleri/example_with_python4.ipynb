{
 "cells": [
  {
   "cell_type": "markdown",
   "id": "85fe1d97-b7c9-437f-a896-2d58f2637813",
   "metadata": {},
   "source": [
    "# Senaryo\n",
    "\n",
    "### Bir eczacı, müşterilerine sunduğu bir ağrı kesici ilacın etkililiği hakkında şüpheleri olduğunu düşünüyor. Eczacı, ilacın etkililiğini test etmek için 50 hasta üzerinde bir deney yapar ve her bir hastaya ilacı verir. 24 saat sonra hastaların ağrı düzeylerını ölçer ve ilacın etkililiği hakkında bir karar vermek istemektedir."
   ]
  },
  {
   "cell_type": "markdown",
   "id": "59cc19e8-1956-473e-9b9e-5dcab9a54628",
   "metadata": {},
   "source": [
    "# Hipotezler:\n",
    "\n",
    "### H0: İlaç, ağrı düzeyinde herhangi bir değişikliğe neden olmaz.\n",
    "### H1: İlaç, ağrı düzeyinde azaltıcı bir etkiye sahiptir."
   ]
  },
  {
   "cell_type": "code",
   "execution_count": 1,
   "id": "836cfa9f-c220-4685-941d-5e9eb1118306",
   "metadata": {},
   "outputs": [
    {
     "name": "stdout",
     "output_type": "stream",
     "text": [
      "İlaç grubunun ortalama ağrı seviyesi:  5.48\n",
      "Placebo grubunun ortalama ağrı seviyesi 4.84\n",
      "T-testi istatistiği:  1.4974430761879938\n",
      "P-value:  0.14082560205554653\n"
     ]
    }
   ],
   "source": [
    "import numpy as np\n",
    "from scipy.stats import ttest_ind\n",
    "\n",
    "ilac = [5, 6, 8, 3, 9, 7, 6, 5, 4, 5, 7, 8, 3, 2, 4, 5, 6, 7, 8, 3, 4, 6, 7, 5, 4]\n",
    "placebo = [4, 4, 3, 5, 6, 5, 4, 5, 6, 7, 4, 5, 6, 5, 4, 6, 7, 5, 4, 5, 3, 5, 4, 5, 4]\n",
    "\n",
    "# t-testi\n",
    "\n",
    "t_statistic, p_value = ttest_ind(ilac, placebo)\n",
    "\n",
    "print('İlaç grubunun ortalama ağrı seviyesi: ', np.mean(ilac))\n",
    "print('Placebo grubunun ortalama ağrı seviyesi', np.mean(placebo))\n",
    "print('T-testi istatistiği: ', t_statistic)\n",
    "print('P-value: ', p_value)"
   ]
  },
  {
   "cell_type": "code",
   "execution_count": 3,
   "id": "bc332ef9-4235-41ea-b850-20cb2ae039b3",
   "metadata": {},
   "outputs": [
    {
     "name": "stdout",
     "output_type": "stream",
     "text": [
      "P-değeri, anlamlılık seviyesinden büyük olduğu için H0 hipotezi reddedilmez.\n",
      "Bu, ilacın ağrı düzeyinde azaltıcı bir etkiye sahip olduğuna dair kanıt olmadığını gösterir.\n"
     ]
    }
   ],
   "source": [
    "# anlamlılık seviyesi\n",
    "alpha = 0.05\n",
    "\n",
    "# hipotez testi\n",
    "\n",
    "if p_value < alpha:\n",
    "    print('P-değeri, anlamlılık seviyesinden küçük olduğu için H0 hipotezi reddedilir.')\n",
    "    print(\"Bu, ilacın ağrı düzeyinde azaltıcı bir etkiye sahip olduğuna dair kanıt olduğunu gösterir.\")\n",
    "else:\n",
    "    print('P-değeri, anlamlılık seviyesinden büyük olduğu için H0 hipotezi reddedilmez.')\n",
    "    print('Bu, ilacın ağrı düzeyinde azaltıcı bir etkiye sahip olduğuna dair kanıt olmadığını gösterir.')"
   ]
  }
 ],
 "metadata": {
  "kernelspec": {
   "display_name": "Python 3 (ipykernel)",
   "language": "python",
   "name": "python3"
  },
  "language_info": {
   "codemirror_mode": {
    "name": "ipython",
    "version": 3
   },
   "file_extension": ".py",
   "mimetype": "text/x-python",
   "name": "python",
   "nbconvert_exporter": "python",
   "pygments_lexer": "ipython3",
   "version": "3.9.12"
  }
 },
 "nbformat": 4,
 "nbformat_minor": 5
}
