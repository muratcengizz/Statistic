{
 "cells": [
  {
   "cell_type": "markdown",
   "id": "9ccd1d58-8028-4938-ae87-77aa03c6e2de",
   "metadata": {},
   "source": [
    "# Senaryo\n",
    "### Bir yiyecek üreticisi, ürettiği çikolatalı kekin kalitesini kontrol etmek istiyor. Üretici, son 100 partideki keklerin ağırlığını ölçerek, ortalama ağırlığın 200 gram olduğunu tahmin ediyor. Ancak, üretici, bu tahmininin istatistiksel olarak anlamlı olup olmadığını da kontrol etmek istiyor. \n",
    "\n",
    "# Hipotezler:\n",
    "### Nul Hipotez (H0): Keklerin ortalama ağırlığı 200 gramdır.\n",
    "### Alternatif Hipotez (H1): Keklerin ortalama ağırlığı 200 gramdan farklıdır.\n",
    "\n",
    "# İstatistiksel Test:\n",
    "### T-test\n",
    "\n",
    "### Alınan Örneklem: 100 kek, ortalama ağırlık 197 gram, standart sapma 5 gram.\n",
    "\n",
    "### Test İstatistiği Hesaplama:\n",
    "\n",
    "### T = (x̄ - μ) / (s / sqrt(n))\n",
    "### T = (197 - 200) / (5 / sqrt(100))\n",
    "### T = -6\n",
    "\n",
    "# Kritik Değeri Bulma:\n",
    "### Alfa (α) değeri 0.05 olarak seçiliyor.\n",
    "### Özgürlük derecesi 99 olarak hesaplanıyor. (n-1)\n",
    "### T dağılımı tablosunda 99 özgürlük derecesine ve α=0.05 seviyesine karşılık gelen iki taraflı kritik değerler -1,9842 ve +1,9842 'dir.\n",
    "\n",
    "# Karar:\n",
    "\n",
    "### Hesaplanan test istatistiği (-6) kritik değerlerin ötesinde olduğu için, null hipotezi reddederiz.\n",
    "### Yani, elde edilen veriler, keklerin ortalama ağırlığının 200 gram olmadığını ve üretici tahmininin yanlış olduğunu göstermektedir.\n",
    "### Dolayısıyla alternatif hipotez kabul edilir ve keklerin ortalama ağırlığı 200 gramdan farklıdır.\n",
    "\n",
    "\n",
    "### Bu örnekte, t-testi kullanarak hipotez testi gerçekleştirdik. İstatistiksel test sonucuna göre, keklerin ortalama ağırlığının üretici tahminindn farklı olduğu sonucuna varıldı."
   ]
  }
 ],
 "metadata": {
  "kernelspec": {
   "display_name": "Python 3 (ipykernel)",
   "language": "python",
   "name": "python3"
  },
  "language_info": {
   "codemirror_mode": {
    "name": "ipython",
    "version": 3
   },
   "file_extension": ".py",
   "mimetype": "text/x-python",
   "name": "python",
   "nbconvert_exporter": "python",
   "pygments_lexer": "ipython3",
   "version": "3.9.12"
  }
 },
 "nbformat": 4,
 "nbformat_minor": 5
}
