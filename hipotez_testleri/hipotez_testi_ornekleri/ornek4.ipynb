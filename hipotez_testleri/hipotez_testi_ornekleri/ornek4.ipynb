{
 "cells": [
  {
   "cell_type": "markdown",
   "id": "43e514b4-73d0-4ef7-b32f-4cf4a233f3fc",
   "metadata": {},
   "source": [
    "# Senaryo:\n",
    "### Bir restoran zinciri, yeni bir menü öğesi eklemeyi planlıyor ve müşterilerin bu yeni öğeye ilgisi ölçmek istiyor. 100 müşteriye anket yapıldı ve bunların 60'ı yeni öğeyi denemeye istekli olduklarını belirtti. Restoran zinciri, bu sonuçlara dayanarak yeni menü öğesine ilginin yüksek olduğunu düşünüyor, ancak istatistiksel olarak anlamlı olup olmadığını test etmek istiyor.\n",
    "\n",
    "# Hipotez Testi Adımları:\n",
    "\n",
    "## Adım 1: Hipotezleri Belirleme\n",
    "### Null Hipotez (H0): Müşterilerin yeni menü öğesine ilgisi, şansa bağlı olarak %50 'dir.\n",
    "### Alternatif Hipotez (H1): Müşterilerin yeni menü öğesine ilgisi, %50 'den farklıdır.\n",
    "\n",
    "## Adım 2: Anlamlılık Düzeyini Seçme\n",
    "### Anlamlılık düzeyi (α): 0.05 olarak seçilir. Bu, kabul edilebilir bir hata oranı olarak belirlenmiştir.\n",
    "\n",
    "## Adım 3: Test İstatistiğini Seçme\n",
    "### Z-testi kullanılacak. Bu, büyük örneklem boyutları için uygun bir test istatistiğidir.\n",
    "\n",
    "## Adım 4: Test İstatistiğini Hesaplama\n",
    "### Z-test istatistiği şu şekilde hesaplanır.\n",
    "\n",
    "### z = (p - P) / sqrt(P(1-P)/n)\n",
    "\n",
    "### Burada p, örneklemde yeni menü öğesine ilgi gösteren müşterilerin yüzdesi; P, null hipotezdeki beklenen yüzde (%50); ve n, örneklem boyutudur.\n",
    "\n",
    "### p = 60 / 100 = 0.6\n",
    "### P = 0.5\n",
    "### n = 100\n",
    "### z = (0.6 - 0.5) / sqrt(0.5 * 0.5 / 100) = 2.00\n",
    "\n",
    "## Adım 5: Karar Verme\n",
    "### Z-testi değeri, α = 0.05 anlamlılık düzeyi için 1.96 'dan büyüktür. Bu nedenle, null hipotez reddedilir ve alternatif hipotez kabul edilir. Sonuç olarak, müşterilerin yeni menü öğesine ilgisi, %50 'den farklıdır ve restoran zinciri bu yeni öğeyi menüsüne eklemeyi düşünebilir."
   ]
  }
 ],
 "metadata": {
  "kernelspec": {
   "display_name": "Python 3 (ipykernel)",
   "language": "python",
   "name": "python3"
  },
  "language_info": {
   "codemirror_mode": {
    "name": "ipython",
    "version": 3
   },
   "file_extension": ".py",
   "mimetype": "text/x-python",
   "name": "python",
   "nbconvert_exporter": "python",
   "pygments_lexer": "ipython3",
   "version": "3.9.12"
  }
 },
 "nbformat": 4,
 "nbformat_minor": 5
}
