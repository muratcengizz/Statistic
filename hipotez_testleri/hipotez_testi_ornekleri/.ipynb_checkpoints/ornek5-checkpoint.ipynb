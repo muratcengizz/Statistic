{
 "cells": [
  {
   "cell_type": "markdown",
   "id": "53404fd7-86d9-4562-b99f-0b27d7d6b64a",
   "metadata": {},
   "source": [
    "# Senaryo\n",
    "\n",
    "### Bir ilaç firması, bir yeni ilaç geliştirdiğini ve bu ilacın hastalığın semptomlarını iyileştirdiğini iddia ediyor. Şimdi, bu iddiayı test etmek istiyoruz."
   ]
  },
  {
   "cell_type": "markdown",
   "id": "bfd948de-e10e-4dc3-a6b3-646b7a41a2e4",
   "metadata": {},
   "source": [
    "# Hipotezler:\n",
    "\n",
    "### H0: Bu ilaç hastalığın semptonlarını iyileştirmez. (Null Hipotez)\n",
    "### H1: Bu ilaç hastalığın semptonlarını iyileştirir. (Alternatif Hipotez)\n",
    "\n",
    "\n",
    "### Bir deney yaparak, ilacın etkisini test edebiliriz. Örneğin, 100 hasta üzerinde bir deney yapabiliriz ve 50'sine ilacı, 50'sine de plasebo (etkisiz madde) vererek sonuçları karşılaştırabiliriz.\n",
    "\n",
    "\n",
    "# Varsayımlar:\n",
    "\n",
    "### Örneklem normal dağılımı gösterir.\n",
    "### İki grup (ilaç ve plasebo) varyansları birbirine eşittir.\n",
    "### Bağımsız iki örneklem t-testi kullanabiliriz.\n",
    "\n",
    "\n",
    "# Örnek Veriler:\n",
    "\n",
    "### İlaç grubu: Ortalama = 70, Standart sapma = 10\n",
    "### Plasebo Grubu: Ortalama = 60, Standart sapma = 12\n",
    "\n",
    "### Bu verileri kullanarak, bir hipotez testi yapabiliriz. Hipotez testi için genellikle belirlenmiş bir anlamlılık seviyesi (alfa seviyesi) kullanılır. Varsayımsal olarak, alfa seviyemiz %5 olsun.\n",
    "\n",
    "\n",
    "### İki taraflı bir hipotez testi yaptığımız için, alfa seviyesini ikiye bölüp her iki uçta %2.5 'lik kabul edilebilir hata payları kullanacağız.\n",
    "\n",
    "### Hipotez testi sonucunda, test istatiğimiz t hesaplanır. Ardından, t dağılımının kritik değeri ile karşılaştırarak, hipotezimizi reddedip reddedemeyeceğimizi belirleriz.\n",
    "\n",
    "### Burada, t dağılımının kritik değerini hesaplamak için öncelikle serbestlik derecesini (df) hesaplamamız gerekir.\n",
    "### df = n1 + n2 = 98 olur.\n",
    "\n",
    "\n",
    "# T istatistiği hesaplaması:\n",
    "\n",
    "### t = (70 - 60) / [(10 ^ 2 / 50) + (12 ^ 2 / 50)] ^ 0.5 = 2.12\n",
    "\n",
    "### t dağılımının kritik değeri df = 98 ve %2.5 anlamlılık seviyesi için (tablo kullanarak) ± 1.984 olur.\n",
    "\n",
    "### t hesaplanan değerimiz 1.984 'ten büyük olduğu için, H0 hipotezini reddedebiliriz ve H1 hipotezini kabul edebiliriz."
   ]
  }
 ],
 "metadata": {
  "kernelspec": {
   "display_name": "Python 3 (ipykernel)",
   "language": "python",
   "name": "python3"
  },
  "language_info": {
   "codemirror_mode": {
    "name": "ipython",
    "version": 3
   },
   "file_extension": ".py",
   "mimetype": "text/x-python",
   "name": "python",
   "nbconvert_exporter": "python",
   "pygments_lexer": "ipython3",
   "version": "3.9.12"
  }
 },
 "nbformat": 4,
 "nbformat_minor": 5
}
