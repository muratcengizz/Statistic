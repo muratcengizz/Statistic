{
 "cells": [
  {
   "cell_type": "markdown",
   "id": "2fafda04-1573-42be-97bc-7e3c7af181a0",
   "metadata": {},
   "source": [
    "# Senaryo\n",
    "\n",
    "### Bir eczanede, belirli bir ilacın yeni bir formülü geliştirildi ve satışları artırması bekleniyor. Eczane sahibi, eski formülasyona göre ilacın ortalama satış miktarı ile yeni formülasyona göre ilacın ortalama satış miktarı arasında istatistiktel olarak anlamlı bir fark olup olmadığını test etmek istiyor. Eski formülasyonun ortalama satış miktarı 100 adet iken, yeni formülasyonun ortalama satış miktarı 110 adet olduğu düşünülüyor. "
   ]
  },
  {
   "cell_type": "markdown",
   "id": "2b1dae0c-d61f-485f-b2ac-6fd31484cf75",
   "metadata": {},
   "source": [
    "# Hipotezler:\n",
    "\n",
    "### H0: İki formülasyon arasında satış miktarı açısından anlamlı bir fark yoktur.\n",
    "### H1: Yeni formülasyonun satış miktarı eski formülasyona göre anlamlı şekilde daha yüksektir."
   ]
  },
  {
   "cell_type": "markdown",
   "id": "34673c29-0985-4a8f-9d0d-d25b82e08f11",
   "metadata": {},
   "source": [
    "### İlk adım olarak, bir hipotez testi için önem seviyesi (alpha) belirlememiz gerekiyor. Bu örnekte, %5 önem seviyesi seçiyoruz."
   ]
  },
  {
   "cell_type": "code",
   "execution_count": 1,
   "id": "85a9efbe-6232-4a03-a773-0ab515fc790b",
   "metadata": {},
   "outputs": [
    {
     "name": "stdout",
     "output_type": "stream",
     "text": [
      "t istatistiği:  3.731797929882281\n",
      "p-value:  0.0015266112018691876\n",
      "Hipotezimiz reddediliyor, yeni formülasyon satış miktarı eski formülasyona göre daha yüksektir.\n"
     ]
    }
   ],
   "source": [
    "import numpy as np\n",
    "from scipy.stats import ttest_ind\n",
    "\n",
    "eski_formulasyon = np.array([90, 105, 100, 95, 105, 100, 110, 100, 95, 105])\n",
    "yeni_formulasyon = np.array([115, 105, 110, 120, 100, 105, 110, 115, 110, 120])\n",
    "\n",
    "\n",
    "# t-testi yaparak hipotez testi gerçekleştirme\n",
    "t_statistic, p_value = ttest_ind(yeni_formulasyon, eski_formulasyon)\n",
    "print('t istatistiği: ', t_statistic)\n",
    "print('p-value: ', p_value)\n",
    "\n",
    "# p değerini alpha (önem seviyesi) ile karşılaştırma\n",
    "alpha = 0.05\n",
    "\n",
    "if p_value < alpha:\n",
    "    print('Hipotezimiz reddediliyor, yeni formülasyon satış miktarı eski formülasyona göre daha yüksektir.')\n",
    "else:\n",
    "    print('Hipotezimiz reddedilmiyor, yeni formülasyon satış miktarı eski formülasyona göre daha yüksek değildir.')"
   ]
  },
  {
   "cell_type": "markdown",
   "id": "a1c6ee80-ed6a-427a-acff-7d754f10c9b4",
   "metadata": {},
   "source": [
    "### 'ttest_ind' fonksiyonu, iki örneklem arasındaki farkın istatistiksel olarak anlamlı olup olmadığını belirlemek için kullanılır. Sonuçlarımıza göre, p değeri (0.0015) önem seviyesinden (0.05) daha düşüktür, bu nedenle H0 hipotezi reddedilir ve H1 hipotezi kabul edilir."
   ]
  }
 ],
 "metadata": {
  "kernelspec": {
   "display_name": "Python 3 (ipykernel)",
   "language": "python",
   "name": "python3"
  },
  "language_info": {
   "codemirror_mode": {
    "name": "ipython",
    "version": 3
   },
   "file_extension": ".py",
   "mimetype": "text/x-python",
   "name": "python",
   "nbconvert_exporter": "python",
   "pygments_lexer": "ipython3",
   "version": "3.9.12"
  }
 },
 "nbformat": 4,
 "nbformat_minor": 5
}
