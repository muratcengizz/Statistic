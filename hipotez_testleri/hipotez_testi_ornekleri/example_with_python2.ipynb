{
 "cells": [
  {
   "cell_type": "markdown",
   "id": "23109ab1-25f2-4010-a81a-6470e531fd10",
   "metadata": {},
   "source": [
    "# Senaryo\n",
    "\n",
    "### Örneğin, bir üreticinin ürettiği bir ürünün ortalama ömrünün 1000 saat olduğu varsayılsın. Ancak, bu varsayımı test etmek için bir örneklem alarak bir hipotez testi yapmak istiyoruz. Bu örneklem, 50 adet ürün içermekte ve bu ürünlerin ömürlerinin ortalaması 980 saat olarak hesaplanmıştır."
   ]
  },
  {
   "cell_type": "markdown",
   "id": "8919d6ad-e6ac-4d52-b551-7128bfe31681",
   "metadata": {},
   "source": [
    "### Adım 1: İçe Aktartma İşlemleri ve Verilerin Hazırlanması"
   ]
  },
  {
   "cell_type": "code",
   "execution_count": 1,
   "id": "cdd4071d-5580-4972-ae19-8656cd6a09b7",
   "metadata": {},
   "outputs": [],
   "source": [
    "import numpy as np\n",
    "from scipy.stats import ttest_1samp"
   ]
  },
  {
   "cell_type": "code",
   "execution_count": 2,
   "id": "dff5db26-125c-4d06-b78b-4784b8e50822",
   "metadata": {},
   "outputs": [],
   "source": [
    "sample_data = np.array([980, 975, 990, 985, 995, 1005, 990, 985, 970, 1000, \n",
    "                        985, 980, 985, 980, 995, 990, 1000, 990, 975, 995, \n",
    "                        985, 980, 995, 1000, 990, 995, 985, 995, 1000, 1000,\n",
    "                        980, 1000, 990, 985, 1000, 985, 975, 980, 990, 1000, \n",
    "                        980, 985, 995, 990, 975, 995, 990, 995, 985, 980])"
   ]
  },
  {
   "cell_type": "markdown",
   "id": "ff58af17-04ea-4a18-acd5-77da2f037eca",
   "metadata": {},
   "source": [
    "### Adım 2: Hipotezlerin Belirlenmesi:"
   ]
  },
  {
   "cell_type": "code",
   "execution_count": 3,
   "id": "e2ab2544-804a-4fbd-8345-6bffe7045c29",
   "metadata": {},
   "outputs": [],
   "source": [
    "null_hypothesis = 1000\n",
    "alpha = 0.05"
   ]
  },
  {
   "cell_type": "markdown",
   "id": "4e8e29b5-a2ed-4fa0-9de3-2dc499dd4c8e",
   "metadata": {},
   "source": [
    "### Adım 3: Test İstatistiğinin Hesaplanması ve P-değerinin Hesaplanması"
   ]
  },
  {
   "cell_type": "code",
   "execution_count": 4,
   "id": "c5fc9adc-1ff4-4a1e-bd23-ff20fdbb5ed5",
   "metadata": {},
   "outputs": [
    {
     "name": "stdout",
     "output_type": "stream",
     "text": [
      "Test İstatistiği:  -9.535200348612388\n",
      "P-Value 9.539007924214498e-13\n"
     ]
    }
   ],
   "source": [
    "t_statistic, p_value = ttest_1samp(sample_data, null_hypothesis)\n",
    "\n",
    "print('Test İstatistiği: ', t_statistic)\n",
    "print('P-Value', p_value)"
   ]
  },
  {
   "cell_type": "markdown",
   "id": "1dd00ab3-002c-4e92-b4a0-27dc856ca4a9",
   "metadata": {},
   "source": [
    "### Adım 4: Karar Verme"
   ]
  },
  {
   "cell_type": "code",
   "execution_count": 5,
   "id": "0d5b3951-908c-4d57-ae29-a4ab19959962",
   "metadata": {},
   "outputs": [
    {
     "name": "stdout",
     "output_type": "stream",
     "text": [
      "Null Hipotez Reddedildi.\n"
     ]
    }
   ],
   "source": [
    "if p_value < alpha:\n",
    "    print('Null Hipotez Reddedildi.')\n",
    "else:\n",
    "    print('Null Hipotez Reddedilmedi.')"
   ]
  },
  {
   "cell_type": "markdown",
   "id": "d33f1052-66b2-4ae6-815c-95de42d2a8b1",
   "metadata": {},
   "source": [
    "### Sonuç olarak, p-değeri 0.0000000000009539007924214498 'den küçük olduğu için (alfa seviyesi 0.05 'ten daha küçük), null hipotez reddedilir ve alternatif hipotez kabul edilir. Bu da, üreticinin iddiasının doğru olmadığını ve ürünlerin ortalama ömrünün 1000 saatten farklı olduğunu gösterir."
   ]
  }
 ],
 "metadata": {
  "kernelspec": {
   "display_name": "Python 3 (ipykernel)",
   "language": "python",
   "name": "python3"
  },
  "language_info": {
   "codemirror_mode": {
    "name": "ipython",
    "version": 3
   },
   "file_extension": ".py",
   "mimetype": "text/x-python",
   "name": "python",
   "nbconvert_exporter": "python",
   "pygments_lexer": "ipython3",
   "version": "3.9.12"
  }
 },
 "nbformat": 4,
 "nbformat_minor": 5
}
