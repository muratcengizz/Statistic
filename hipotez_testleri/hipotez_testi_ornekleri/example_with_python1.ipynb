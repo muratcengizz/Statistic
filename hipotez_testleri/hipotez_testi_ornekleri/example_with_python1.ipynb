{
 "cells": [
  {
   "cell_type": "markdown",
   "id": "8e59ed6d-5c25-4649-9b35-b0de5813b06e",
   "metadata": {},
   "source": [
    "### Scipy kütüphanesinden 'ttest_1samp()' fonksiyonunu kullanarak tek örneklem t-testi yapacağız. Bu fonksiyon, örneklem verileri ve hipotezlerimizle birlikte çalışır."
   ]
  },
  {
   "cell_type": "code",
   "execution_count": 1,
   "id": "3b9179a6-775a-4c9e-9c9f-8ce271f5e2c1",
   "metadata": {},
   "outputs": [],
   "source": [
    "import numpy as np\n",
    "from scipy.stats import ttest_1samp"
   ]
  },
  {
   "cell_type": "code",
   "execution_count": 9,
   "id": "5cc23fa8-cb2b-49c9-837b-0df133d1f549",
   "metadata": {},
   "outputs": [],
   "source": [
    "sample_data = np.array([970, 990, 985, 975, 995, 980, 1005, 1000, 990, 980,\n",
    "                        975, 1005, 990, 1000, 985, 980, 1000, 975, 985, 995,\n",
    "                        990, 1005, 985, 980, 1000, 975, 980, 985, 990, 995,\n",
    "                        990, 995, 980, 985, 980, 975, 1000, 1000, 985, 980,\n",
    "                        995, 990, 975, 990, 1000, 980, 985, 990, 1000, 1000])"
   ]
  },
  {
   "cell_type": "code",
   "execution_count": 10,
   "id": "7eadb31a-b461-47b9-9844-e2e62e9c9c37",
   "metadata": {},
   "outputs": [],
   "source": [
    "# Hipotezlerimiz:\n",
    "\n",
    "null_hypothesis = 1000\n",
    "alpha = 0.05"
   ]
  },
  {
   "cell_type": "code",
   "execution_count": 11,
   "id": "ce745c00-8bbd-4cba-8983-ed054283bf20",
   "metadata": {},
   "outputs": [],
   "source": [
    "# Tek örneklem t-testi\n",
    "\n",
    "t_statistic, p_value = ttest_1samp(sample_data, null_hypothesis)"
   ]
  },
  {
   "cell_type": "code",
   "execution_count": 12,
   "id": "62d03bee-12f9-47ea-9cb3-0493afc3869c",
   "metadata": {},
   "outputs": [
    {
     "name": "stdout",
     "output_type": "stream",
     "text": [
      "T istatistiği:  -8.63439002420002\n",
      "P değeri:  2.0811894358680954e-11\n"
     ]
    }
   ],
   "source": [
    "# Hesaplanan t istatistiği ve p değerini yazdıralım\n",
    "\n",
    "print('T istatistiği: ', t_statistic)\n",
    "print('P değeri: ', p_value)"
   ]
  },
  {
   "cell_type": "markdown",
   "id": "4653ef1f-fa6f-4d87-8307-50f537fb4f8b",
   "metadata": {},
   "source": [
    "### Yukarıda hesaplanan t istatistiği -8.634 ve p değeri 0.000000000020811894358680954 olarak bulunmuştur. Bu sonuçlar, null hipotezin reddedilmesi gerektiğini göstermektedir çünkü p değeri alfa seviyesinden daha küçüktür. Yani, ürünlerin ortalama ömrünün 1000 saatten farklı olduğunu söyleyebiliriz."
   ]
  }
 ],
 "metadata": {
  "kernelspec": {
   "display_name": "Python 3 (ipykernel)",
   "language": "python",
   "name": "python3"
  },
  "language_info": {
   "codemirror_mode": {
    "name": "ipython",
    "version": 3
   },
   "file_extension": ".py",
   "mimetype": "text/x-python",
   "name": "python",
   "nbconvert_exporter": "python",
   "pygments_lexer": "ipython3",
   "version": "3.9.12"
  }
 },
 "nbformat": 4,
 "nbformat_minor": 5
}
