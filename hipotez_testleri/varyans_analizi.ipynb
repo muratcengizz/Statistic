{
 "cells": [
  {
   "cell_type": "markdown",
   "id": "196bb720-7a58-4305-9c5a-0c564f8bcae2",
   "metadata": {},
   "source": [
    "# Varyans Analizi\n",
    "\n",
    "### İki ya da daha fazla grup ortalaması arasında istatistiksel olarak anlamlı farklılık olup olmadığını öğrenilmek istenildiğinde kullanılır."
   ]
  },
  {
   "cell_type": "markdown",
   "id": "10901623-e4c4-4bb3-8b0a-cad317acd4ff",
   "metadata": {},
   "source": [
    "### Varyans analizi, farklı gruplar arasındaki ortalamalar arasındaki farklılıkların, toplam veri seti içindeki değişkenlikle karşılaştırılmasını sağlar.\n",
    "\n",
    "### Varyans analizi, bir hipotez testi olarak kullanılabilir. Bu test, farklı gruplar arasındaki ortalamaların aynı olup olmadığını belirlemek için kullanılır. Bu testte, bir grup için verilerin ortalaması seçilir ve diğer gruplar için de benzer şekilde hesaplanır. Ardından, gruplar arasındaki farklılıkların, gruplar içindeki değişkenliğin etkisinden ayrıştırılıp ayrıştırılmadığına bakılır.\n",
    "\n",
    "### Varyans analizi, aynı zamanda bir etki boyutu ölçüsü olarak da kullanılabilir. Bu analiz, farklı gruplar arasındaki ortalamalar arasındaki farkın büyüklüğünü ve bu farkın toplam değişkenlik içindeki payını hesaplar. Bu, gruplar  arasındaki farkın önemli olup olmadığını belirlemek için kullanılır."
   ]
  },
  {
   "cell_type": "markdown",
   "id": "46771576-aab9-4ea8-ac1f-62756d66c490",
   "metadata": {},
   "source": [
    "# Varsayımlar\n",
    "\n",
    "### Gözlemlerin birbirinden bağımsız olması (grupların)\n",
    "### normal dağılım\n",
    "### varyans homojenliği"
   ]
  }
 ],
 "metadata": {
  "kernelspec": {
   "display_name": "Python 3 (ipykernel)",
   "language": "python",
   "name": "python3"
  },
  "language_info": {
   "codemirror_mode": {
    "name": "ipython",
    "version": 3
   },
   "file_extension": ".py",
   "mimetype": "text/x-python",
   "name": "python",
   "nbconvert_exporter": "python",
   "pygments_lexer": "ipython3",
   "version": "3.9.12"
  }
 },
 "nbformat": 4,
 "nbformat_minor": 5
}
