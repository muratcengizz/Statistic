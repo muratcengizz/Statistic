{
 "cells": [
  {
   "cell_type": "markdown",
   "id": "0d119193-a99f-46b4-8bdb-c4cc6d78d510",
   "metadata": {},
   "source": [
    "# Hipotez Testi Nedir ?"
   ]
  },
  {
   "cell_type": "markdown",
   "id": "1df1e91a-99a3-4b82-8cb5-5beb1050ba11",
   "metadata": {},
   "source": [
    "### İstatistikte hipotez testi, bir örneklem verisi kullanarak, bir varsayım hakkında bir karar vermek için yapılan istatistiksel bir analizdir. Hipotez testi, araştırmacıların belirli bir örneklem verisi üzerindeki bulgularının, bir popülasyon hakkında genel bir sonuç çıkarılabilecek kadar anlamlı olup olmadığını belirlemelerine yardımcı olur.\n",
    "\n",
    "### Hipotez testi, iki hipotez arasındaki farkın istatistiksel olarak anlamlı olup olmadığını belirler. Bu hipotezler, null hipotez ve alternatif hipotez olarak adlandırılır. Null hipotez, örneklemin popülasyondan farklı olmadığını ifade ederken, alternatif hipotez örneklemin popülasyondan farklı olduğunu iddia eder.\n",
    "\n",
    "### Hipotez testi, bir test istatistiği kullanarak null hipotezin reddedilip reddedilemeyeceğini belirler. Test istatistiği, örneklem verisine dayanarak hesaplanır ve null hipotezin doğru olduğu varsayımına karşı kanıt sağlar. Eğer test istatistiği null hipotezi reddetmeye yeterliyse, araştırmacılar alternatif hipotezi kabul ederler. Aksi taktirde, null hipotez kabul edilir.\n",
    "\n",
    "### Hipotez testi, istatistiksel anlamlılık seviyesi adı verilen bir belirli bir güven aralığı kullanır. Bu seviye, null hipotezi reddetmek için gereken kanıtın belirlenmesinde kullanılır. Tipik olarak 0,05 veya 0,01 gibi düşük bir anlamlılık seviyesi kullanılır. Bu, null hipotezin doğru olma olasılığının sadece bu seviyeye kadar olabileceği anlamına gelir."
   ]
  }
 ],
 "metadata": {
  "kernelspec": {
   "display_name": "Python 3 (ipykernel)",
   "language": "python",
   "name": "python3"
  },
  "language_info": {
   "codemirror_mode": {
    "name": "ipython",
    "version": 3
   },
   "file_extension": ".py",
   "mimetype": "text/x-python",
   "name": "python",
   "nbconvert_exporter": "python",
   "pygments_lexer": "ipython3",
   "version": "3.9.12"
  }
 },
 "nbformat": 4,
 "nbformat_minor": 5
}
