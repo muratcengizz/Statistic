{
 "cells": [
  {
   "cell_type": "markdown",
   "id": "31a9af42-0097-4e6a-b5ee-6a8e65493860",
   "metadata": {},
   "source": [
    "# Hipotez Testi Türleri"
   ]
  },
  {
   "cell_type": "markdown",
   "id": "b5b8d4fa-0e65-4d41-b729-7b331c17a63e",
   "metadata": {},
   "source": [
    "### Hipotez testleri, istatistiksel verilerin bir örneklem tarafından toplanması ve genel bir popülasyon hakkında bir veya daha fazla hipotez yapılması sonrasında kullanılan bir istatistiksel yöntemdir. Bu testler, hipotezlerin kabul edilip edilmeyeceğini belirlemek için kullanılır.\n",
    "\n",
    "## Hipotez Testleri İki Ana Türe Ayrılabilir:\n",
    "\n",
    "### Parametrik Hipotez Testleri: Normal dağılım gibi belirli bir popülasyon dağılımına uygun olan veriler için kullanılır. Bu tür testler, hipotez edilen parametrenin değerinin, belirli bir istatistiksel anlamlılık düzeyinde, bir tahmin aralığında olup olmadığını kontrol eder. Örnek olarak; T-testi, ANOVA, Z-testi gibi testler sayılabilir.\n",
    "\n",
    "### Non-Parametrik Hipotez Testleri: Parametrik hipotez testleriyle aynı şekilde çalışır ancak verilerin normal dağılıma uygun olmadığı durumlarda kullanılır. Bu tür testler, verilerin sıralama, sıralı olmayan testler veya örneklemden elde edilen medyan ve yüzdelik aralıklar gibi özelliklerine dayanarak hipotezlerin kabul edilip edilmeyeceğini belirler. Örnek olarak; Wicoxon testi, Mann-Whitney U testi, Kruskal-Wallis testi gibi testler sayılabilir.\n",
    "\n",
    "### Hipotez testleri, popülasyonun parametrelerine dair yapılan önermelerin test edilmesinde kullanılmaktadir. Ancak, kullanılan testin uygunluğu ve güvenilirliği için verilerin doğru bir şekilde toplanması, örnekleme yönteminin doğru seçilmesi ve istatistiksel anlamlılık düzeyinin belirlenmesi gerekmektedir."
   ]
  },
  {
   "cell_type": "markdown",
   "id": "41920aff-8977-4482-b541-7f7e2e7362b6",
   "metadata": {},
   "source": [
    "# Hata Türleri"
   ]
  },
  {
   "cell_type": "markdown",
   "id": "326bd054-ca76-4d9f-bf43-fbf681586684",
   "metadata": {},
   "source": [
    "### Tip I Hatası (α Hatası): Hipotez testinde hipotezin yanlış olduğu durumlarda yapılan hatalardır. Hipotez testinde kabul edilen anlamlılık düzeyine (α) göre, örneklem verilerinin hipotez testindeki p-değerinin α'dan küçük olması durumunda hipotez reddedilir. Ancak, α düzeyi seçimi her zaman doğru olmayabilir ve α düzeyi ne kadar küçükse, Tip I hatası, yanlış bir şekilde hipotezin reddedilmesine neden olur."
   ]
  },
  {
   "cell_type": "markdown",
   "id": "8685eaf0-89a4-4f7b-bdd9-9e31c21f1084",
   "metadata": {},
   "source": [
    "### Tip II Hatası (β Hatası): Hipotezin doğru olduğu durumlarda yapılan hatalardır. Tip II hatası, hipotezin kabul edilmesi gerektiği halde reddedilmesine neden olur. Tip II hatası, örneklemin boyutu, örneklem dağılımının seçimi, popülasyon parametreleri ve anlamlılık düzeyi gibi birçok faktöre bağlıdır. Tip II hatasının olasılığı azaltılabilir, ancak tamamen ortadan kaldırılamaz."
   ]
  },
  {
   "cell_type": "markdown",
   "id": "36ace0d2-5de8-4345-9340-5f05dd0a940b",
   "metadata": {},
   "source": [
    "### Hipotez testlerinde, hata tiplerinin varlığı test sonuçlarının yorumlanmasında dikkate alınmalıdır. Hipotez testi sonucuna göre verilen kararların doğru olup olmadığını değerlendirmede, hata tiplerinin olasılıkları ve hata tiplerinin sonuçlarına bağlı olarak alınabilecek riskler dikkate alınmalıdır."
   ]
  }
 ],
 "metadata": {
  "kernelspec": {
   "display_name": "Python 3 (ipykernel)",
   "language": "python",
   "name": "python3"
  },
  "language_info": {
   "codemirror_mode": {
    "name": "ipython",
    "version": 3
   },
   "file_extension": ".py",
   "mimetype": "text/x-python",
   "name": "python",
   "nbconvert_exporter": "python",
   "pygments_lexer": "ipython3",
   "version": "3.9.12"
  }
 },
 "nbformat": 4,
 "nbformat_minor": 5
}
