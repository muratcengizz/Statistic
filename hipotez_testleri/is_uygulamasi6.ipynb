{
 "cells": [
  {
   "cell_type": "markdown",
   "id": "1b00efd3-aedc-4d4f-b24a-bab1d34090ae",
   "metadata": {},
   "source": [
    "# İş Uygulaması: Anasayfa İçerik Stratejisi Belirlemek\n",
    "\n",
    "## Problem:\n",
    "### Anasayfa 'da geçirilen süre arttırılmak isteniyor.\n",
    "\n",
    "\n",
    "## Detaylar:\n",
    "### Bir web sitesi için başarı kriterleri: ortalama ziyaret süresi, çıkış oranı vb.\n",
    "### Uzun zaman geçiren kullanıcıların reklamlara daha fazla tıkladığı ve markaya olan bağlılıklarının arttığı biliniyor.\n",
    "### Buna yönelik olarak benzer haberler farklı resimler ya da farklı formatlarda hazırlanarak oluşturulan test gruplarına gösteriliyor.\n",
    "### A: Doğal Şekilde, B: Yönlendirici, C: İlgi Çekici"
   ]
  },
  {
   "cell_type": "code",
   "execution_count": 12,
   "id": "8d9837aa-68ac-4e7a-8f34-b542b2a80318",
   "metadata": {},
   "outputs": [],
   "source": [
    "import pandas as pd\n",
    "import numpy as np"
   ]
  },
  {
   "cell_type": "code",
   "execution_count": 13,
   "id": "8cd449d5-2217-4b1d-aa67-a5f57222e8b5",
   "metadata": {},
   "outputs": [
    {
     "data": {
      "text/html": [
       "<div>\n",
       "<style scoped>\n",
       "    .dataframe tbody tr th:only-of-type {\n",
       "        vertical-align: middle;\n",
       "    }\n",
       "\n",
       "    .dataframe tbody tr th {\n",
       "        vertical-align: top;\n",
       "    }\n",
       "\n",
       "    .dataframe thead th {\n",
       "        text-align: right;\n",
       "    }\n",
       "</style>\n",
       "<table border=\"1\" class=\"dataframe\">\n",
       "  <thead>\n",
       "    <tr style=\"text-align: right;\">\n",
       "      <th></th>\n",
       "      <th>GRUP_A</th>\n",
       "      <th>GRUP_B</th>\n",
       "      <th>GRUP_C</th>\n",
       "    </tr>\n",
       "  </thead>\n",
       "  <tbody>\n",
       "    <tr>\n",
       "      <th>0</th>\n",
       "      <td>28</td>\n",
       "      <td>31</td>\n",
       "      <td>40</td>\n",
       "    </tr>\n",
       "    <tr>\n",
       "      <th>1</th>\n",
       "      <td>33</td>\n",
       "      <td>32</td>\n",
       "      <td>33</td>\n",
       "    </tr>\n",
       "    <tr>\n",
       "      <th>2</th>\n",
       "      <td>30</td>\n",
       "      <td>30</td>\n",
       "      <td>38</td>\n",
       "    </tr>\n",
       "    <tr>\n",
       "      <th>3</th>\n",
       "      <td>29</td>\n",
       "      <td>30</td>\n",
       "      <td>41</td>\n",
       "    </tr>\n",
       "    <tr>\n",
       "      <th>4</th>\n",
       "      <td>28</td>\n",
       "      <td>33</td>\n",
       "      <td>42</td>\n",
       "    </tr>\n",
       "  </tbody>\n",
       "</table>\n",
       "</div>"
      ],
      "text/plain": [
       "   GRUP_A  GRUP_B  GRUP_C\n",
       "0      28      31      40\n",
       "1      33      32      33\n",
       "2      30      30      38\n",
       "3      29      30      41\n",
       "4      28      33      42"
      ]
     },
     "execution_count": 13,
     "metadata": {},
     "output_type": "execute_result"
    }
   ],
   "source": [
    "A = pd.DataFrame([28,33,30,29,28,29,27,31,30,32,28,33,25,29,27,31,31,30,31,34,30,32,31,34,28,32,31,28,33,29])\n",
    "\n",
    "B = pd.DataFrame([31,32,30,30,33,32,34,27,36,30,31,30,38,29,30,34,34,31,35,35,33,30,28,29,26,37,31,28,34,33])\n",
    "\n",
    "C = pd.DataFrame([40,33,38,41,42,43,38,35,39,39,36,34,35,40,38,36,39,36,33,35,38,35,40,40,39,38,38,43,40,42])\n",
    "\n",
    "dfs = [A, B, C]\n",
    "\n",
    "ABC = pd.concat(dfs, axis = 1)\n",
    "ABC.columns = [\"GRUP_A\",\"GRUP_B\",\"GRUP_C\"]\n",
    "ABC.head()"
   ]
  },
  {
   "cell_type": "markdown",
   "id": "dffdf90b-bdab-4305-b236-8b2a87a897e4",
   "metadata": {},
   "source": [
    "# Varsayım Kontrolü"
   ]
  },
  {
   "cell_type": "code",
   "execution_count": 14,
   "id": "63c9e7f8-6888-411d-8c01-5ec067a6fc52",
   "metadata": {},
   "outputs": [],
   "source": [
    "### Normallik Varsayımı\n",
    "from scipy.stats import shapiro\n",
    "import scipy.stats as stats"
   ]
  },
  {
   "cell_type": "code",
   "execution_count": 15,
   "id": "3dfbb079-3475-4f25-8e5e-1abcd3bccfa1",
   "metadata": {},
   "outputs": [
    {
     "data": {
      "text/plain": [
       "ShapiroResult(statistic=0.969743549823761, pvalue=0.5321813225746155)"
      ]
     },
     "execution_count": 15,
     "metadata": {},
     "output_type": "execute_result"
    }
   ],
   "source": [
    "shapiro(ABC['GRUP_A'])"
   ]
  },
  {
   "cell_type": "code",
   "execution_count": 16,
   "id": "0450134f-9410-4277-b49a-3cfb33b35c62",
   "metadata": {},
   "outputs": [
    {
     "data": {
      "text/plain": [
       "ShapiroResult(statistic=0.9789854884147644, pvalue=0.7979801297187805)"
      ]
     },
     "execution_count": 16,
     "metadata": {},
     "output_type": "execute_result"
    }
   ],
   "source": [
    "shapiro(ABC['GRUP_B'])"
   ]
  },
  {
   "cell_type": "code",
   "execution_count": 17,
   "id": "7cc29914-fb3e-4285-865d-aaa7fe3ee4d1",
   "metadata": {},
   "outputs": [
    {
     "data": {
      "text/plain": [
       "ShapiroResult(statistic=0.9579201340675354, pvalue=0.273820161819458)"
      ]
     },
     "execution_count": 17,
     "metadata": {},
     "output_type": "execute_result"
    }
   ],
   "source": [
    "shapiro(ABC['GRUP_C'])"
   ]
  },
  {
   "cell_type": "markdown",
   "id": "513debc0-4fa6-4f3e-96fd-9668f46e2662",
   "metadata": {},
   "source": [
    "### p-değerleri alfa değerinden küçük olmadığı için H0 hipotezi reddedilemez."
   ]
  },
  {
   "cell_type": "code",
   "execution_count": 18,
   "id": "5892cb9c-b447-4a5d-9c83-dbd4bfe3856a",
   "metadata": {},
   "outputs": [],
   "source": [
    "### Varyans Homojenliği Varsayımı"
   ]
  },
  {
   "cell_type": "code",
   "execution_count": 19,
   "id": "b990d4e0-a950-40f3-a271-d083ac118dae",
   "metadata": {},
   "outputs": [
    {
     "data": {
      "text/plain": [
       "LeveneResult(statistic=1.0267403645055275, pvalue=0.36247110117417064)"
      ]
     },
     "execution_count": 19,
     "metadata": {},
     "output_type": "execute_result"
    }
   ],
   "source": [
    "stats.levene(ABC['GRUP_A'], ABC['GRUP_B'], ABC['GRUP_C'])"
   ]
  },
  {
   "cell_type": "markdown",
   "id": "9ebd6af5-623d-4193-9d76-48f4b350f619",
   "metadata": {},
   "source": [
    "### p-value değeri alfadan küçük olmadığı için varyanslar homojendir."
   ]
  },
  {
   "cell_type": "markdown",
   "id": "372d54b0-c6e8-4fcc-8097-d0b2531277fd",
   "metadata": {},
   "source": [
    "# Hipotez Testi"
   ]
  },
  {
   "cell_type": "code",
   "execution_count": 20,
   "id": "70249036-5822-4a5f-8ca8-d844f3374500",
   "metadata": {},
   "outputs": [],
   "source": [
    "from scipy.stats import f_oneway"
   ]
  },
  {
   "cell_type": "code",
   "execution_count": 22,
   "id": "36a82fb6-6591-468d-8bff-7f466c80c3b3",
   "metadata": {},
   "outputs": [
    {
     "name": "stdout",
     "output_type": "stream",
     "text": [
      "Test İstatistiği: 74.6928, P-Value: 0.0000\n"
     ]
    }
   ],
   "source": [
    "test_statistic, p_value = f_oneway(ABC['GRUP_A'], ABC['GRUP_B'], ABC['GRUP_C'])\n",
    "print('Test İstatistiği: %.4f, P-Value: %.4f' % (test_statistic, p_value))"
   ]
  },
  {
   "cell_type": "markdown",
   "id": "9e877aa7-1d0b-4acb-97d7-33457dc3c8ef",
   "metadata": {},
   "source": [
    "### Varsayımlar doğru olmasaydı Nonparametrik test yapacaktık. Aşağıda yapalım."
   ]
  },
  {
   "cell_type": "code",
   "execution_count": 23,
   "id": "65e69e99-4a61-410d-b0a8-8afc6e47c099",
   "metadata": {},
   "outputs": [],
   "source": [
    "from scipy.stats import kruskal"
   ]
  },
  {
   "cell_type": "code",
   "execution_count": 25,
   "id": "e393b129-f01b-4309-bf5d-346af33920f6",
   "metadata": {},
   "outputs": [
    {
     "data": {
      "text/plain": [
       "KruskalResult(statistic=54.19819735523783, pvalue=1.7022015426175926e-12)"
      ]
     },
     "execution_count": 25,
     "metadata": {},
     "output_type": "execute_result"
    }
   ],
   "source": [
    "kruskal(ABC['GRUP_A'], ABC['GRUP_B'], ABC['GRUP_C'])"
   ]
  },
  {
   "cell_type": "markdown",
   "id": "eb38e9ad-0999-42bd-a90b-7c474a3220d6",
   "metadata": {},
   "source": [
    "### Gruplar arası anlamlı benzerlik yoktur. H0 hipotezi reddedilir."
   ]
  }
 ],
 "metadata": {
  "kernelspec": {
   "display_name": "Python 3 (ipykernel)",
   "language": "python",
   "name": "python3"
  },
  "language_info": {
   "codemirror_mode": {
    "name": "ipython",
    "version": 3
   },
   "file_extension": ".py",
   "mimetype": "text/x-python",
   "name": "python",
   "nbconvert_exporter": "python",
   "pygments_lexer": "ipython3",
   "version": "3.9.12"
  }
 },
 "nbformat": 4,
 "nbformat_minor": 5
}
