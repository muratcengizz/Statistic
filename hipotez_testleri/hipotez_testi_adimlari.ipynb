{
 "cells": [
  {
   "cell_type": "markdown",
   "id": "56347bb1-1e3a-4a59-a5ea-02a88fea6061",
   "metadata": {},
   "source": [
    "# Hipotez Testi Adımları"
   ]
  },
  {
   "cell_type": "markdown",
   "id": "14c94c84-71e2-4fa0-b3c0-370ecc07b46b",
   "metadata": {},
   "source": [
    "### İstatistikte hipotez testi genel olarak bir örneklem verisi üzerinden, bir veya daha fazla popülasyon özelliklerinin (parametrelerinin) belirli bir değerde olup olmadığını test etmek için kullanılır. Hipotez testi adımları aşağıdaki gibidir:\n",
    "\n",
    "### 1. Adım: Hipotezlerin Belirlenmesi - İlk olarak, test edilecek hipotezler belirlenir. Bu adımda, genellikle 'null' hipotezi (H0) ve alternatif hipotezi (H1) formüle edilir.\n",
    "\n",
    "### 2. Adım: Test İstatistiğinin Belirlenmesi: Test istatistiği, örneklem verisi kullanılarak hesaplanan bir değerdir ve hipotezi test etmek için kullanılır. \n",
    "\n",
    "### 3. Adım: Anlamlılık Düzeyinin Belirlenmesi: Anlamlılık düzeyi, H0 hipotezini reddetme eşiği olarak belirlenir ve genellikle %5 olarak belirlenir. Yani, bir test istatistiği, belirli bir anlamlılık düzeyinde kritik değerden büyükse, H0 hipotezi reddedilir.\n",
    "\n",
    "### 4. Adım: Test İstatistiğinin Hesaplanması: Test istatistiği, örneklem verisi kullanılarak hesaplanır.\n",
    "\n",
    "### 5. Adım: P-Değerinin Hesaplanması: P-değeri, test istatistiğinin H0 altında gözlenme olasılığını gösterir. P-değeri, test istatistiğinin dağılımı ve anlamlılık düzeyi kullanılarak hesaplanır.\n",
    "\n",
    "### 6. Adım: Karar Verme: Son olarak, elde edilen p-değeri anlamlılık düzeyinden küçükse (p < 0.05), H0 hipotezi reddedilir ve alternatif hipotez kabul edilir. Aksi taktirde, H0 hipotezi reddedilmez ve kabul edilir.\n",
    "\n",
    "### NOT: Hipotez testi, iki yönlü veya tek yönlü olabilir. İki yönlü testlerde, hipotezin kabul edilmesi veya reddedilmesi, iki yönde de mümkünken, tek yönlü testlerde, hipotezin sadece bir yönde kabul edilmesi veya reddedilmesi mümkündür."
   ]
  }
 ],
 "metadata": {
  "kernelspec": {
   "display_name": "Python 3 (ipykernel)",
   "language": "python",
   "name": "python3"
  },
  "language_info": {
   "codemirror_mode": {
    "name": "ipython",
    "version": 3
   },
   "file_extension": ".py",
   "mimetype": "text/x-python",
   "name": "python",
   "nbconvert_exporter": "python",
   "pygments_lexer": "ipython3",
   "version": "3.9.12"
  }
 },
 "nbformat": 4,
 "nbformat_minor": 5
}
