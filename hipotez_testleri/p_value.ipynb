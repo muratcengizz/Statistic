{
 "cells": [
  {
   "cell_type": "markdown",
   "id": "42f6e508-bc24-4dae-b8a3-9acac2de9c05",
   "metadata": {},
   "source": [
    "# P-value"
   ]
  },
  {
   "cell_type": "markdown",
   "id": "2b1cb8c7-e864-4688-9779-d8816297052c",
   "metadata": {},
   "source": [
    "### P-value, istatistikte bir hipotezin doğru olma olasılığına ilişkin bir ölçüdür. Bir hipotez testi yapılırken, önceden belirlenmiş bir önem düzeyi ile karşılaştırılan bir test istatistiği hesaplanır. P-value, bu test istatistiği altında hipotezin doğru olma olasılığıdır.\n",
    "\n",
    "### Genellikle, p-value önem düzeyi olarak seçilen alfa değeri (örneğin, 0.05) ile karşılaştırılır. Eğer p-value, alfa değerinden küçükse, bu, hipotezi reddetmenin istatistiksel olarak anlamlı olduğunu gösterir. Yani, sonuçların şans eseri oluşma olasılığı alfa değerinden daha düşüktür.\n",
    "\n",
    "### P-value, hipotez testlerinde kullanılan önemli bir araçtır ve istatistiksel sonuçların anlaşılması ve raporlanması açısından önemlidir. Ancak, p-value yalnızca hipotez testinin sonucu hakkında bilgi verir ve bir sonucun önemli olduğu anlamına gelmez. Ayrıca, p-value yanıltıcı olabilir, özellikle de çok sayıda hipotez testi yapılırken. Bu nedenle, p-value ile birlikte başka istatistiksel yöntemler ve yorumlama stratejileri de kullanılmalıdır."
   ]
  }
 ],
 "metadata": {
  "kernelspec": {
   "display_name": "Python 3 (ipykernel)",
   "language": "python",
   "name": "python3"
  },
  "language_info": {
   "codemirror_mode": {
    "name": "ipython",
    "version": 3
   },
   "file_extension": ".py",
   "mimetype": "text/x-python",
   "name": "python",
   "nbconvert_exporter": "python",
   "pygments_lexer": "ipython3",
   "version": "3.9.12"
  }
 },
 "nbformat": 4,
 "nbformat_minor": 5
}
