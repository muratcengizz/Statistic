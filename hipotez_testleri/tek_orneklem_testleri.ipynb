{
 "cells": [
  {
   "cell_type": "markdown",
   "id": "669dcf7c-daa6-433e-90dd-c66b504669d8",
   "metadata": {},
   "source": [
    "# Tek Örneklem T Testi: Test İstatistiği"
   ]
  },
  {
   "cell_type": "markdown",
   "id": "de0212c8-fd5b-4a25-aa92-d7ec7031ff5a",
   "metadata": {},
   "source": [
    "### Tek örneklem t-testi, bir örneklem veri setinin popülasyon ortalamasından farklı olup olmadığını test etmek için kullanılan istatistiksel bir testtir. Bu test, tek bir örneklem veri seti kullanılarak bir popülasyon hakkında bir çıkarım yapmayı amaçlar.\n",
    "\n",
    "### Tek örneklem t-testi, normalliği varsayılan veri setlerinde kullanılır ve iki taraflı ya da tek taraflı olabilir. Normalliği sağlanmayan veri setleri içinse Wilcoxon işaretli sıralar testi kullanılabilir.\n",
    "\n",
    "### Bu test, hipotez testi yöntemleri arasında yer alır ve şu adımlar izlenir:\n",
    "\n",
    "### 1. Hipotezlerin belirlenmesi: Genellikle, null hipotezi (H0) örneklem ortalamasının popülasyon ortalamasına eşit olduğunu, alternatif hipotezi (H1) ise örneklem ortalamasının popülasyın ortalamasından farklı olduğunu ifade eder.\n",
    "\n",
    "### 2. Anlamlılık Düzeyinin Belirlenmesi: Test sonucunun anlamlılık düzeyi belirlenir. Anlamlılık düzeyi, tipik olarak %5 olarak belirlenir.\n",
    "\n",
    "### 3. Test İstatistiğinin Hesaplanması: Örneklem verileri kullanılarak test istatistiği hesaplanır. Bu, t dağılımına göre hesaplanır.\n",
    "\n",
    "### 4. Kritik değerin belirlenmesi: Test istatistiği, kritik değeri le karşılaştırılır. Kritik değer, belirlenen anlamlılık düzeyine ve serbestlik derecesine bağlı olarak t dağılımı tablosundan bulunur.\n",
    "\n",
    "### 5. Karar Verme: Test istatistiği, kritik değerden büyükse, null hipotezi reddedilir ve alternatif hipotez kabul edilir. Aksi taktirde, null hipotezi kabul edilir.\n",
    "\n",
    "### Tek örneklem t-testi, örneklem büyüklüğünün küçük olması veya standart sapmanın bilinmemesi gibi durumlarda da kullanılabilir. Ancak, örneklem büyüklüğü yeterince büyükse, z-testi de kullanılabilir."
   ]
  },
  {
   "cell_type": "markdown",
   "id": "9bf35127-0abb-4cb0-9d4e-7bec5d8a96b1",
   "metadata": {},
   "source": [
    "# ----------------------------------------------------------------"
   ]
  },
  {
   "cell_type": "markdown",
   "id": "869fd8a9-744d-4282-b277-b18a3451bf56",
   "metadata": {},
   "source": [
    "# Tek Örneklem Z Testi"
   ]
  },
  {
   "cell_type": "markdown",
   "id": "afe26c8a-6816-4f84-a9f8-905ec74ccd96",
   "metadata": {
    "jp-MarkdownHeadingCollapsed": true,
    "tags": []
   },
   "source": [
    "### Tek Örneklem Z Testi, bir örneklem veri setindeki bir populasyon ortalamasının belirli bir değere eşit olup olmadığını test etmek için kullanılan istatistiksel bir testtir. Bu testte, örneklem büyüklüğü n > 30 olduğunda ve/veya populasyon standart sapması bilindiğinde kullanılır.\n",
    "\n",
    "### Tek örneklem Z testi, hipotez testi olarak formüle edilir. Öncelikle, varsayılan hipotez (null) H0 ve alternatif hipotez (H1) belirlenir. Varsayılan hipotez, test edilmek istenen şeydir ve genellikle,\n",
    "\n",
    "### H0: populasyon ortalaması = belirli bir değer \n",
    "\n",
    "### şeklinde ifade edilir. Alternatif hipotez, H0 'nin doğru olmadığı durumları ifade eder ve genellikle,\n",
    "\n",
    "### H1: populasyon ortalaması ≠ belirli bir değer şeklinde ifade edilir.\n",
    "\n",
    "### Daha sonra, örneklem verilerinin ortalaması ile varsayılan popülasyon ortalaması arasındaki farkın standart hata hesaplanır ve bu değer kullanılarak bir Z istatistiği hesaplanır. Bu Z değeri, örneklem verilerinin populasyon ortalamasına göre ne kadar uzak olduğunu gösterir.\n",
    "\n",
    "### Son olarak, hesaplanan Z değeri, kabul edilebilir bir anlamlılık düzeyinde (genellikle %5 veya %1 gibi) kritik Z değeriyle karşılaştırılır. Eğer hesaplanan Z değeri kritik Z değerinden büyükse, varsayılan hipotez reddedilir ve alternatif hipotez kabul edilir. Bu durumda, örneklem verilerinin populasyon ortalamasından anlamlı bir şekilde farklı olduğu sonucuna varılır. Aksi taktirde, varsayılan hipotez kabul edilir ve örneklem verileri ile populasyon ortalaması arasında anlamlı bir fark olmadığı sonucuna varılır."
   ]
  },
  {
   "cell_type": "markdown",
   "id": "b3e56f26-4b03-43ad-b4e0-6d69a8c10b6d",
   "metadata": {},
   "source": [
    "# --------------------------------------------------------------"
   ]
  },
  {
   "cell_type": "markdown",
   "id": "56b45b28-09ad-45c3-ab90-80c0969548a5",
   "metadata": {},
   "source": [
    "# Z Testi ve T Testi Arasındaki Farklar Nelerdir ?"
   ]
  },
  {
   "cell_type": "markdown",
   "id": "7097618d-a469-4861-811a-14ee7e9c6a2e",
   "metadata": {},
   "source": [
    "### Z-testi ve T-testi, istatistiksel hipotez testlerinde sıklıkla kullanılan iki testtir. Temel farklılıkları, kullanım amacı ve veri türüdür.\n",
    "\n",
    "### Z-testi, bir populasyonun bilinen varyansına dayalı olarak ortalaması hakkında bir hipotezin test edilmesinde kullanılır. Örneklem büyüklüğü genellikle büyük olan durumlarda kullanılır ve normal dağılım varsayımı sağlandığında en iyi sonuçları verir. Örneğin, bir reklam kampanyasının satışları artırıp arttırmadığını test etmek için kullanılabilir. \n",
    "\n",
    "### T-testi ise, bir popülasyonun bilinmeyen varyansına dayalı olarak ortalaması hakkında bir hipotezin test edilmesinde kullanılır. Örneklem büyüklüğü genellikle küçük olan durumlarda kullanılır. T-testi, verilerin normal dağılımından sapmaları olduğunda da kullanılabilir. Örneğin, bir ilaç tedavisinin etkisini test etmek için kullanılabilir.\n",
    "\n",
    "### Özetle, z-testi bilinen varyansa sahip büyük örneklem verileri ile çalışırken, t-testi bilinmeyen varyansa sahip küçük örneklem verileri ile çalışır. Ancak, her iki test de hipotez testleri için kullanılabilir ve istatistiktsel analizde önemli araçlardır."
   ]
  },
  {
   "cell_type": "markdown",
   "id": "fb6684a0-edcd-4f2e-bfb9-c318d1e2cc3b",
   "metadata": {},
   "source": [
    "### Anakütle standart sapması biliniyorsa z istatistiği kullanılır.\n",
    "\n",
    "### Anakütle standart sapması bilinmiyorsa ve n > 30 ise z istatistiği kullanılır.\n",
    "\n",
    "### Anakütle standart sapması bilinmiyor ve n < 30 ise t istatistiği kullanılır."
   ]
  }
 ],
 "metadata": {
  "kernelspec": {
   "display_name": "Python 3 (ipykernel)",
   "language": "python",
   "name": "python3"
  },
  "language_info": {
   "codemirror_mode": {
    "name": "ipython",
    "version": 3
   },
   "file_extension": ".py",
   "mimetype": "text/x-python",
   "name": "python",
   "nbconvert_exporter": "python",
   "pygments_lexer": "ipython3",
   "version": "3.9.12"
  }
 },
 "nbformat": 4,
 "nbformat_minor": 5
}
