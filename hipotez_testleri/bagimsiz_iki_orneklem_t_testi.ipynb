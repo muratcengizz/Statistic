{
 "cells": [
  {
   "cell_type": "markdown",
   "id": "5b93f026-38d7-4461-a80f-c628755fbf3b",
   "metadata": {},
   "source": [
    "# Bağımsız İki Örneklem T Testi (AB Testi)\n",
    "\n",
    "### İki grup ortalaması arasında karşılaştırma yapılmak istenildiğinde kullanılır."
   ]
  },
  {
   "cell_type": "markdown",
   "id": "d2ec5490-ff80-40e8-b17d-ae99e1de5223",
   "metadata": {},
   "source": [
    "### Bağımsız iki örneklem t-testi, iki farklı grup arasındaki ortalama değerlerin karşılaştırılması için kullanılan bir hipotez testidir. Bu test, grupların birbirinden bağımsız olduğu durumlarda uygulanır.\n",
    "\n",
    "### Örneğin, bir web sitesinin orjinal versiyonu ve yeni bir versiyonu arasındaki kullanıcı etkileşimlerinin farkını ölçmek isteyebiliriz. Bu durumda, önce kullanıcıların rastgele seçilmiş iki grup oluşturulur. Bir grup orjinal sürümü kullanırken, diğer grup yeni sürümü kullanır. Bu gruplar arasındaki ortalamaların karşılaştırılması, testin temel prensibidir.\n",
    "\n",
    "### Bağımsız iki örneklem t-testi, her iki grubun örneklem büyüklüğü, ortalaması ve standart sapması dikkate alınarak, iki grup arasındaki anlamlı bir farklılık olup olmadığını belirlemek için kullanılır. Test sonucunda, p-değeri hesaplanır ve belirlenen alfa düzeyiyle karşılaştırılır. Eğer p-değeri alfa düzeyinden küçükse, gruplar arasında anlamlı bir farklılık olduğu kabul edilir."
   ]
  },
  {
   "cell_type": "markdown",
   "id": "99084880-9c5f-4a53-a830-f41a302d3e07",
   "metadata": {},
   "source": [
    "# Varsayımlar:\n",
    "\n",
    "### Normallik\n",
    "### Varyans Homojenliği"
   ]
  }
 ],
 "metadata": {
  "kernelspec": {
   "display_name": "Python 3 (ipykernel)",
   "language": "python",
   "name": "python3"
  },
  "language_info": {
   "codemirror_mode": {
    "name": "ipython",
    "version": 3
   },
   "file_extension": ".py",
   "mimetype": "text/x-python",
   "name": "python",
   "nbconvert_exporter": "python",
   "pygments_lexer": "ipython3",
   "version": "3.9.12"
  }
 },
 "nbformat": 4,
 "nbformat_minor": 5
}
