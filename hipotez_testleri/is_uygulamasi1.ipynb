{
 "cells": [
  {
   "cell_type": "markdown",
   "id": "cad87ecf-a584-4c4c-94fc-0243e27d2dbf",
   "metadata": {},
   "source": [
    "# İş Uygulaması: Ürün Satın Alma Adım Optimizasyonu"
   ]
  },
  {
   "cell_type": "markdown",
   "id": "d6600c3f-bd66-4f2b-ab83-7353b685637e",
   "metadata": {},
   "source": [
    "## Problem:\n",
    "#### Sepete ürün ekleme işlemi sonrasında ödeme ekranında 5 adım vardır ve bu adımların birisi sorgulanmaktadır.\n",
    "\n",
    "## Detaylar:\n",
    "### Her adımın 20'şer sn. olması hedefi var. 4. adım sorgulanıyor.\n",
    "### Bu durumu test etmek için 100 örnek alınıyor.\n",
    "### Örneklem standart sapması 5 saniyedir. Örneklem ortalaması ise 19 saniyedir."
   ]
  },
  {
   "cell_type": "markdown",
   "id": "6d77d989-8a5f-4c46-9a35-f7a2f5b616f3",
   "metadata": {},
   "source": [
    "# ------------------------------------------------------------\n",
    "\n",
    "\n",
    "### Adım 1: Hipotezlerin kurulması ve yönlerinin belirlenmesi.\n",
    "\n",
    "\n",
    "Örnek ortalamasına ilişkin test yapmak için kullanılır.\n",
    "\n",
    "\n",
    "<d><i>H</i><sub>0</sub>: <i>μ</i> = <i>20</i></d>   \n",
    "<d><i>H</i><sub>1</sub>: <i>μ</i> ≠ <i>20</i></d><br><br>\n",
    "\n",
    "### Birinci hipotez olan H0: 4. adımda geçirilen süre ortalaması 20 saniyeye eşittir.\n",
    "### İkinci hipotez olan H1: 4. adımda geçirilen süre ortalaması 20 saniyeye eşit değildir.\n",
    "\n",
    "# ---------------------------------------------------------"
   ]
  },
  {
   "cell_type": "markdown",
   "id": "23eb6104-07e7-4e8c-9758-6c49e16fe5a9",
   "metadata": {
    "tags": []
   },
   "source": [
    "### Adım 2: Anlamlılık düzeyinin ve tablo değerinin belirlenmesi\n",
    "\n",
    "### α = 0.05\n",
    "### a/2 = 0.025\n",
    "\n",
    "### Z-tablo tablo olasılık değeri: 0,5 - 0,025 = 0,475\n",
    "### Z-tablo kritik değer = -/+ 1,96\n",
    "\n",
    "\n",
    "# -----------------------------------------------------------------"
   ]
  },
  {
   "cell_type": "markdown",
   "id": "3b721dce-07cf-40f2-a18f-7f9138f22d50",
   "metadata": {
    "tags": []
   },
   "source": [
    "### Adım 3: Test istatistiğinin belirlenmesi ve test istatistiğinin hesaplanması"
   ]
  },
  {
   "cell_type": "markdown",
   "id": "95b0a49c-1719-4b51-b927-4bd408a6d86e",
   "metadata": {},
   "source": [
    "### Z-hesap = 19 - 20 / ( 5 / √100 ) = -2,00\n",
    "\n",
    "\n",
    "# ---------------------------------------------------------"
   ]
  },
  {
   "cell_type": "markdown",
   "id": "70f35e79-f89a-4ba7-9502-18d8ce23891a",
   "metadata": {},
   "source": [
    "### Adım 4: Z-tablo ve Z-hesap karşılaştırılması Zh > Zt ya da -Zh < -Zt ise H0 Red edilir.\n",
    "\n",
    "### Zhesap = -2,00 < Ztablo = -1,96 olduğu için H0 reddedilir.\n",
    "\n",
    "\n",
    "# ----------------------------------------------------------"
   ]
  },
  {
   "cell_type": "markdown",
   "id": "bca1badb-4bb2-4642-8d09-b45920f54e53",
   "metadata": {
    "tags": []
   },
   "source": [
    "### Adım 5: Yorum\n",
    "\n",
    "<d><i>H</i><sub>0</sub>: <i>μ</i> = <i>20</i></d>   \n",
    "<d><i>H</i><sub>1</sub>: <i>μ</i> ≠ <i>20</i></d><br><br>\n",
    "\n",
    "### 4. adımda geçirilen sürenin 20 saniye olduğunu iddia eden H0 hipotezi reddedilmiştir. Buna göre kullanıcılar istatistiksel olarak yüzde 95 güvenirlik ile 4. adımda 20 saniyeden farklı zaman geçirmektedir."
   ]
  }
 ],
 "metadata": {
  "kernelspec": {
   "display_name": "Python 3 (ipykernel)",
   "language": "python",
   "name": "python3"
  },
  "language_info": {
   "codemirror_mode": {
    "name": "ipython",
    "version": 3
   },
   "file_extension": ".py",
   "mimetype": "text/x-python",
   "name": "python",
   "nbconvert_exporter": "python",
   "pygments_lexer": "ipython3",
   "version": "3.9.12"
  }
 },
 "nbformat": 4,
 "nbformat_minor": 5
}
