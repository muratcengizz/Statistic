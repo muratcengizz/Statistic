{
 "cells": [
  {
   "cell_type": "markdown",
   "id": "7c73d3c8-9eac-4337-a021-5e9abeb26f57",
   "metadata": {},
   "source": [
    "# Korelasyon Analizi\n",
    "\n",
    "### Değişkenler arasındaki ilişki, bu ilişkinin yönü ve şiddeti ile ilgili bilgiler sağlayan istatistiksel bir yöntemdir."
   ]
  },
  {
   "cell_type": "markdown",
   "id": "9bcdb3b2-f642-4a3d-a935-aadd5699e6ef",
   "metadata": {},
   "source": [
    "### İki değişken arasındaki varlığını ve gücünü ölçmek için kullanılan bir yöntemdir. Bu yöntem, değişkenler arasındaki ilişkinin doğasını anlamak, gelecekteki davranışları tahmin etmek veya bir değişkenin diğerine olan etkisini belirlemek için kullanılabilir.\n",
    "\n",
    "### Korelasyon analizi, Pearson korelasyon katsayısı (r) veya Spearman sıralı korelasyon katsayısı gibi istatistiksel ölçütler kullanılarak gerçekleştirilebilir. Pearson korelasyon katsayısı, iki sürekli değişken arasındaki doğrusal ilişkiyi ölçerken, Spearman korelasyon katsayısı, iki değişken arasındaki ilişkiyi sıralama düzeyinde ölçer.\n",
    "\n",
    "### Korelasyon analizi, istatistiksel verilerin analizinde yaygın olarak kullanılan bir tekniktir ve birçok alanda uygulanabilir, örneğin ekonomi, psikoloji, sosyoloji ve diğer bilim dallarında."
   ]
  },
  {
   "cell_type": "markdown",
   "id": "fd94bd09-0098-441b-900c-ee3571fbf566",
   "metadata": {
    "tags": []
   },
   "source": [
    "# Hipotezler:\n",
    "\n",
    "### H0: p = 0\n",
    "### H1: p ≠ 0"
   ]
  },
  {
   "cell_type": "markdown",
   "id": "6c914544-dd06-4efe-aaf9-cba87f0cd967",
   "metadata": {},
   "source": [
    "# Varsayımlar\n",
    "\n",
    "### İki değişken içinde normallik varsayımı.\n",
    "### Varsayım sağlanıyorsa Pearson Korelasyon Katsayısı\n",
    "### Varsayım sağlanmıyorsa Spearman Korelasyon Katsayısı"
   ]
  },
  {
   "cell_type": "markdown",
   "id": "4b9a1d1b-18cb-470f-83d2-8d57f44ec0ea",
   "metadata": {},
   "source": [
    "# İş Uygulaması: Bahşiş İle Hesap Arasındaki İlişkinin İncelenmesi"
   ]
  },
  {
   "cell_type": "markdown",
   "id": "ec33c394-8643-4625-b8a3-312ec4aa4a6f",
   "metadata": {},
   "source": [
    "### Bahşiş ile ödenen hesap arasında korelasyon var mı ?\n",
    "\n",
    "### H0: p = 0\n",
    "### H1: p ≠ 0"
   ]
  },
  {
   "cell_type": "code",
   "execution_count": 1,
   "id": "65fd6c5c-cdb3-4ed0-8fda-64e014a602a5",
   "metadata": {},
   "outputs": [],
   "source": [
    "import seaborn as sns\n",
    "import pandas as pd"
   ]
  },
  {
   "cell_type": "code",
   "execution_count": 2,
   "id": "772bb4dd-33f8-465a-9eb9-60931f4ebab4",
   "metadata": {},
   "outputs": [
    {
     "data": {
      "text/html": [
       "<div>\n",
       "<style scoped>\n",
       "    .dataframe tbody tr th:only-of-type {\n",
       "        vertical-align: middle;\n",
       "    }\n",
       "\n",
       "    .dataframe tbody tr th {\n",
       "        vertical-align: top;\n",
       "    }\n",
       "\n",
       "    .dataframe thead th {\n",
       "        text-align: right;\n",
       "    }\n",
       "</style>\n",
       "<table border=\"1\" class=\"dataframe\">\n",
       "  <thead>\n",
       "    <tr style=\"text-align: right;\">\n",
       "      <th></th>\n",
       "      <th>total_bill</th>\n",
       "      <th>tip</th>\n",
       "      <th>sex</th>\n",
       "      <th>smoker</th>\n",
       "      <th>day</th>\n",
       "      <th>time</th>\n",
       "      <th>size</th>\n",
       "    </tr>\n",
       "  </thead>\n",
       "  <tbody>\n",
       "    <tr>\n",
       "      <th>0</th>\n",
       "      <td>16.99</td>\n",
       "      <td>1.01</td>\n",
       "      <td>Female</td>\n",
       "      <td>No</td>\n",
       "      <td>Sun</td>\n",
       "      <td>Dinner</td>\n",
       "      <td>2</td>\n",
       "    </tr>\n",
       "    <tr>\n",
       "      <th>1</th>\n",
       "      <td>10.34</td>\n",
       "      <td>1.66</td>\n",
       "      <td>Male</td>\n",
       "      <td>No</td>\n",
       "      <td>Sun</td>\n",
       "      <td>Dinner</td>\n",
       "      <td>3</td>\n",
       "    </tr>\n",
       "    <tr>\n",
       "      <th>2</th>\n",
       "      <td>21.01</td>\n",
       "      <td>3.50</td>\n",
       "      <td>Male</td>\n",
       "      <td>No</td>\n",
       "      <td>Sun</td>\n",
       "      <td>Dinner</td>\n",
       "      <td>3</td>\n",
       "    </tr>\n",
       "    <tr>\n",
       "      <th>3</th>\n",
       "      <td>23.68</td>\n",
       "      <td>3.31</td>\n",
       "      <td>Male</td>\n",
       "      <td>No</td>\n",
       "      <td>Sun</td>\n",
       "      <td>Dinner</td>\n",
       "      <td>2</td>\n",
       "    </tr>\n",
       "    <tr>\n",
       "      <th>4</th>\n",
       "      <td>24.59</td>\n",
       "      <td>3.61</td>\n",
       "      <td>Female</td>\n",
       "      <td>No</td>\n",
       "      <td>Sun</td>\n",
       "      <td>Dinner</td>\n",
       "      <td>4</td>\n",
       "    </tr>\n",
       "  </tbody>\n",
       "</table>\n",
       "</div>"
      ],
      "text/plain": [
       "   total_bill   tip     sex smoker  day    time  size\n",
       "0       16.99  1.01  Female     No  Sun  Dinner     2\n",
       "1       10.34  1.66    Male     No  Sun  Dinner     3\n",
       "2       21.01  3.50    Male     No  Sun  Dinner     3\n",
       "3       23.68  3.31    Male     No  Sun  Dinner     2\n",
       "4       24.59  3.61  Female     No  Sun  Dinner     4"
      ]
     },
     "execution_count": 2,
     "metadata": {},
     "output_type": "execute_result"
    }
   ],
   "source": [
    "tips = sns.load_dataset('tips')\n",
    "df = tips.copy()\n",
    "df.head()"
   ]
  },
  {
   "cell_type": "markdown",
   "id": "bbe42b76-6b85-4292-a39a-ca53e12cd9fc",
   "metadata": {},
   "source": [
    "### Toplam hesap değişkenine bahşiş ve vergiler de dahil. Bu yüzden toplam hesap değişkenini arındırmak için toplam hesaptan bahşiş ve vergiler kısmını çıkartıp daha sonra toplam hesap ve bahşiş değişkenleri arasında korelasyon analizi yapmamız gerekir."
   ]
  },
  {
   "cell_type": "code",
   "execution_count": 3,
   "id": "3c36c8c5-0738-44ab-8843-7f883a47a189",
   "metadata": {},
   "outputs": [],
   "source": [
    "df['total_bill'] = df['total_bill'] - df['tip']"
   ]
  },
  {
   "cell_type": "code",
   "execution_count": 4,
   "id": "2d997572-0ad7-4cf8-9d8a-513ef996a1d9",
   "metadata": {},
   "outputs": [
    {
     "data": {
      "text/html": [
       "<div>\n",
       "<style scoped>\n",
       "    .dataframe tbody tr th:only-of-type {\n",
       "        vertical-align: middle;\n",
       "    }\n",
       "\n",
       "    .dataframe tbody tr th {\n",
       "        vertical-align: top;\n",
       "    }\n",
       "\n",
       "    .dataframe thead th {\n",
       "        text-align: right;\n",
       "    }\n",
       "</style>\n",
       "<table border=\"1\" class=\"dataframe\">\n",
       "  <thead>\n",
       "    <tr style=\"text-align: right;\">\n",
       "      <th></th>\n",
       "      <th>total_bill</th>\n",
       "      <th>tip</th>\n",
       "      <th>sex</th>\n",
       "      <th>smoker</th>\n",
       "      <th>day</th>\n",
       "      <th>time</th>\n",
       "      <th>size</th>\n",
       "    </tr>\n",
       "  </thead>\n",
       "  <tbody>\n",
       "    <tr>\n",
       "      <th>0</th>\n",
       "      <td>15.98</td>\n",
       "      <td>1.01</td>\n",
       "      <td>Female</td>\n",
       "      <td>No</td>\n",
       "      <td>Sun</td>\n",
       "      <td>Dinner</td>\n",
       "      <td>2</td>\n",
       "    </tr>\n",
       "    <tr>\n",
       "      <th>1</th>\n",
       "      <td>8.68</td>\n",
       "      <td>1.66</td>\n",
       "      <td>Male</td>\n",
       "      <td>No</td>\n",
       "      <td>Sun</td>\n",
       "      <td>Dinner</td>\n",
       "      <td>3</td>\n",
       "    </tr>\n",
       "    <tr>\n",
       "      <th>2</th>\n",
       "      <td>17.51</td>\n",
       "      <td>3.50</td>\n",
       "      <td>Male</td>\n",
       "      <td>No</td>\n",
       "      <td>Sun</td>\n",
       "      <td>Dinner</td>\n",
       "      <td>3</td>\n",
       "    </tr>\n",
       "    <tr>\n",
       "      <th>3</th>\n",
       "      <td>20.37</td>\n",
       "      <td>3.31</td>\n",
       "      <td>Male</td>\n",
       "      <td>No</td>\n",
       "      <td>Sun</td>\n",
       "      <td>Dinner</td>\n",
       "      <td>2</td>\n",
       "    </tr>\n",
       "    <tr>\n",
       "      <th>4</th>\n",
       "      <td>20.98</td>\n",
       "      <td>3.61</td>\n",
       "      <td>Female</td>\n",
       "      <td>No</td>\n",
       "      <td>Sun</td>\n",
       "      <td>Dinner</td>\n",
       "      <td>4</td>\n",
       "    </tr>\n",
       "  </tbody>\n",
       "</table>\n",
       "</div>"
      ],
      "text/plain": [
       "   total_bill   tip     sex smoker  day    time  size\n",
       "0       15.98  1.01  Female     No  Sun  Dinner     2\n",
       "1        8.68  1.66    Male     No  Sun  Dinner     3\n",
       "2       17.51  3.50    Male     No  Sun  Dinner     3\n",
       "3       20.37  3.31    Male     No  Sun  Dinner     2\n",
       "4       20.98  3.61  Female     No  Sun  Dinner     4"
      ]
     },
     "execution_count": 4,
     "metadata": {},
     "output_type": "execute_result"
    }
   ],
   "source": [
    "df.head()"
   ]
  },
  {
   "cell_type": "code",
   "execution_count": 6,
   "id": "002deff7-01a8-47d2-bc7e-a2a9817f53f2",
   "metadata": {},
   "outputs": [
    {
     "data": {
      "image/png": "[encoded data removed]",
      "text/plain": [
       "<Figure size 432x288 with 1 Axes>"
      ]
     },
     "metadata": {
      "needs_background": "light"
     },
     "output_type": "display_data"
    }
   ],
   "source": [
    "sns.scatterplot(data=df, x='tip', y='total_bill');"
   ]
  },
  {
   "cell_type": "markdown",
   "id": "eee8ad87-a6a8-4b69-bc35-37a29f35abde",
   "metadata": {},
   "source": [
    "### Toplam hesap arttıkça tip 'de artmış gibi gözüküyor."
   ]
  },
  {
   "cell_type": "markdown",
   "id": "318dbff6-d39c-4fa2-8eb4-a59bca67231b",
   "metadata": {},
   "source": [
    "# Normallik Varsayım Kontrolü"
   ]
  },
  {
   "cell_type": "code",
   "execution_count": 7,
   "id": "2f6f191e-f06f-48dd-ac53-1a7b8b14d521",
   "metadata": {},
   "outputs": [],
   "source": [
    "from scipy.stats import shapiro"
   ]
  },
  {
   "cell_type": "code",
   "execution_count": 9,
   "id": "47e969aa-7acb-4d8e-bf4b-242db5b2cc16",
   "metadata": {},
   "outputs": [
    {
     "name": "stdout",
     "output_type": "stream",
     "text": [
      "Test İstatistiği: 0.8978, P-Value: 0.0000\n",
      "Test İstatistiği: 0.9136, P-Value: 0.0000\n"
     ]
    }
   ],
   "source": [
    "test_statistic, p_value = shapiro(df['tip'])\n",
    "print('Test İstatistiği: %.4f, P-Value: %.4f' % (test_statistic, p_value))\n",
    "\n",
    "test_statistic, p_value = shapiro(df['total_bill'])\n",
    "print('Test İstatistiği: %.4f, P-Value: %.4f' % (test_statistic, p_value))"
   ]
  },
  {
   "cell_type": "markdown",
   "id": "fb9f356e-c500-448f-960e-df3ef1f00c7a",
   "metadata": {},
   "source": [
    "### H0 reddedildi."
   ]
  },
  {
   "cell_type": "markdown",
   "id": "5d67e961-0c71-476e-8726-658f063acdbc",
   "metadata": {},
   "source": [
    "# Hipotez Testi"
   ]
  },
  {
   "cell_type": "markdown",
   "id": "a810558a-2dc2-47c5-a51e-8729efc3c349",
   "metadata": {},
   "source": [
    "## Korelasyon Katsayısı"
   ]
  },
  {
   "cell_type": "code",
   "execution_count": 11,
   "id": "dfd1a940-09a5-4309-863a-e360b59717c9",
   "metadata": {},
   "outputs": [
    {
     "data": {
      "text/plain": [
       "0.5766634471096374"
      ]
     },
     "execution_count": 11,
     "metadata": {},
     "output_type": "execute_result"
    }
   ],
   "source": [
    "df['tip'].corr(df['total_bill'])"
   ]
  },
  {
   "cell_type": "code",
   "execution_count": 12,
   "id": "ffffca97-8b86-4185-a65f-b58c0a89c95a",
   "metadata": {},
   "outputs": [
    {
     "data": {
      "text/plain": [
       "0.593691939408997"
      ]
     },
     "execution_count": 12,
     "metadata": {},
     "output_type": "execute_result"
    }
   ],
   "source": [
    "df['tip'].corr(df['total_bill'], method = 'spearman')"
   ]
  },
  {
   "cell_type": "markdown",
   "id": "5df8c0f6-360b-4878-bfa6-3b7031113c3a",
   "metadata": {},
   "source": [
    "## Korelasyonun Anlamlılığının Testi"
   ]
  },
  {
   "cell_type": "code",
   "execution_count": 17,
   "id": "d1eb0026-c292-476b-865d-ce8ed37a658e",
   "metadata": {},
   "outputs": [],
   "source": [
    "from scipy.stats.stats import pearsonr\n",
    "from scipy.stats import stats"
   ]
  },
  {
   "cell_type": "code",
   "execution_count": 22,
   "id": "e46039fc-cd16-4697-8068-44f3b64ecb8a",
   "metadata": {},
   "outputs": [
    {
     "name": "stdout",
     "output_type": "stream",
     "text": [
      "Korelasyon Katsayısı: 0.5767, P-Value: 0.0000\n"
     ]
    }
   ],
   "source": [
    "test_statistic, p_value = pearsonr(df['tip'], df['total_bill'])\n",
    "print('Korelasyon Katsayısı: %.4f, P-Value: %.4f' % (test_statistic, p_value))"
   ]
  },
  {
   "cell_type": "markdown",
   "id": "43cc4ec2-c357-42bf-b473-e9f2eabe385a",
   "metadata": {},
   "source": [
    "### H0 hipotezi reddedildi."
   ]
  },
  {
   "cell_type": "markdown",
   "id": "2a1bb103-1cf7-4639-a2bd-5bd658857a04",
   "metadata": {},
   "source": [
    "# Nonparametrik Hipotez Testi"
   ]
  },
  {
   "cell_type": "code",
   "execution_count": 23,
   "id": "ded7bf28-b9f2-453b-b4f5-540d0ef71b6b",
   "metadata": {},
   "outputs": [
    {
     "name": "stdout",
     "output_type": "stream",
     "text": [
      "Korelasyon Katsayısı: 0.5937, P-Value: 0.0000\n"
     ]
    }
   ],
   "source": [
    "test_statistic, p_value = stats.spearmanr(df['tip'], df['total_bill'])\n",
    "print('Korelasyon Katsayısı: %.4f, P-Value: %.4f' % (test_statistic, p_value))"
   ]
  },
  {
   "cell_type": "code",
   "execution_count": 24,
   "id": "1471d067-b8fe-4b76-a965-66d8814330bf",
   "metadata": {},
   "outputs": [
    {
     "name": "stdout",
     "output_type": "stream",
     "text": [
      "Korelasyon Katsayısı: 0.4401, P-Value: 0.0000\n"
     ]
    }
   ],
   "source": [
    "test_statistic, p_value = stats.kendalltau(df['tip'], df['total_bill'])\n",
    "print('Korelasyon Katsayısı: %.4f, P-Value: %.4f' % (test_statistic, p_value))"
   ]
  }
 ],
 "metadata": {
  "kernelspec": {
   "display_name": "Python 3 (ipykernel)",
   "language": "python",
   "name": "python3"
  },
  "language_info": {
   "codemirror_mode": {
    "name": "ipython",
    "version": 3
   },
   "file_extension": ".py",
   "mimetype": "text/x-python",
   "name": "python",
   "nbconvert_exporter": "python",
   "pygments_lexer": "ipython3",
   "version": "3.9.12"
  }
 },
 "nbformat": 4,
 "nbformat_minor": 5
}
