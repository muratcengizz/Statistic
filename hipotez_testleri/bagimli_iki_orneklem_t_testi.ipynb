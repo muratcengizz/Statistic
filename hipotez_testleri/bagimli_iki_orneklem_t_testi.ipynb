{
 "cells": [
  {
   "cell_type": "markdown",
   "id": "e043937f-5f16-43cb-8ed6-b1fe4feb2b5d",
   "metadata": {},
   "source": [
    "# Bağımlı İki Örneklem T Testi"
   ]
  },
  {
   "cell_type": "markdown",
   "id": "3cb8154e-2089-40ff-ab1e-11f7aa1762f5",
   "metadata": {},
   "source": [
    "### Bağımlı iki grup ortalaması arasında karşılaştırma yapılmak istenildiğinde kullanılır."
   ]
  },
  {
   "cell_type": "markdown",
   "id": "1b205c6e-c2af-439d-bd48-5c1af9b81c65",
   "metadata": {},
   "source": [
    "### Bağımlı iki örneklem t-testi, iki örneklem arasındaki farkın anlamlı olup olmadığını test etmek için kullanılan bir hipotez testidir. Bu test, örneklem verilerinin normal dağıldığı ve iki örneklem arasındaki farkların normal dağıldığı durumlarda kullanılır.\n",
    "\n",
    "### Bağımlı iki örneklem t-testi, aynı bireylerden veya öğelerden örneklem alındığında kullanılır. Örneğin, bir ilaç tedavisi öncesinde ve sonrasında ölçülen bir hastalık ölçütü için, aynı hastaların ölçümleri kullanılabilir. Bu ölçümler birbirleriyle bağımlıdır, çünkü aynı bireylerden elde edilmiştir.\n",
    "\n",
    "### Bu test, null hipotezin iki örneklem arasındaki farkın olmadığı yönünde olduğu bir t-testidir. Alternatif hipotezi, iki örneklem arasındaki farkın anlamlı olduğu yönündedir. Test istatistiği, örneklem verilerinin ortalamaları arasındaki farkın standart hata hesaplanarak bulunur. Bu test, t-distribution kullanarak yapılır ve p-değeri, null hipotez reddedildiğinde iki örneklem arasındaki farkın anlamlı olduğunu gösterir."
   ]
  },
  {
   "cell_type": "markdown",
   "id": "d2305004-8dec-4210-aef1-4bbba8bbd1fe",
   "metadata": {},
   "source": [
    "# Varsayımlar"
   ]
  },
  {
   "cell_type": "markdown",
   "id": "24118f38-3128-4769-8002-0b465b2ae00f",
   "metadata": {},
   "source": [
    "### Normallik\n",
    "### Varyans Homojenliği"
   ]
  }
 ],
 "metadata": {
  "kernelspec": {
   "display_name": "Python 3 (ipykernel)",
   "language": "python",
   "name": "python3"
  },
  "language_info": {
   "codemirror_mode": {
    "name": "ipython",
    "version": 3
   },
   "file_extension": ".py",
   "mimetype": "text/x-python",
   "name": "python",
   "nbconvert_exporter": "python",
   "pygments_lexer": "ipython3",
   "version": "3.9.12"
  }
 },
 "nbformat": 4,
 "nbformat_minor": 5
}
