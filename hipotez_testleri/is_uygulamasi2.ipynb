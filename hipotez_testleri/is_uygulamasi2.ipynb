{
 "cells": [
  {
   "cell_type": "markdown",
   "id": "c7c44ea0-b469-4a7c-9a57-0876b55cad8d",
   "metadata": {},
   "source": [
    "# İş Uygulaması: Web Sitesinde Geçirilen Sürenin Testi"
   ]
  },
  {
   "cell_type": "markdown",
   "id": "004ed8f1-1fb6-49a5-9b69-98c411e78ee6",
   "metadata": {},
   "source": [
    "## Problem:\n",
    "### Web sitemizde geçirilen ortalama süre gerçekten 170 saniye mi ?\n",
    "\n",
    "\n",
    "## Detaylar:\n",
    "### Yazılımlardan elde edilen web sitesinde geçirilen ortalama süreler var.\n",
    "### Bu veriler incelendiğinde bir yönetici ya da çalışanımız bu değerlerin böyle olmadığına yönelik düşünceler taşıyor ve bu durumu test etmek istiyorlar."
   ]
  },
  {
   "cell_type": "markdown",
   "id": "31aa9c85-e847-4eaa-b18a-434eb0742acf",
   "metadata": {},
   "source": [
    "### Hipotezimiz:\n",
    "\n",
    "### H0: μ = 170\n",
    "### H1: μ ≠ 170\n",
    "\n",
    "### H0 hipotezi: web sitesinde geçirilen süre 170 saniyeye eşittir.\n",
    "### H1 hipotezi: web sitesinde geçirilen süre 170 saniyeye eşit değildir."
   ]
  },
  {
   "cell_type": "markdown",
   "id": "7bd43125-260b-4551-b7b6-a0927ef04aa1",
   "metadata": {
    "tags": []
   },
   "source": [
    "# --------------------------------------------------------"
   ]
  },
  {
   "cell_type": "code",
   "execution_count": 43,
   "id": "ed84a248-cdbb-4939-9636-f5be5c3db7d5",
   "metadata": {},
   "outputs": [
    {
     "data": {
      "text/plain": [
       "151.91666666666666"
      ]
     },
     "execution_count": 43,
     "metadata": {},
     "output_type": "execute_result"
    }
   ],
   "source": [
    "import numpy as np\n",
    "import pandas as pd\n",
    "\n",
    "olcumler = np.array([17, 160, 234, 149, 145, 107, 197, 75, 201, 225, 211, 119, 157, 145, 127, 244, 163, 114, 145, 65,\n",
    "                    112, 185, 202, 146, 203, 114, 188, 156, 187, 154, 177, 95, 165, 50, 110, 216, 138, 151, 166, 135,\n",
    "                    155, 84, 251, 173, 131, 207, 121, 120])\n",
    "olcumler.mean()"
   ]
  },
  {
   "cell_type": "code",
   "execution_count": 44,
   "id": "107ba6fb-655b-423a-a1fa-3a084b089ba1",
   "metadata": {},
   "outputs": [],
   "source": [
    "import scipy.stats as stats"
   ]
  },
  {
   "cell_type": "code",
   "execution_count": 45,
   "id": "188bb551-97aa-47ca-b981-9d9bee44a293",
   "metadata": {},
   "outputs": [
    {
     "data": {
      "text/plain": [
       "DescribeResult(nobs=48, minmax=(17, 251), mean=151.91666666666666, variance=2528.1205673758864, skewness=-0.27584473189592734, kurtosis=0.0234687854278377)"
      ]
     },
     "execution_count": 45,
     "metadata": {},
     "output_type": "execute_result"
    }
   ],
   "source": [
    "stats.describe(olcumler)"
   ]
  },
  {
   "cell_type": "markdown",
   "id": "13e5ddba-ab9c-4b2e-8b40-980bb106b9a0",
   "metadata": {},
   "source": [
    "### olcumler veri seti bir örneklem. Bu örneklemin ortalaması 151 saniye. Oysa ki H0 hipotezi 170 saniye olma durumunu savunuyordu. Fakat bir populasyondan çekilen örneklemin ortalaması rassal değişkendir. Yani değişebilir. Bu yüzden varsayımlar üzerinden devam edeceğiz."
   ]
  },
  {
   "cell_type": "markdown",
   "id": "51dd170f-ee64-48b5-a67f-ed93d306029f",
   "metadata": {},
   "source": [
    "# Varsayımlar\n",
    "\n",
    "## Normallik Varsayımı\n",
    "#### İstatistikte normal dağılım, birçok doğal olayın dağılımının takip ettiği bir olasılık dağılımıdır. Normal dağılımın oluşabilmesi için bazı koşullar vardır ve bu koşullara 'normallik varsayımı' denir. Normallik varsayımı, bir veri setinin normal dağılımı takip edip etmediğini belirlemek için kullanılır. Bu varsayım, veri setinin normal dağılıma sahip olduğu durumlarda kullanılan parametrik istatistiksel testlerin geçerliliğini sağlamak için gereklidir. \n",
    "#### Normallik varsayımı, veri setinin dağılımının simetrik olduğu, ortalamasının medyanına eşit olduğu, dağılımın kuyruklarının simetrik olduğu ve aykırı değerlerin olmadığı durumlarda sağlanmaktadır. Bununla birlikte, pratikte veriler her zaman tam olarak normal dağılımı takip etmezler. Bu nedenle, normallik varsayımının sağlanığ sağlanmadığını belirlemek için çeşitli istatistiksel yöntemler kullanılır. Bu yöntemler arasında normal olasılık çizelgesi, histogram ve QQ plot gibi grafiksel yöntemler ve Shapiro-Wilk testi, Kolmogorov-Smirnov testi, Anderson-Darling testi ve Lilliefors testi gibi istatistiksel testler yer almaktadır."
   ]
  },
  {
   "cell_type": "code",
   "execution_count": 46,
   "id": "12268089-4f17-4287-a573-724e7a223884",
   "metadata": {},
   "outputs": [
    {
     "data": {
      "image/png": "[encoded data removed]",
      "text/plain": [
       "<Figure size 432x288 with 1 Axes>"
      ]
     },
     "metadata": {
      "needs_background": "light"
     },
     "output_type": "display_data"
    }
   ],
   "source": [
    "# Histogram in Pandas\n",
    "pd.DataFrame(olcumler).plot.hist();"
   ]
  },
  {
   "cell_type": "code",
   "execution_count": 47,
   "id": "25f142e6-f658-4528-86c3-7fc04a61bec7",
   "metadata": {},
   "outputs": [
    {
     "data": {
      "image/png": "[encoded data removed]",
      "text/plain": [
       "<Figure size 432x288 with 1 Axes>"
      ]
     },
     "metadata": {
      "needs_background": "light"
     },
     "output_type": "display_data"
    }
   ],
   "source": [
    "## Histogram in Seaborn\n",
    "import seaborn as sns\n",
    "\n",
    "sns.histplot(olcumler);"
   ]
  },
  {
   "cell_type": "code",
   "execution_count": 48,
   "id": "3f900377-e5e3-4d1d-9fe0-8d5532c1cb19",
   "metadata": {},
   "outputs": [
    {
     "data": {
      "image/png": "[encoded data removed]",
      "text/plain": [
       "<Figure size 432x288 with 1 Axes>"
      ]
     },
     "metadata": {
      "needs_background": "light"
     },
     "output_type": "display_data"
    }
   ],
   "source": [
    "## QQ Plot\n",
    "import pylab\n",
    "\n",
    "stats.probplot(olcumler, dist='norm', plot=pylab)\n",
    "pylab.show()"
   ]
  },
  {
   "cell_type": "code",
   "execution_count": 49,
   "id": "379668f3-8a47-4e25-a794-a3d10f088c21",
   "metadata": {},
   "outputs": [
    {
     "data": {
      "text/plain": [
       "ShapiroResult(statistic=0.9877386689186096, pvalue=0.8924198150634766)"
      ]
     },
     "execution_count": 49,
     "metadata": {},
     "output_type": "execute_result"
    }
   ],
   "source": [
    "## Shapiro-Wilks Testi\n",
    "\n",
    "# H0: Örnek dağılımı ile teorik normal dağılım arasında istatistiksel olarak anlamlı bir fark yoktur.\n",
    "# H1: Fark vardır.\n",
    "\n",
    "from scipy.stats import shapiro\n",
    "\n",
    "shapiro(olcumler)\n",
    "# (soldaki değer test istatistiğini, sağdaki değer ise p-value değerini ifade ediyor.)"
   ]
  },
  {
   "cell_type": "code",
   "execution_count": 50,
   "id": "02dcfa51-66df-4e68-b683-2e382ffdc2ba",
   "metadata": {},
   "outputs": [
    {
     "data": {
      "text/plain": [
       "Ttest_1sampResult(statistic=-2.4917256080813424, pvalue=0.016298072414146044)"
      ]
     },
     "execution_count": 50,
     "metadata": {},
     "output_type": "execute_result"
    }
   ],
   "source": [
    "## Hipotez Testinin Uygulanması\n",
    "\n",
    "stats.ttest_1samp(olcumler, popmean=170)"
   ]
  },
  {
   "cell_type": "code",
   "execution_count": 51,
   "id": "915b9a48-0998-4ed1-b803-cc594313da71",
   "metadata": {},
   "outputs": [],
   "source": [
    "## H0: Web sitemizde geçirilen ortalama süre 170 saniyedir.\n",
    "## H1 : Web sitemizde geçirilen ortalama süre 170 saniye değildir."
   ]
  },
  {
   "cell_type": "markdown",
   "id": "64a8b1d4-1bbe-4a48-ae56-0f32e8e2569d",
   "metadata": {},
   "source": [
    "## P-Value değerimiz kabul edilen alfa değerinden (0.05) küçük olduğu için H0 hipotezi reddedilmiştir. Bu demektir ki, Web sitesinde geçirilen ortalama süre 170 saniye değildir. H0 hipotezi reddedilmiştir."
   ]
  },
  {
   "cell_type": "markdown",
   "id": "3769fabd-e3a6-4af9-a0b2-336334437386",
   "metadata": {},
   "source": [
    "## H0 hipotezi reddedildiği için bu örneklem parametrik değildir. Şimdi ise Nonparametrik tek örneklem testi yapalım"
   ]
  },
  {
   "cell_type": "markdown",
   "id": "f38954b6-a69c-4916-ae9a-9a70a3c7837e",
   "metadata": {},
   "source": [
    "# Nonprametrik Tek Örneklem Testi"
   ]
  },
  {
   "cell_type": "code",
   "execution_count": 52,
   "id": "fd2b63b6-2bb3-4b39-bd65-8b4b8dd980a9",
   "metadata": {},
   "outputs": [],
   "source": [
    "from statsmodels.stats.descriptivestats import sign_test"
   ]
  },
  {
   "cell_type": "code",
   "execution_count": 53,
   "id": "3c52117b-6974-4248-bc56-11a9af14e231",
   "metadata": {},
   "outputs": [
    {
     "data": {
      "text/plain": [
       "(-8.0, 0.029304946720529308)"
      ]
     },
     "execution_count": 53,
     "metadata": {},
     "output_type": "execute_result"
    }
   ],
   "source": [
    "sign_test(olcumler, 170)"
   ]
  }
 ],
 "metadata": {
  "kernelspec": {
   "display_name": "Python 3 (ipykernel)",
   "language": "python",
   "name": "python3"
  },
  "language_info": {
   "codemirror_mode": {
    "name": "ipython",
    "version": 3
   },
   "file_extension": ".py",
   "mimetype": "text/x-python",
   "name": "python",
   "nbconvert_exporter": "python",
   "pygments_lexer": "ipython3",
   "version": "3.9.12"
  }
 },
 "nbformat": 4,
 "nbformat_minor": 5
}
