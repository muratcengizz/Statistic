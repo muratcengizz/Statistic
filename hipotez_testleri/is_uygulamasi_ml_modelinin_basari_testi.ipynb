{
 "cells": [
  {
   "cell_type": "markdown",
   "id": "3836f985-88ce-4114-a8e2-bc85db324a44",
   "metadata": {},
   "source": [
    "# İş Uygulaması: ML Modelinin Başarı Testi (AB Testi)"
   ]
  },
  {
   "cell_type": "markdown",
   "id": "f9079960-b609-4210-a1cf-b6f0896b7a24",
   "metadata": {},
   "source": [
    "## Problem:\n",
    "### Bir ML projesine yatırım yapılmış. Ürettiği tahminler neticesinde oluşan gelir ile eski sistemin ürettiği gelirler karşılaştırılıp anlamlı farklılık olup olmadığı test edilmek isteniyor.\n",
    "\n",
    "## Detaylar:\n",
    "### Model geliştirilmiş ve web sitesine entegre edilmiş.\n",
    "### Site kullanıcıları belirli bir kuralara göre ikiye bölünmüş olsun.\n",
    "### A grubu eski, B grubu yeni sistem.\n",
    "### Gelir anlamında anlamlı bir iş yapılıp yapılmadığı test edilmek isteniyor."
   ]
  },
  {
   "cell_type": "markdown",
   "id": "b3b8965e-5265-4bcc-87f9-c24bb849f571",
   "metadata": {},
   "source": [
    "# Hipotezimiz:\n",
    "\n",
    "### H0: M1 = M2\n",
    "### H1: M1 != M2"
   ]
  },
  {
   "cell_type": "markdown",
   "id": "870a9310-78ee-4191-bc27-b01776375d18",
   "metadata": {},
   "source": [
    "# Veri Tipi I"
   ]
  },
  {
   "cell_type": "code",
   "execution_count": 12,
   "id": "1b3b2add-2cca-4de1-99be-7af6f357d553",
   "metadata": {},
   "outputs": [],
   "source": [
    "import pandas as pd\n",
    "import numpy as np\n",
    "import seaborn as sns"
   ]
  },
  {
   "cell_type": "code",
   "execution_count": 13,
   "id": "f5b7ebd5-ebb1-40c8-bc7c-91a2748f58cc",
   "metadata": {},
   "outputs": [
    {
     "data": {
      "text/html": [
       "<div>\n",
       "<style scoped>\n",
       "    .dataframe tbody tr th:only-of-type {\n",
       "        vertical-align: middle;\n",
       "    }\n",
       "\n",
       "    .dataframe tbody tr th {\n",
       "        vertical-align: top;\n",
       "    }\n",
       "\n",
       "    .dataframe thead th {\n",
       "        text-align: right;\n",
       "    }\n",
       "</style>\n",
       "<table border=\"1\" class=\"dataframe\">\n",
       "  <thead>\n",
       "    <tr style=\"text-align: right;\">\n",
       "      <th></th>\n",
       "      <th>A</th>\n",
       "      <th>B</th>\n",
       "    </tr>\n",
       "  </thead>\n",
       "  <tbody>\n",
       "    <tr>\n",
       "      <th>0</th>\n",
       "      <td>30</td>\n",
       "      <td>37</td>\n",
       "    </tr>\n",
       "    <tr>\n",
       "      <th>1</th>\n",
       "      <td>27</td>\n",
       "      <td>39</td>\n",
       "    </tr>\n",
       "    <tr>\n",
       "      <th>2</th>\n",
       "      <td>21</td>\n",
       "      <td>31</td>\n",
       "    </tr>\n",
       "    <tr>\n",
       "      <th>3</th>\n",
       "      <td>27</td>\n",
       "      <td>31</td>\n",
       "    </tr>\n",
       "    <tr>\n",
       "      <th>4</th>\n",
       "      <td>29</td>\n",
       "      <td>34</td>\n",
       "    </tr>\n",
       "  </tbody>\n",
       "</table>\n",
       "</div>"
      ],
      "text/plain": [
       "    A   B\n",
       "0  30  37\n",
       "1  27  39\n",
       "2  21  31\n",
       "3  27  31\n",
       "4  29  34"
      ]
     },
     "execution_count": 13,
     "metadata": {},
     "output_type": "execute_result"
    }
   ],
   "source": [
    "A = pd.DataFrame([30, 27, 21, 27, 29, 30, 20, 20, 27, 32, 35, 22, 24, 23, 25, 27, 23, 27, 23, 25, 21, 18, 24, 26, 33, 26, 27, 28, 19, 25])\n",
    "\n",
    "B = pd.DataFrame([37, 39, 31, 31, 34, 38, 30, 36, 29, 28, 28, 38, 37, 37, 30, 32, 31, 31, 27, 32, 33, 33, 33, 31, 32, 33, 26, 32, 33, 29])\n",
    "\n",
    "A_B = pd.concat([A, B], axis=1)\n",
    "A_B.columns = ['A', 'B']\n",
    "\n",
    "A_B.head()"
   ]
  },
  {
   "cell_type": "markdown",
   "id": "eb8d66fb-b81d-4a3d-9292-eed55ee83964",
   "metadata": {},
   "source": [
    "# Veri Tipi II"
   ]
  },
  {
   "cell_type": "code",
   "execution_count": 14,
   "id": "0c97de7f-4e73-4e36-ae7d-8b465167bf55",
   "metadata": {},
   "outputs": [],
   "source": [
    "A = pd.DataFrame([30, 27, 21, 27, 29, 30, 20, 20, 27, 32, 35, 22, 24, 23, 25, 27, 23, 27, 23, 25, 21, 18, 24, 26, 33, 26, 27, 28, 19, 25])\n",
    "B = pd.DataFrame([37, 39, 31, 31, 34, 38, 30, 36, 29, 28, 28, 38, 37, 37, 30, 32, 31, 31, 27, 32, 33, 33, 33, 31, 32, 33, 26, 32, 33, 29])\n",
    "\n",
    "\n",
    "# A ve A 'nın grubu\n",
    "grup_a = np.arange(len(A))\n",
    "grup_a = pd.DataFrame(grup_a)\n",
    "grup_a[:] = 'A'\n",
    "\n",
    "a = pd.concat([grup_a, A], axis=1)\n",
    "\n",
    "\n",
    "# B ve B'nin grubu\n",
    "grup_b = np.arange(len(B))\n",
    "grup_b = pd.DataFrame(grup_b)\n",
    "grup_b[:] = 'B'\n",
    "\n",
    "b = pd.concat([grup_b, B], axis=1)\n",
    "\n",
    "\n",
    "# Tüm Veri\n",
    "\n",
    "ab = pd.concat([a, b])\n",
    "ab.columns = ['Grup', 'Gelir']"
   ]
  },
  {
   "cell_type": "code",
   "execution_count": 15,
   "id": "8aa1bc0c-9787-4ca6-a278-8ce39b3fa88b",
   "metadata": {},
   "outputs": [
    {
     "data": {
      "text/html": [
       "<div>\n",
       "<style scoped>\n",
       "    .dataframe tbody tr th:only-of-type {\n",
       "        vertical-align: middle;\n",
       "    }\n",
       "\n",
       "    .dataframe tbody tr th {\n",
       "        vertical-align: top;\n",
       "    }\n",
       "\n",
       "    .dataframe thead th {\n",
       "        text-align: right;\n",
       "    }\n",
       "</style>\n",
       "<table border=\"1\" class=\"dataframe\">\n",
       "  <thead>\n",
       "    <tr style=\"text-align: right;\">\n",
       "      <th></th>\n",
       "      <th>Grup</th>\n",
       "      <th>Gelir</th>\n",
       "    </tr>\n",
       "  </thead>\n",
       "  <tbody>\n",
       "    <tr>\n",
       "      <th>0</th>\n",
       "      <td>A</td>\n",
       "      <td>30</td>\n",
       "    </tr>\n",
       "    <tr>\n",
       "      <th>1</th>\n",
       "      <td>A</td>\n",
       "      <td>27</td>\n",
       "    </tr>\n",
       "    <tr>\n",
       "      <th>2</th>\n",
       "      <td>A</td>\n",
       "      <td>21</td>\n",
       "    </tr>\n",
       "    <tr>\n",
       "      <th>3</th>\n",
       "      <td>A</td>\n",
       "      <td>27</td>\n",
       "    </tr>\n",
       "    <tr>\n",
       "      <th>4</th>\n",
       "      <td>A</td>\n",
       "      <td>29</td>\n",
       "    </tr>\n",
       "  </tbody>\n",
       "</table>\n",
       "</div>"
      ],
      "text/plain": [
       "  Grup  Gelir\n",
       "0    A     30\n",
       "1    A     27\n",
       "2    A     21\n",
       "3    A     27\n",
       "4    A     29"
      ]
     },
     "execution_count": 15,
     "metadata": {},
     "output_type": "execute_result"
    }
   ],
   "source": [
    "ab.head()"
   ]
  },
  {
   "cell_type": "code",
   "execution_count": 16,
   "id": "4f6bc25e-a593-4842-957d-9144574b37a2",
   "metadata": {},
   "outputs": [
    {
     "data": {
      "text/html": [
       "<div>\n",
       "<style scoped>\n",
       "    .dataframe tbody tr th:only-of-type {\n",
       "        vertical-align: middle;\n",
       "    }\n",
       "\n",
       "    .dataframe tbody tr th {\n",
       "        vertical-align: top;\n",
       "    }\n",
       "\n",
       "    .dataframe thead th {\n",
       "        text-align: right;\n",
       "    }\n",
       "</style>\n",
       "<table border=\"1\" class=\"dataframe\">\n",
       "  <thead>\n",
       "    <tr style=\"text-align: right;\">\n",
       "      <th></th>\n",
       "      <th>Grup</th>\n",
       "      <th>Gelir</th>\n",
       "    </tr>\n",
       "  </thead>\n",
       "  <tbody>\n",
       "    <tr>\n",
       "      <th>25</th>\n",
       "      <td>B</td>\n",
       "      <td>33</td>\n",
       "    </tr>\n",
       "    <tr>\n",
       "      <th>26</th>\n",
       "      <td>B</td>\n",
       "      <td>26</td>\n",
       "    </tr>\n",
       "    <tr>\n",
       "      <th>27</th>\n",
       "      <td>B</td>\n",
       "      <td>32</td>\n",
       "    </tr>\n",
       "    <tr>\n",
       "      <th>28</th>\n",
       "      <td>B</td>\n",
       "      <td>33</td>\n",
       "    </tr>\n",
       "    <tr>\n",
       "      <th>29</th>\n",
       "      <td>B</td>\n",
       "      <td>29</td>\n",
       "    </tr>\n",
       "  </tbody>\n",
       "</table>\n",
       "</div>"
      ],
      "text/plain": [
       "   Grup  Gelir\n",
       "25    B     33\n",
       "26    B     26\n",
       "27    B     32\n",
       "28    B     33\n",
       "29    B     29"
      ]
     },
     "execution_count": 16,
     "metadata": {},
     "output_type": "execute_result"
    }
   ],
   "source": [
    "ab.tail()"
   ]
  },
  {
   "cell_type": "code",
   "execution_count": 19,
   "id": "0503b0b7-314f-4e6e-bade-45a80648a4d1",
   "metadata": {},
   "outputs": [
    {
     "data": {
      "image/png": "[encoded data removed]",
      "text/plain": [
       "<Figure size 432x288 with 1 Axes>"
      ]
     },
     "metadata": {
      "needs_background": "light"
     },
     "output_type": "display_data"
    }
   ],
   "source": [
    "sns.boxplot(data = ab, x='Grup', y='Gelir');\n",
    "# B yani yeni ML 'nin geliri daha yüksek gözüküyor."
   ]
  },
  {
   "cell_type": "markdown",
   "id": "53110aec-787e-4dfe-9d23-70387ffa33d3",
   "metadata": {},
   "source": [
    "# Normallik Varsayımı"
   ]
  },
  {
   "cell_type": "code",
   "execution_count": 30,
   "id": "d7710d8e-ba23-4843-97de-637121b276a8",
   "metadata": {},
   "outputs": [],
   "source": [
    "from scipy.stats import *\n",
    "import scipy.stats as stats"
   ]
  },
  {
   "cell_type": "code",
   "execution_count": 31,
   "id": "4fb993f5-afe7-44ab-9cd4-66a9ff8eec04",
   "metadata": {},
   "outputs": [
    {
     "data": {
      "text/plain": [
       "ShapiroResult(statistic=0.9789242148399353, pvalue=0.7962799668312073)"
      ]
     },
     "execution_count": 31,
     "metadata": {},
     "output_type": "execute_result"
    }
   ],
   "source": [
    "shapiro(A_B.A)"
   ]
  },
  {
   "cell_type": "code",
   "execution_count": 32,
   "id": "86dde40c-71ea-4e41-b226-36264bab7782",
   "metadata": {},
   "outputs": [
    {
     "data": {
      "text/plain": [
       "ShapiroResult(statistic=0.9561260342597961, pvalue=0.24584221839904785)"
      ]
     },
     "execution_count": 32,
     "metadata": {},
     "output_type": "execute_result"
    }
   ],
   "source": [
    "shapiro(A_B.B)"
   ]
  },
  {
   "cell_type": "markdown",
   "id": "e92115f1-4a98-464b-afe0-0a6516a7eef3",
   "metadata": {},
   "source": [
    "# Varyans Homojenliği Varsayımı"
   ]
  },
  {
   "cell_type": "markdown",
   "id": "5c0efbeb-1935-43f1-8073-bd40bfecdf2c",
   "metadata": {},
   "source": [
    "## H0: Varyanslar Homojendir.\n",
    "## H1: Varyanslar Homojen Değildir."
   ]
  },
  {
   "cell_type": "code",
   "execution_count": 40,
   "id": "f6782b5c-2a6c-4215-a08c-08f3401ca3ca",
   "metadata": {},
   "outputs": [
    {
     "data": {
      "text/plain": [
       "LeveneResult(statistic=1.1101802757158001, pvalue=0.2964124900636569)"
      ]
     },
     "execution_count": 40,
     "metadata": {},
     "output_type": "execute_result"
    }
   ],
   "source": [
    "stats.levene(A_B.A, A_B.B)"
   ]
  },
  {
   "cell_type": "markdown",
   "id": "6bafb16d-5145-4868-9ead-3f3f46bf3079",
   "metadata": {},
   "source": [
    "# Hipotez Testi"
   ]
  },
  {
   "cell_type": "code",
   "execution_count": 41,
   "id": "bb65b5a2-9b05-40ef-adeb-e987db0b7e14",
   "metadata": {},
   "outputs": [
    {
     "name": "stdout",
     "output_type": "stream",
     "text": [
      "Test İstatistiği: -7.0287, P-Değeri: 0.0000\n"
     ]
    }
   ],
   "source": [
    "test_statistic, p_value = stats.ttest_ind(A_B['A'], A_B['B'], equal_var =  True)\n",
    "print('Test İstatistiği: %.4f, P-Değeri: %.4f' % (test_statistic, p_value))"
   ]
  },
  {
   "cell_type": "markdown",
   "id": "aeb6e40e-04c1-4d7b-9b93-be13fda2516d",
   "metadata": {},
   "source": [
    "### P-Value değeri 0.05 'den küçük olduğu için H0 hipotezi reddedilir."
   ]
  },
  {
   "cell_type": "markdown",
   "id": "e5fb37f3-4137-4036-832e-7980d7378826",
   "metadata": {},
   "source": [
    "# Nonparametrik Bağımsız İki Örneklem Testi"
   ]
  },
  {
   "cell_type": "code",
   "execution_count": 42,
   "id": "9258ca91-5f32-4029-b7fd-fdd64546cf00",
   "metadata": {},
   "outputs": [
    {
     "data": {
      "text/plain": [
       "MannwhitneyuResult(statistic=89.5, pvalue=9.557950378612535e-08)"
      ]
     },
     "execution_count": 42,
     "metadata": {},
     "output_type": "execute_result"
    }
   ],
   "source": [
    "stats.mannwhitneyu(A_B['A'], A_B['B'])"
   ]
  },
  {
   "cell_type": "code",
   "execution_count": 43,
   "id": "683f9a90-5276-4d27-92ea-7a76ed10c82b",
   "metadata": {},
   "outputs": [
    {
     "name": "stdout",
     "output_type": "stream",
     "text": [
      "Test İstatistiği: 89.5000, P-Değeri: 0.0000\n"
     ]
    }
   ],
   "source": [
    "test_statistic, p_value = stats.mannwhitneyu(A_B['A'], A_B['B'])\n",
    "print('Test İstatistiği: %.4f, P-Değeri: %.4f' % (test_statistic, p_value))"
   ]
  }
 ],
 "metadata": {
  "kernelspec": {
   "display_name": "Python 3 (ipykernel)",
   "language": "python",
   "name": "python3"
  },
  "language_info": {
   "codemirror_mode": {
    "name": "ipython",
    "version": 3
   },
   "file_extension": ".py",
   "mimetype": "text/x-python",
   "name": "python",
   "nbconvert_exporter": "python",
   "pygments_lexer": "ipython3",
   "version": "3.9.12"
  }
 },
 "nbformat": 4,
 "nbformat_minor": 5
}
