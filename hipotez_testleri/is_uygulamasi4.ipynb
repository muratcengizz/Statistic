{
 "cells": [
  {
   "cell_type": "markdown",
   "id": "eca6c3aa-48dc-4cf0-986e-5d7b1eb4bdde",
   "metadata": {},
   "source": [
    "# İş Uygulaması: Şirket İçi Eğitimin Performans Etkisi Ölçümü"
   ]
  },
  {
   "cell_type": "markdown",
   "id": "622828a9-ad30-42bd-87b6-1244f941c802",
   "metadata": {},
   "source": [
    "## Problem\n",
    "### Belirli uğraşlar sonucunda alınan bir eğitimin katma değer sağlayıp sağlamadığı ölçülmek isteniyor.\n",
    "\n",
    "## Detaylar:\n",
    "### Bir departman bir konuda eğitim talep ediyor.\n",
    "### Gerekli/gereksiz değerlendirmeleri neticesinde eğitim alınıyor.\n",
    "### Eğitimden önce ve sonra olacak şekilde gerekli ölçümler yapılıyor.\n",
    "### Eğitim sonrasında eğitimin sağladığı katma değer test edilmek isteniyor."
   ]
  },
  {
   "cell_type": "code",
   "execution_count": 74,
   "id": "46e26107-6601-43eb-aa81-03ab5137e11d",
   "metadata": {},
   "outputs": [],
   "source": [
    "import numpy as np\n",
    "import pandas as pd\n",
    "import seaborn as sns"
   ]
  },
  {
   "cell_type": "code",
   "execution_count": 75,
   "id": "444908d1-97af-4306-aa67-5e925d064a43",
   "metadata": {},
   "outputs": [],
   "source": [
    "# eğitimden önce kişilerin performanslarına yönelik veriler\n",
    "oncesi = pd.DataFrame([123,119,119,116,123,123,121,120,117,118,121,121,123,119,\n",
    "            121,118,124,121,125,115,115,119,118,121,117,117,120,120,\n",
    "            121,117,118,117,123,118,124,121,115,118,125,115])\n",
    "\n",
    "\n",
    "# eğitimden sonra kişilerin performanslarına yönelik veriler\n",
    "sonrasi = pd.DataFrame([118, 127, 122, 132, 129, 123, 129, 132, 128, 130, 128, 138, 140, 130, 134, 134,\n",
    "                       124, 140, 134, 129, 129, 138, 134, 124, 122, 126, 133, 127, 130, 130, 130, 132,\n",
    "                       117, 130, 125, 129, 133, 120, 127, 123])"
   ]
  },
  {
   "cell_type": "code",
   "execution_count": 76,
   "id": "6215bfb0-99c8-400b-a6bd-336d53041b0e",
   "metadata": {},
   "outputs": [],
   "source": [
    "ayrik = pd.concat([oncesi, sonrasi], axis=1)\n",
    "ayrik.columns = ['Oncesi', 'Sonrasi']\n",
    "\n",
    "grup_oncesi = np.arange(len(oncesi))\n",
    "grup_oncesi = pd.DataFrame(grup_oncesi)\n",
    "grup_oncesi[:] = 'Oncesi'\n",
    "a = pd.concat([grup_oncesi, oncesi], axis=1)\n",
    "\n",
    "\n",
    "grup_sonrasi = np.arange(len(sonrasi))\n",
    "grup_sonrasi = pd.DataFrame(grup_sonrasi)\n",
    "grup_sonrasi[:] = 'Sonrasi'\n",
    "b = pd.concat([grup_sonrasi, sonrasi], axis=1)\n",
    "\n",
    "concat = pd.concat([a, b])\n",
    "concat.columns = ['Gruplar', 'Performans']"
   ]
  },
  {
   "cell_type": "code",
   "execution_count": 77,
   "id": "be708306-4022-4aee-a9ee-2d0ceafd1ab0",
   "metadata": {},
   "outputs": [
    {
     "data": {
      "text/html": [
       "<div>\n",
       "<style scoped>\n",
       "    .dataframe tbody tr th:only-of-type {\n",
       "        vertical-align: middle;\n",
       "    }\n",
       "\n",
       "    .dataframe tbody tr th {\n",
       "        vertical-align: top;\n",
       "    }\n",
       "\n",
       "    .dataframe thead th {\n",
       "        text-align: right;\n",
       "    }\n",
       "</style>\n",
       "<table border=\"1\" class=\"dataframe\">\n",
       "  <thead>\n",
       "    <tr style=\"text-align: right;\">\n",
       "      <th></th>\n",
       "      <th>Gruplar</th>\n",
       "      <th>Performans</th>\n",
       "    </tr>\n",
       "  </thead>\n",
       "  <tbody>\n",
       "    <tr>\n",
       "      <th>0</th>\n",
       "      <td>Oncesi</td>\n",
       "      <td>123</td>\n",
       "    </tr>\n",
       "    <tr>\n",
       "      <th>1</th>\n",
       "      <td>Oncesi</td>\n",
       "      <td>119</td>\n",
       "    </tr>\n",
       "    <tr>\n",
       "      <th>2</th>\n",
       "      <td>Oncesi</td>\n",
       "      <td>119</td>\n",
       "    </tr>\n",
       "    <tr>\n",
       "      <th>3</th>\n",
       "      <td>Oncesi</td>\n",
       "      <td>116</td>\n",
       "    </tr>\n",
       "    <tr>\n",
       "      <th>4</th>\n",
       "      <td>Oncesi</td>\n",
       "      <td>123</td>\n",
       "    </tr>\n",
       "  </tbody>\n",
       "</table>\n",
       "</div>"
      ],
      "text/plain": [
       "  Gruplar  Performans\n",
       "0  Oncesi         123\n",
       "1  Oncesi         119\n",
       "2  Oncesi         119\n",
       "3  Oncesi         116\n",
       "4  Oncesi         123"
      ]
     },
     "execution_count": 77,
     "metadata": {},
     "output_type": "execute_result"
    }
   ],
   "source": [
    "concat.head()"
   ]
  },
  {
   "cell_type": "code",
   "execution_count": 78,
   "id": "01bf39fb-1f8d-4dc1-963d-0c845c8e8086",
   "metadata": {},
   "outputs": [
    {
     "data": {
      "text/html": [
       "<div>\n",
       "<style scoped>\n",
       "    .dataframe tbody tr th:only-of-type {\n",
       "        vertical-align: middle;\n",
       "    }\n",
       "\n",
       "    .dataframe tbody tr th {\n",
       "        vertical-align: top;\n",
       "    }\n",
       "\n",
       "    .dataframe thead th {\n",
       "        text-align: right;\n",
       "    }\n",
       "</style>\n",
       "<table border=\"1\" class=\"dataframe\">\n",
       "  <thead>\n",
       "    <tr style=\"text-align: right;\">\n",
       "      <th></th>\n",
       "      <th>Gruplar</th>\n",
       "      <th>Performans</th>\n",
       "    </tr>\n",
       "  </thead>\n",
       "  <tbody>\n",
       "    <tr>\n",
       "      <th>35</th>\n",
       "      <td>Sonrasi</td>\n",
       "      <td>129</td>\n",
       "    </tr>\n",
       "    <tr>\n",
       "      <th>36</th>\n",
       "      <td>Sonrasi</td>\n",
       "      <td>133</td>\n",
       "    </tr>\n",
       "    <tr>\n",
       "      <th>37</th>\n",
       "      <td>Sonrasi</td>\n",
       "      <td>120</td>\n",
       "    </tr>\n",
       "    <tr>\n",
       "      <th>38</th>\n",
       "      <td>Sonrasi</td>\n",
       "      <td>127</td>\n",
       "    </tr>\n",
       "    <tr>\n",
       "      <th>39</th>\n",
       "      <td>Sonrasi</td>\n",
       "      <td>123</td>\n",
       "    </tr>\n",
       "  </tbody>\n",
       "</table>\n",
       "</div>"
      ],
      "text/plain": [
       "    Gruplar  Performans\n",
       "35  Sonrasi         129\n",
       "36  Sonrasi         133\n",
       "37  Sonrasi         120\n",
       "38  Sonrasi         127\n",
       "39  Sonrasi         123"
      ]
     },
     "execution_count": 78,
     "metadata": {},
     "output_type": "execute_result"
    }
   ],
   "source": [
    "concat.tail()"
   ]
  },
  {
   "cell_type": "code",
   "execution_count": 79,
   "id": "babb0175-d249-49d2-a59e-c37f29478a6f",
   "metadata": {},
   "outputs": [
    {
     "data": {
      "image/png": "[encoded data removed]",
      "text/plain": [
       "<Figure size 432x288 with 1 Axes>"
      ]
     },
     "metadata": {
      "needs_background": "light"
     },
     "output_type": "display_data"
    }
   ],
   "source": [
    "sns.boxplot(data=concat, x='Gruplar', y='Performans');"
   ]
  },
  {
   "cell_type": "markdown",
   "id": "da437bf2-ed68-4bd5-bba0-7671af280da8",
   "metadata": {},
   "source": [
    "### Şuanda istatistiksel olarak net bir yorum yapamasak da boxplot grafiğinden görüldüğü üzere eğitimden sonra gözle görülür düzeyde gelişme yaşanmış."
   ]
  },
  {
   "cell_type": "markdown",
   "id": "8bb90b81-f6ab-4211-a43f-4989e07959e0",
   "metadata": {},
   "source": [
    "# Varsayım Kontrolleri"
   ]
  },
  {
   "cell_type": "code",
   "execution_count": 80,
   "id": "5734b66f-12a0-430c-85e7-d4556a4274ab",
   "metadata": {},
   "outputs": [],
   "source": [
    "from scipy.stats import shapiro\n",
    "import scipy.stats as stats"
   ]
  },
  {
   "cell_type": "code",
   "execution_count": 81,
   "id": "eaa19f69-92db-42a2-a3b9-b666db3eb411",
   "metadata": {},
   "outputs": [
    {
     "data": {
      "text/plain": [
       "ShapiroResult(statistic=0.9543656706809998, pvalue=0.10722451657056808)"
      ]
     },
     "execution_count": 81,
     "metadata": {},
     "output_type": "execute_result"
    }
   ],
   "source": [
    "shapiro(ayrik.Oncesi)"
   ]
  },
  {
   "cell_type": "code",
   "execution_count": 83,
   "id": "9c7f2cc9-b3a9-4c49-bc8a-cfa940f78c5f",
   "metadata": {},
   "outputs": [
    {
     "data": {
      "text/plain": [
       "ShapiroResult(statistic=0.9780089259147644, pvalue=0.6159515380859375)"
      ]
     },
     "execution_count": 83,
     "metadata": {},
     "output_type": "execute_result"
    }
   ],
   "source": [
    "shapiro(ayrik.Sonrasi)"
   ]
  },
  {
   "cell_type": "markdown",
   "id": "29cdf006-81e9-4b13-8321-2832e07e75cf",
   "metadata": {},
   "source": [
    "### Normallik varsayımını yukarıda test ettiğimizde görüldüğü üzere iki veri setininde p-value değerleri alfa değerimizden (0.05) az olmadığı için H0 hipotezini reddedemiyoruz."
   ]
  },
  {
   "cell_type": "code",
   "execution_count": 84,
   "id": "19524022-f1ab-4ea3-bd0d-2103051ba868",
   "metadata": {},
   "outputs": [
    {
     "data": {
      "text/plain": [
       "LeveneResult(statistic=8.31303288672351, pvalue=0.0050844511807370246)"
      ]
     },
     "execution_count": 84,
     "metadata": {},
     "output_type": "execute_result"
    }
   ],
   "source": [
    "stats.levene(ayrik.Oncesi, ayrik.Sonrasi)"
   ]
  },
  {
   "cell_type": "markdown",
   "id": "67fead0c-993d-41f8-8a93-ff1dcf76852a",
   "metadata": {},
   "source": [
    "### Varyansların Homojenliği varsayımımızın p-value değeri de alfa değerinden küçük. Yani H0 hipotezini reddetmemiz gerekiyor."
   ]
  },
  {
   "cell_type": "markdown",
   "id": "e2e08d62-93f7-4536-b33e-1cc597d54834",
   "metadata": {},
   "source": [
    "## 2 varsayım testinden bir tanesi reddedildi. Ya veri setleri üzerinde aykırı değerler ile ilgili bir çalışma yapılacak, ya da varyans homojenliği varsayımının sonucu göz ardı edilecek."
   ]
  },
  {
   "cell_type": "markdown",
   "id": "4ddfa790-6a3d-46fc-b3fd-05741bc66ada",
   "metadata": {},
   "source": [
    "# Hipotez Testi"
   ]
  },
  {
   "cell_type": "code",
   "execution_count": 87,
   "id": "a1fad5e4-9f0a-4380-aab3-597c2e404516",
   "metadata": {},
   "outputs": [
    {
     "name": "stdout",
     "output_type": "stream",
     "text": [
      "Test İstatistiği: -9.2815, P-Value: 0.0000\n"
     ]
    }
   ],
   "source": [
    "t_statistic, p_value = stats.ttest_rel(ayrik.Oncesi, ayrik.Sonrasi)\n",
    "print('Test İstatistiği: %.4f, P-Value: %.4f' % (t_statistic, p_value))"
   ]
  },
  {
   "cell_type": "markdown",
   "id": "3a24c4b8-9abd-439a-a128-84bc008814a9",
   "metadata": {},
   "source": [
    "### p-value değeri alfa değerinden küçük olduğu için H0 hipotezi reddedilir. H0 hipotezi, eğitimden önce kişilerin performansıyla, eğitimden sonra kişilerin performansı arasında fark yoktur tezini savunuyordu. H0 hipotezi reddedildiği için bunun doğru olmadığını gördük. Yani şirkette eğitime katılan personeller pozitif anlamda gelişme göstermişlerdir."
   ]
  },
  {
   "cell_type": "markdown",
   "id": "bb8ecc93-55f3-46cd-98c7-a99bb3a6efb8",
   "metadata": {},
   "source": [
    "# Nonparametrik Bağımlı İki Örneklem Testi"
   ]
  },
  {
   "cell_type": "code",
   "execution_count": 89,
   "id": "b511bd04-7493-4dbe-a7c7-004055f52335",
   "metadata": {},
   "outputs": [
    {
     "name": "stdout",
     "output_type": "stream",
     "text": [
      "Test İstatistiği: 15.0000, P-Value: 0.0000\n"
     ]
    }
   ],
   "source": [
    "test_statistic, p_value = stats.wilcoxon(ayrik.Oncesi, ayrik.Sonrasi)\n",
    "print('Test İstatistiği: %.4f, P-Value: %.4f' % (test_statistic, p_value))"
   ]
  },
  {
   "cell_type": "markdown",
   "id": "d8859f3c-c051-4eba-bfc6-6aeab341de72",
   "metadata": {},
   "source": [
    "### Bu testimizde de görüleceği üzere p-değeri alfa değerinden küçük. Yani H0 hipotezi reddedildi."
   ]
  }
 ],
 "metadata": {
  "kernelspec": {
   "display_name": "Python 3 (ipykernel)",
   "language": "python",
   "name": "python3"
  },
  "language_info": {
   "codemirror_mode": {
    "name": "ipython",
    "version": 3
   },
   "file_extension": ".py",
   "mimetype": "text/x-python",
   "name": "python",
   "nbconvert_exporter": "python",
   "pygments_lexer": "ipython3",
   "version": "3.9.12"
  }
 },
 "nbformat": 4,
 "nbformat_minor": 5
}
