{
 "cells": [
  {
   "cell_type": "markdown",
   "id": "18401e3f-c994-4af1-8f4c-9f3776383eec",
   "metadata": {},
   "source": [
    "# Tek Örneklem Oran Testi"
   ]
  },
  {
   "cell_type": "markdown",
   "id": "6daea047-0842-47f2-be56-dd5749681d7e",
   "metadata": {},
   "source": [
    "### Tek örneklem oran testi, bir popülasyonun bir özelliğinin (örneğin, bir ürünü satın alma olasılığı) bir örneklemden elde edilen bir örneklemle ilgili olarak test edilmesi için kullanılan bir hipotez testidir.\n",
    "\n",
    "### Bu testte, örneklemdeki oran (yani, özelliğe sahip olan örneklem büyüklüğüne bölünen örneklem büyüklüğü) ile popülasyondaki oran (yani, özelliğe sahip olan toplam popülasyon büyüklüğüne bölünen toplam popülasyon büyüklüğü) arasındaki fark test edilir.\n",
    "\n",
    "### Test, null hipotez olarak belirtilen, popülasyon oranının belirli bir değerde olduğunu varsayar ve alternatif hipotez olarak belirtilen, popülasyon oranının null hipotezden farklı olduğunu test eder. Test sonucunda, null hipotez ya reddedilir ya da kabul edilir.\n",
    "\n",
    "### Bu test, p-değeri hesaplayarak veya güven aralığı kullanarak yapılabilir. P-değeri, null hipotez altında gözlenen oranın popülasyon oranından istatistiksel olarak anlamlı bir şekilde farklı olup olmadığını ölçerken, güven aralığı, popülasyon oranının muhtemel bir aralığını tahmin eder."
   ]
  },
  {
   "cell_type": "markdown",
   "id": "9af9316b-f284-43e2-ad2c-63dd376f4dcd",
   "metadata": {},
   "source": [
    "# Hipotezler"
   ]
  },
  {
   "cell_type": "markdown",
   "id": "b75234e5-df87-45d4-9649-e40ac5c8825e",
   "metadata": {},
   "source": [
    "<d><i>H</i><sub>0</sub>: <i>P</i> = <i>P</i><sub>0</sub></d>   \n",
    "<d><i>H</i><sub>1</sub>: <i>P</i> ≠ <i>P</i><sub>0</sub></d> "
   ]
  },
  {
   "cell_type": "markdown",
   "id": "27cf96e0-9b1c-44a8-8ad0-7b109e4afbd1",
   "metadata": {},
   "source": [
    "<d><i>H</i><sub>0</sub>: <i>P</i> küçük eşit <i>P</i><sub>0</sub></d>   \n",
    "<d><i>H</i><sub>1</sub>: <i>P</i> büyük <i>P</i><sub>0</sub></d> "
   ]
  },
  {
   "cell_type": "markdown",
   "id": "fcd7f157-5481-4c13-b8e0-ede9e38c7c0a",
   "metadata": {},
   "source": [
    "<d><i>H</i><sub>0</sub>: <i>P</i> büyük eşit <i>P</i><sub>0</sub></d>   \n",
    "<d><i>H</i><sub>1</sub>: <i>P</i> küçük <i>P</i><sub>0</sub></d> "
   ]
  },
  {
   "cell_type": "markdown",
   "id": "437cd557-f8c2-4a0f-abbc-2b0f20c8c9c6",
   "metadata": {},
   "source": [
    "# Varsayım"
   ]
  },
  {
   "cell_type": "markdown",
   "id": "d4543e90-1aa0-4cf1-8555-94c67686e086",
   "metadata": {},
   "source": [
    "## Örneklem eleman sayısı n > 30 ise bu testi gerçekleştirebiliriz."
   ]
  },
  {
   "cell_type": "markdown",
   "id": "4928e7f8-976e-44cf-a34b-2426592865ac",
   "metadata": {},
   "source": [
    "# ----------------------------------------------------------"
   ]
  },
  {
   "cell_type": "markdown",
   "id": "531d6438-8ce5-4bb8-98e7-93f354e5c2ee",
   "metadata": {},
   "source": [
    "# İş Uygulaması: Dönüşüm Oranı Testi"
   ]
  },
  {
   "cell_type": "markdown",
   "id": "693c9eb8-453d-40de-981e-4daf467dcb22",
   "metadata": {},
   "source": [
    "## Problem:\n",
    "### Bir yazılım ile bir mecrada reklam verilmiş ve bu reklama ilişkin yazılım tarafından 0.125 dönüşüm oranı elde edildiği ifade edilmiş. Fakat bu durum kontrol edilmek isteniyor. Çünkü bu yüksek bir oran ve gelirler incelendiğinde örtüşmüyor\n",
    "\n",
    "\n",
    "## Detaylar:\n",
    "### 500 kişi dış mecrada reklamlara tıklamış, 40 tanesi sitemize gelip alışveriş yapmış\n",
    "### Örnek üzerinden elde edilen dönüşüm oranı 40/500 = 0,08"
   ]
  },
  {
   "cell_type": "markdown",
   "id": "e1c544fb-925e-4796-bf85-35f1af94b320",
   "metadata": {},
   "source": [
    "## Hipotezler:\n",
    "<d><i>H</i><sub>0</sub>: <i>P</i> = 0.125</d>   \n",
    "<d><i>H</i><sub>1</sub>: <i>P</i> ≠ 0.125</d> "
   ]
  },
  {
   "cell_type": "code",
   "execution_count": 4,
   "id": "f02d5257-b9bf-4d9a-8568-7f8eccb3fbfc",
   "metadata": {},
   "outputs": [],
   "source": [
    "from statsmodels.stats.proportion import proportions_ztest"
   ]
  },
  {
   "cell_type": "code",
   "execution_count": 5,
   "id": "25e5b131-7a08-4193-a107-8cc8f3b17e5c",
   "metadata": {},
   "outputs": [],
   "source": [
    "count = 40\n",
    "nobs = 500\n",
    "value = 0.125"
   ]
  },
  {
   "cell_type": "code",
   "execution_count": 7,
   "id": "0420d2e5-5fd1-444b-97ce-ce7171b25023",
   "metadata": {},
   "outputs": [
    {
     "data": {
      "text/plain": [
       "(-3.7090151628513017, 0.0002080669689845979)"
      ]
     },
     "execution_count": 7,
     "metadata": {},
     "output_type": "execute_result"
    }
   ],
   "source": [
    "proportions_ztest(count, nobs, value)"
   ]
  },
  {
   "cell_type": "markdown",
   "id": "34f2bf14-59ce-49ec-bc25-e725cd171ac6",
   "metadata": {},
   "source": [
    "## p değeri yani tuple'ın 2. elemanı alfadan (0.05) daha küçük olduğu için H0 hipotezini reddediyoruz.\n",
    "\n",
    "## Yani yazılımın elde ettiği 0.125 dönüşüm oranı doğru değil"
   ]
  }
 ],
 "metadata": {
  "kernelspec": {
   "display_name": "Python 3 (ipykernel)",
   "language": "python",
   "name": "python3"
  },
  "language_info": {
   "codemirror_mode": {
    "name": "ipython",
    "version": 3
   },
   "file_extension": ".py",
   "mimetype": "text/x-python",
   "name": "python",
   "nbconvert_exporter": "python",
   "pygments_lexer": "ipython3",
   "version": "3.9.12"
  }
 },
 "nbformat": 4,
 "nbformat_minor": 5
}
