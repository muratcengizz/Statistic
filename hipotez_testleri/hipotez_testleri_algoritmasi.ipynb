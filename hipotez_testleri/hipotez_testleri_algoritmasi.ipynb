{
 "cells": [
  {
   "cell_type": "markdown",
   "id": "bdb1de36-39b2-4fee-99a5-24ae23292551",
   "metadata": {},
   "source": [
    "# Hipotez Testleri Algoritması"
   ]
  },
  {
   "cell_type": "markdown",
   "id": "557ea829-dce1-4280-a788-d7d55e264d7a",
   "metadata": {},
   "source": [
    "## 1. Hipotezleri Belirle:\n",
    "### İlk olarak, genellikle bir hipotez önerisinde bulunulur ve bu hipotezin doğru olup olmadığını test etmek isteriz. Bu hipotez, iki bölüme ayrılır. Null (H0) ve alternatif (H1) hipotez"
   ]
  },
  {
   "cell_type": "markdown",
   "id": "515ab808-b579-4a60-9180-8e8dc9da653f",
   "metadata": {},
   "source": [
    "## 2. Test İstatistiğini Seç:\n",
    "### Test istatistiği, verilerimizi analiz etmek için kullanacağımız matematiksel formüldür. Bu, belirli bir örneklem dağılımına dayalıdır ve belirli bir test istatistiği seçmek, hipoteziniz için geçerlilik açısından önemlidir."
   ]
  },
  {
   "cell_type": "markdown",
   "id": "b3fd5431-5f92-48e8-806c-d093c6093f94",
   "metadata": {},
   "source": [
    "## 3. Anlamlılık Düzeyini Belirle: Alfa Değeri\n",
    "### Anlamlılık düzeyi, H0 hipotezinin doğru olmadığına karar verdiğimiz hata olasılığıdır. Genellikle %5 veya %1 olarak ayarlanır. Alfa hata değeri olarak da bilinir."
   ]
  },
  {
   "cell_type": "markdown",
   "id": "61a6dbb6-03e0-47cd-a76e-d22125c97780",
   "metadata": {},
   "source": [
    "## 4. Verileri Topla:\n",
    "### Verilerimizi analiz etmek için, ilgili örneklemin verilerini toplamamız gerekir."
   ]
  },
  {
   "cell_type": "markdown",
   "id": "558be63c-e942-4d08-b1ad-0b75cfc848eb",
   "metadata": {},
   "source": [
    "## 5. Test İstatistiğini Hesapla:\n",
    "### Belirlediğimiz test istatistiğini kullanarak, elde ettiğimiz verileri test istatistiği formülüne uygularız ve sonucu hesaplarız."
   ]
  },
  {
   "cell_type": "markdown",
   "id": "858a9c39-2531-4ac2-93d1-e6cc8e0a80a0",
   "metadata": {},
   "source": [
    "## 6. P-Değerini Hesapla:\n",
    "### P-Değeri, elde edilen test istatistiği sonucunun H0 hipotezi altında gözlenmesi beklenen bir şey olup olmadığını gösterir. Bu değer, verilerimizin H0 hipotezi altında gözlenmesi beklenen verilerden ne kadar farklı olduğunu gösterir."
   ]
  },
  {
   "cell_type": "markdown",
   "id": "87b725c9-f51d-4481-bc1b-7b88e3f484c2",
   "metadata": {},
   "source": [
    "## 7. Karar Ver:\n",
    "### P-değeri, belirlediğimiz anlamlılık düzeyi ile karşılaştırılmalıdır. P-değeri, anlamlılık düzeyinden küçükse (genellikle 0.05 veya 0.01), H0 hipotezinin reddedilmesi gerektiği sonucuna varılır. P-değeri, anlamlılık düzeyinden büyükse, H0 hipotezinin reddedilemeyeceği sonucuna varılır."
   ]
  },
  {
   "cell_type": "markdown",
   "id": "a9b0a730-568a-425b-b09b-98e7521a3129",
   "metadata": {},
   "source": [
    "## 8. Sonuçları Yorumla:\n",
    "### Elde ettiğimiz sonuçlara dayanarak, hipotezimizin doğru olup olmadığına karar verebiliriz. H0 hipotezi reddedilmediyse, hipotezimiz doğru olabilir veya daha fazla veri toplamamız gerekebilir."
   ]
  }
 ],
 "metadata": {
  "kernelspec": {
   "display_name": "Python 3 (ipykernel)",
   "language": "python",
   "name": "python3"
  },
  "language_info": {
   "codemirror_mode": {
    "name": "ipython",
    "version": 3
   },
   "file_extension": ".py",
   "mimetype": "text/x-python",
   "name": "python",
   "nbconvert_exporter": "python",
   "pygments_lexer": "ipython3",
   "version": "3.9.12"
  }
 },
 "nbformat": 4,
 "nbformat_minor": 5
}
