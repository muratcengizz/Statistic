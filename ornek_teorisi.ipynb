{
 "cells": [
  {
   "cell_type": "markdown",
   "id": "46f04993-1ec3-4cc0-b8ed-2d694954a3af",
   "metadata": {},
   "source": [
    "# Örnek Teorisi"
   ]
  },
  {
   "cell_type": "markdown",
   "id": "eaea52b3-0cdd-4638-98b2-de05fe7ac315",
   "metadata": {},
   "source": [
    "### İstatistiğe dayalı olmadan bir veri bilimci, bir laboratuvar asistanıdır.\n",
    "### İstatistik veri biliminin 'bilim', makine öğrenmesinin 'öğrenme' kısmıdır."
   ]
  },
  {
   "cell_type": "markdown",
   "id": "0060d86c-3799-4c4d-969a-7520a311cde5",
   "metadata": {},
   "source": [
    "## \"Better, Not More!\"\n",
    "### Verinin sayısının fazla olduğu, daha iyi sonuçlar alabileceğimizi göstermez. Hedefimiz kaliteli sonuç için kaliteli veriler ile çalışmaktır. Sayısı önemli değildir.\n",
    "\n",
    "## \"The Future of AI Will Be About Less Data, Not More!\"\n",
    "### Yapay zekanın geleceği az veriyle ilgilidir, daha fazlasıyla değil!"
   ]
  },
  {
   "cell_type": "markdown",
   "id": "d4d053c9-df22-4412-ac32-705f95fd5f22",
   "metadata": {
    "tags": []
   },
   "source": [
    "## ------------------------------------------------------------------------------\n",
    "### Örneklem Nedir ?\n",
    "\n",
    "#### Bir populasyon içerisinde, bu populasyonu temsil ediceğine inanılan temsili veri kümesidir.\n"
   ]
  },
  {
   "cell_type": "markdown",
   "id": "614c4024-4d32-423b-a86e-090a80d6b866",
   "metadata": {},
   "source": [
    "### Örneklem Dağılımı Nedir ?\n",
    "\n",
    "#### Bir populasyon içerisinden, birden fazla örneklem çektiğimiz zaman, örneklem dağılımıyla ilgilenmiş oluyoruz."
   ]
  },
  {
   "cell_type": "markdown",
   "id": "bee54ec8-cb31-4a88-9099-cacf8a7b36e1",
   "metadata": {},
   "source": [
    "## ----------------------------------------------------------------------\n",
    "### Merkezi Limit Teoremi\n",
    "\n",
    "#### Bağımsız ve aynı dağılıma sahip rassal değişkenlerin toplamı ya da aritmetik ortalaması yaklaşık olarak normal dağılmaktadır."
   ]
  },
  {
   "cell_type": "code",
   "execution_count": 1,
   "id": "3c8e94ce-7510-4e00-9e90-5f33e7827d34",
   "metadata": {},
   "outputs": [],
   "source": [
    "def positive_sum(liste):\n",
    "    sum = 0\n",
    "    for element in liste:\n",
    "        if element > 0:\n",
    "            sum = sum + element\n",
    "    return sum\n",
    "\n",
    "def positive_sum(liste):\n",
    "    return sum(x for x in liste if x > 0)"
   ]
  }
 ],
 "metadata": {
  "kernelspec": {
   "display_name": "Python 3 (ipykernel)",
   "language": "python",
   "name": "python3"
  },
  "language_info": {
   "codemirror_mode": {
    "name": "ipython",
    "version": 3
   },
   "file_extension": ".py",
   "mimetype": "text/x-python",
   "name": "python",
   "nbconvert_exporter": "python",
   "pygments_lexer": "ipython3",
   "version": "3.9.12"
  }
 },
 "nbformat": 4,
 "nbformat_minor": 5
}
