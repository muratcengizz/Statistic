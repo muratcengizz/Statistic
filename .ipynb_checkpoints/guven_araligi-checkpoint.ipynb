{
 "cells": [
  {
   "cell_type": "markdown",
   "id": "266a3fb8-ba17-4328-a803-48d8a118993b",
   "metadata": {},
   "source": [
    "## Güven Aralığı Nedir ?\n",
    "### Anakütle parametresinin tahmini değerini kapsayabilecek iki sayıdan oluşan bir aralık bulunmasıdır."
   ]
  },
  {
   "cell_type": "markdown",
   "id": "effc3211-4f64-4415-bc39-4ace685ac8bf",
   "metadata": {},
   "source": [
    "#### Web sitesinde geçirilen sürenin güven aralığı nedir ?\n",
    "#### Ortalama: 180 saniye\n",
    "#### Standart sapma: 40 saniye\n",
    "#### Güven Aralığı 172-188 'dir.\n",
    "#### Yüzde 95 doğruluk payı ile web sitesinde geçirilen sürenin güven aralığı 172-188 saniye aralığındadır."
   ]
  },
  {
   "cell_type": "markdown",
   "id": "ae4ef2f5-1838-495c-a0b3-6b140bdd68f5",
   "metadata": {},
   "source": [
    "# ------------------------------------------------------------------------------------------------------------------"
   ]
  },
  {
   "cell_type": "markdown",
   "id": "53e31e77-0051-4c50-9783-15e51fad108c",
   "metadata": {},
   "source": [
    "## Güven Aralığı Nasıl Hesaplanır ?\n",
    "\n",
    "### Adım 1: n, ortalama ve standart sapmayı bul.\n",
    "#### n=100, ortalama=180, standart sapma=40\n",
    "\n",
    "### Adım 2: Güven Aralığına karar ver: 95 mi 99 mu ?\n",
    "#### Z tablo değerini hesapla (1,96 - 2,57) Yüzde 95 için bu değer 1,96 'dır.\n",
    "\n",
    "### Adım 3: Yukaridaki değerleri kullanarak güven aralığını hesapla:\n",
    "#### Ortalama ± Z tablo değeri * (standart sapma / √n)\n",
    "#### 180 ± 1,96 * (40 / √100)\n",
    "#### 180 ± 7,84 yani 172 ile 188 arasındadır."
   ]
  },
  {
   "cell_type": "markdown",
   "id": "f5b2a728-28a9-4e21-9d81-b35025f86f69",
   "metadata": {},
   "source": [
    "# ------------------------------------------------------------------------------"
   ]
  },
  {
   "cell_type": "markdown",
   "id": "57ee41c7-979f-4684-91f4-3d5583fd402e",
   "metadata": {},
   "source": [
    "# İş Uygulaması: Fiyat Stratejisi Karar Destek Sistemi\n",
    "\n",
    "### Problem:\n",
    "#### CEO fiyat belirleme konusunda bilimsel bir dayanak ve esneklik istiyor.\n",
    "\n",
    "### Detaylar:\n",
    "#### Satıcı, alıcı ve bir ürün var.\n",
    "#### Alıcılara ürüne ne kadar ücret öderdiniz diye soruluyor.\n",
    "#### Optimum fiyat bilimsel ve esnek olarak bulunmak isteniyor."
   ]
  },
  {
   "cell_type": "code",
   "execution_count": 1,
   "id": "0f283a7f-c2d2-4d77-9772-73bd601bb6b1",
   "metadata": {},
   "outputs": [],
   "source": [
    "import numpy as np"
   ]
  },
  {
   "cell_type": "code",
   "execution_count": 4,
   "id": "70edf839-1e85-436a-a5f5-36a1dfd1022b",
   "metadata": {},
   "outputs": [],
   "source": [
    "fiyatlar = np.random.randint(10, 110, 1000)\n",
    "# 10 tl ile 110 tl arasında 1000 adet değer ürettik."
   ]
  },
  {
   "cell_type": "code",
   "execution_count": 5,
   "id": "c270c942-6fc2-40b7-a707-5b2658c3a280",
   "metadata": {},
   "outputs": [
    {
     "data": {
      "text/plain": [
       "58.837"
      ]
     },
     "execution_count": 5,
     "metadata": {},
     "output_type": "execute_result"
    }
   ],
   "source": [
    "fiyatlar.mean()"
   ]
  },
  {
   "cell_type": "code",
   "execution_count": 6,
   "id": "c7154a67-34b4-4feb-bd88-505aa82ed275",
   "metadata": {},
   "outputs": [],
   "source": [
    "import statsmodels.stats.api as sms"
   ]
  },
  {
   "cell_type": "code",
   "execution_count": 8,
   "id": "87326480-de88-4641-b3c2-ed0ec444f966",
   "metadata": {},
   "outputs": [
    {
     "data": {
      "text/plain": [
       "(57.10331272535884, 60.570687274641166)"
      ]
     },
     "execution_count": 8,
     "metadata": {},
     "output_type": "execute_result"
    }
   ],
   "source": [
    "sms.DescrStatsW(fiyatlar).tconfint_mean()\n",
    "# Müşteriler 95% doğruluk ile 57 tl ile 60 tl arasında ödeme yapıyorlar.\n",
    "# Ancak 100 kişiden 5 tanesi bu aralık dışında ödeme yapıyor."
   ]
  },
  {
   "cell_type": "markdown",
   "id": "0830f3d5-54e5-42da-a768-d5d742edc61b",
   "metadata": {},
   "source": [
    "# -----------------------------------------------------------------------"
   ]
  },
  {
   "cell_type": "markdown",
   "id": "a4f82c7b-a3ea-4904-bdae-a8688ba2437c",
   "metadata": {},
   "source": [
    "## Manuel Olarak Güven Aralığı Hesaplayalım."
   ]
  },
  {
   "cell_type": "code",
   "execution_count": 9,
   "id": "8bfa85e1-1cf9-4cb0-80c1-e7c3d30970bc",
   "metadata": {},
   "outputs": [],
   "source": [
    "df = np.random.randint(10, 200, 1000)"
   ]
  },
  {
   "cell_type": "code",
   "execution_count": 24,
   "id": "4404fb3a-639a-4df2-909a-dafd93904c96",
   "metadata": {},
   "outputs": [
    {
     "data": {
      "text/plain": [
       "106.23"
      ]
     },
     "execution_count": 24,
     "metadata": {},
     "output_type": "execute_result"
    }
   ],
   "source": [
    "ortalama = df.mean()\n",
    "ortalama"
   ]
  },
  {
   "cell_type": "code",
   "execution_count": 25,
   "id": "4d161ae2-f7d7-4170-b243-0fc2287279f4",
   "metadata": {},
   "outputs": [
    {
     "data": {
      "text/plain": [
       "55.01851597417001"
      ]
     },
     "execution_count": 25,
     "metadata": {},
     "output_type": "execute_result"
    }
   ],
   "source": [
    "std = df.std()\n",
    "std"
   ]
  },
  {
   "cell_type": "code",
   "execution_count": 12,
   "id": "ab01106f-0238-4884-bb1d-948cfbd24b1d",
   "metadata": {},
   "outputs": [],
   "source": [
    "z_table = 1,96"
   ]
  },
  {
   "cell_type": "code",
   "execution_count": 13,
   "id": "ba3bb7cc-d08c-45e9-a1c3-e18aa52c38e2",
   "metadata": {},
   "outputs": [],
   "source": [
    "#### Ortalama ± Z tablo değeri * (standart sapma / √n)"
   ]
  },
  {
   "cell_type": "code",
   "execution_count": 37,
   "id": "271eda6f-2a5e-4fd6-997b-23934118bad9",
   "metadata": {},
   "outputs": [
    {
     "data": {
      "text/plain": [
       "(102.8199170503696, array([109.64008295]))"
      ]
     },
     "execution_count": 37,
     "metadata": {},
     "output_type": "execute_result"
    }
   ],
   "source": [
    "(ortalama - 1.96 * (std / np.sqrt(1000)), ortalama + 1.96 * (std / np.sqrt([1000])))"
   ]
  },
  {
   "cell_type": "markdown",
   "id": "35e1f329-2a3e-420b-a20e-c00b723788a6",
   "metadata": {},
   "source": [
    "# ------------------------------------------------------------------"
   ]
  },
  {
   "cell_type": "code",
   "execution_count": 39,
   "id": "9a799dfa-040f-4d03-b40c-ad31c21c4575",
   "metadata": {},
   "outputs": [],
   "source": [
    "df = np.random.randint(100, 400, 2000)"
   ]
  },
  {
   "cell_type": "code",
   "execution_count": 41,
   "id": "b3a1223d-cf23-4345-8867-3b9d3685a2f7",
   "metadata": {},
   "outputs": [
    {
     "data": {
      "text/plain": [
       "251.861"
      ]
     },
     "execution_count": 41,
     "metadata": {},
     "output_type": "execute_result"
    }
   ],
   "source": [
    "mean = df.mean()\n",
    "mean"
   ]
  },
  {
   "cell_type": "code",
   "execution_count": 42,
   "id": "aa8b1f05-20ae-4fd2-86ac-590f89e2351e",
   "metadata": {},
   "outputs": [
    {
     "data": {
      "text/plain": [
       "88.61587148474025"
      ]
     },
     "execution_count": 42,
     "metadata": {},
     "output_type": "execute_result"
    }
   ],
   "source": [
    "std = df.std()\n",
    "std"
   ]
  },
  {
   "cell_type": "code",
   "execution_count": 43,
   "id": "2809ce0c-3f17-4fd9-863e-d3aaa6ff5861",
   "metadata": {},
   "outputs": [],
   "source": [
    "z_table = 1.96"
   ]
  },
  {
   "cell_type": "code",
   "execution_count": 47,
   "id": "3f165e98-51a8-4de0-be02-a1e41f2ebd20",
   "metadata": {},
   "outputs": [
    {
     "data": {
      "text/plain": [
       "(247.97723819450482, array([255.74476181]))"
      ]
     },
     "execution_count": 47,
     "metadata": {},
     "output_type": "execute_result"
    }
   ],
   "source": [
    "(mean - z_table * (std / np.sqrt(len(df))), mean + z_table * (std / np.sqrt([len(df)])))"
   ]
  },
  {
   "cell_type": "markdown",
   "id": "f10a8929-faac-4ded-a89f-ab48c2641b32",
   "metadata": {},
   "source": [
    "# -------------------------------------------------------------------"
   ]
  },
  {
   "cell_type": "code",
   "execution_count": 48,
   "id": "e0e31b10-0b50-4989-95e6-eddbb4b62a26",
   "metadata": {},
   "outputs": [],
   "source": [
    "df = np.random.randint(1000, 2000, 5000)"
   ]
  },
  {
   "cell_type": "code",
   "execution_count": 50,
   "id": "768fa5de-93d6-4d79-9483-625771aae780",
   "metadata": {},
   "outputs": [
    {
     "data": {
      "text/plain": [
       "1503.123"
      ]
     },
     "execution_count": 50,
     "metadata": {},
     "output_type": "execute_result"
    }
   ],
   "source": [
    "mean = df.mean()\n",
    "mean"
   ]
  },
  {
   "cell_type": "code",
   "execution_count": 52,
   "id": "a18b8c05-ca01-4644-92b7-9f0cf9302046",
   "metadata": {},
   "outputs": [
    {
     "data": {
      "text/plain": [
       "285.94866439799995"
      ]
     },
     "execution_count": 52,
     "metadata": {},
     "output_type": "execute_result"
    }
   ],
   "source": [
    "std = df.std()\n",
    "std"
   ]
  },
  {
   "cell_type": "code",
   "execution_count": 53,
   "id": "23b67ccb-361c-4728-a8ff-c1aeed6bb5bd",
   "metadata": {},
   "outputs": [],
   "source": [
    "z_table = 1.96"
   ]
  },
  {
   "cell_type": "code",
   "execution_count": 54,
   "id": "ae39bdfd-4f2e-4e5f-b1a5-56a248543f77",
   "metadata": {},
   "outputs": [
    {
     "data": {
      "text/plain": [
       "[array([1495.19690741]), array([1511.04909259])]"
      ]
     },
     "execution_count": 54,
     "metadata": {},
     "output_type": "execute_result"
    }
   ],
   "source": [
    "[(mean - z_table * (std / np.sqrt([len(df)]))), (mean + z_table * (std / np.sqrt([len(df)])))]"
   ]
  },
  {
   "cell_type": "markdown",
   "id": "d2cb9391-700b-43fa-a657-1d0245b20440",
   "metadata": {},
   "source": [
    "# ---------------------------------------------------------------"
   ]
  },
  {
   "cell_type": "code",
   "execution_count": 55,
   "id": "0ce8e07a-9d90-4c81-ab8c-62f5b021d91f",
   "metadata": {},
   "outputs": [],
   "source": [
    "df = np.random.randint(10000, 20000, 30000)"
   ]
  },
  {
   "cell_type": "code",
   "execution_count": 56,
   "id": "299236a7-b8d9-430a-a7a5-46d99a0f8cfe",
   "metadata": {},
   "outputs": [
    {
     "data": {
      "text/plain": [
       "15008.964633333333"
      ]
     },
     "execution_count": 56,
     "metadata": {},
     "output_type": "execute_result"
    }
   ],
   "source": [
    "mean = df.mean()\n",
    "mean"
   ]
  },
  {
   "cell_type": "code",
   "execution_count": 58,
   "id": "4010deab-f9f4-4877-83e8-8362a049e47d",
   "metadata": {},
   "outputs": [
    {
     "data": {
      "text/plain": [
       "2888.5485542250913"
      ]
     },
     "execution_count": 58,
     "metadata": {},
     "output_type": "execute_result"
    }
   ],
   "source": [
    "std = df.std()\n",
    "std"
   ]
  },
  {
   "cell_type": "code",
   "execution_count": 59,
   "id": "6e3c6a4e-8280-431f-85f4-045a5ec2b9ea",
   "metadata": {},
   "outputs": [],
   "source": [
    "z_table = 1.96"
   ]
  },
  {
   "cell_type": "code",
   "execution_count": 60,
   "id": "a792baf1-558f-4154-9578-487173193bde",
   "metadata": {},
   "outputs": [
    {
     "data": {
      "text/plain": [
       "[array([14976.27762934]), array([15041.65163733])]"
      ]
     },
     "execution_count": 60,
     "metadata": {},
     "output_type": "execute_result"
    }
   ],
   "source": [
    "[(mean - z_table * (std / np.sqrt([len(df)]))), (mean + z_table * (std / np.sqrt([len(df)])))]"
   ]
  }
 ],
 "metadata": {
  "kernelspec": {
   "display_name": "Python 3 (ipykernel)",
   "language": "python",
   "name": "python3"
  },
  "language_info": {
   "codemirror_mode": {
    "name": "ipython",
    "version": 3
   },
   "file_extension": ".py",
   "mimetype": "text/x-python",
   "name": "python",
   "nbconvert_exporter": "python",
   "pygments_lexer": "ipython3",
   "version": "3.9.12"
  }
 },
 "nbformat": 4,
 "nbformat_minor": 5
}
