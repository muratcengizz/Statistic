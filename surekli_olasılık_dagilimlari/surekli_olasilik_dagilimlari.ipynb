{
 "cells": [
  {
   "cell_type": "markdown",
   "id": "b9991bd7-7cf4-4323-8aed-cafe2cf02a39",
   "metadata": {},
   "source": [
    "# Sürekli Olasılık Dağılımları\n",
    "### Rassal değişkenlerin değerleri aralıklar halinde değil, tam sayılar dışındaki tüm değerlere sahip olabilen rassal değişkenler için tanımlanmış olasılık dağılımlarıdır.\n",
    "## Bazı önemli sürekli olasılık dağılımları şunlardır:\n",
    "### - Normal Dağılım: Birçok sayısal veri serisinde görülen bir dağılım türüdür ve verilerin çoğunun ortalama değer etrafında dağıldığını gösterir.\n",
    "### - Log-Normal Dağılım: Verilerin logaritmik dönüşümleri için tanımlanmış bir sürekli olasılık dağılımıdır.\n",
    "### - Exponensiyel Dağılım: Belirli bir zaman aralığı içinde bir olayın beklenen süresini tanımlar.\n",
    "### - Weibull Dağılım: Belirli bir zaman aralığı içinde bir olayın olası süresini tanımlar."
   ]
  },
  {
   "cell_type": "markdown",
   "id": "d908a77e-6302-4dbf-81c3-a1eb83fd6d27",
   "metadata": {},
   "source": [
    "## Normal Dağılım Örnekleri\n",
    "### 1) IQ Skoru Dağılımı: İnsanların IQ skorları genellikle normal dağılımlıdır ve ortalama IQ skoru 100 'dür. Bu dağılım, insanların IQ skorlarının çoğunun ortalama IQ skoru etrafında toplandığını gösterir.\n",
    "### 2) Altın Fiyatları: Altın fiyatları da genellikle normal dağılımlıdır. Altın fiyatlarındaki değişiklikler, ortalama fiyatı etrafında yapılan dalgalanmalar şeklinde görülür.\n",
    "### 3) Vücut Ağırlığı: İnsanların vücut ağırlıkları da genellikle normal dağılımlıdır. Bu dağılım, insanların vücut ağırlıklarının çoğunun ortalama vücut ağırlığı etrafında toplandığını gösterir.\n",
    "### 4) Banka Karları: Bankaların yıllık karları da genellikle normal dağılımlıdır. Bankaların yıllık karlarındaki değişiklikler, ortalama kar etrafında yapılan dalgalanmalar şeklinde görülür.\n",
    "### 5) Rüzgar Hızı: Rüzgar hızları da genellikle normal dağılımlıdır. Rüzgar hızlarındaki değişiklikler, ortalama rüzgar hızı etrafında yapılan dalgalanmalar şeklinde görülür.\n",
    "### Bu örnekler normal dağılımın çeşitli alanlarda nasıl uygulandığını gösterir ve normal dağılımın geniş bir yelpazede kullanılabileceğini gösterir."
   ]
  },
  {
   "cell_type": "markdown",
   "id": "b29dc76b-f28d-4260-8654-3fb902dbb2ad",
   "metadata": {},
   "source": [
    "## Log-Normal Dağılım Örnekleri\n",
    "### 1) Finansal Ürün Fiyatları: Finansal ürünlerin fiyatları, genellikle log-normal dağılımlıdır. Bu, fiyatların küçük artışlarla başladığı ve büyük artışlarla sona erdiği bir şekilde görülmesine neden olabilir.\n",
    "### 2) Yapı Malzemesi Ürünleri: Yapı malzemesi ürünlerinin fiyatları da genellikle log-normal dağılımlıdır. Bu, maliyet artışlarının neden olduğu fiyat artışlarının logaritmik bir şekilde dağılmasına neden olabilir.\n",
    "### 3) Mevsimsel Ürünlerin Fiyatları: Mevsimsel ürünlerin fiyatları da genellikle log-normal dağılımlıdır. Bu, ürünlerin fiyatlarının mevsimsel artışlar ve azalmalar şeklinde logaritmik bir dağılım göstermesine neden olabilir.\n",
    "### 4) İnşaat Projelerinin Maliyeti: İnşaat projelerinin maliyeti de genellikle log-normal dağılımlıdır. Bu, maliyet artışlarının neden olduğu maliyetlerin logaritmik bir şekilde dağılmasına neden olabilir.\n",
    "### 5) İşletme karları: İşletmelerin yıllık karları da genellikle log-normal dağılımlıdır. Bu, kar artışlarının neden olduğu karların logaritmik bir şekilde dağılmasına neden olabilir.\n",
    "### Bu örnekler log-normal dağılımın çeşitli alanlarda nasıl uygulandığını gösterir ve log-normal dağılımın geniş bir yelpazede kullanılabileceğini gösterir."
   ]
  },
  {
   "cell_type": "markdown",
   "id": "5f20a88b-e2e8-412f-835f-64c101123df0",
   "metadata": {},
   "source": [
    "## Exponensiyel Dağılım Örnekleri\n",
    "### 1) Falı Bekleme Süreleri: Telefon hattındaki falı bekleme süreleri genellikle exponensiyel dağılımlıdır. Bu, bekleme sürelerinin rastgele ve ayrık olarak oluşmasına neden olabilir.\n",
    "### 2) Kullanıcı Deneyimi: Kullanıcı deneyimi, web sitesinde geçirilen zaman veya müşteri hizmetlerindeki yanıt süresi gibi, genellikle exponensiyel dağılımlıdır.\n",
    "### 3) Arızalar ve Onarımlar: Bir sistemdeki arızalar ve onarımlar genellikle exponensiyel dağılımlıdır. Bu, arızaların ve onarımların rastgele ve ayrık olarak oluşmasına neden olabilir.\n",
    "### 4) Ürün Ömrü: Ürünlerin ömrü, örneğin bir elektronik cihazın kullanım süresi, genellikle exponensiyel dağılımlıdır.\n",
    "### 5) İnsan Yaşamı: İnsan yaşamı, örneğin insanların yaşam beklentisi, genellikle exponensiyel dağılımlıdır. Bu, insanların yaşam sürelerinin rastgele ve ayrık olarak oluşmasına neden olabilir.\n",
    "### Bu örnekler exponensiyel dağılımın çeşitli alanlarda nasıl uygulandığını gösterir ve exponensiyel dağılımın geniş bir yelpazede kullanılabileceğini gösterir."
   ]
  },
  {
   "cell_type": "markdown",
   "id": "790f96b3-96e5-4ac3-937e-f78381d066f3",
   "metadata": {},
   "source": [
    "## Weibull Dağılım Örnekleri\n",
    "### 1) Malzeme Dayanımı: Malzemelerin dayanımı, örneğin bir metal parçanın kopması, genellikle Weibull dağılımıdır.\n",
    "#### 2) Fırtına Süreleri: Fırtına süreleri, örneğin bir fırtınanın ne kadar süre boyunca sürdüğü, genellikle Weibull dağılımıdır.\n",
    "#### 3) Ürün Kullanımı: Ürün kullanımı, örneğin bir elektronik cihazın kullanım süresi, genellikle Weibull dağılımlıdır.\n",
    "#### 4) Kullanıcı Bağlılığı: Kullanıcı bağlılığı, örneğin bir web sitesinde kullanıcıların ne kadar süre boyunca kalmaları, genellikle Weibull dağılımlıdır.\n",
    "### 5) Kullanım Sıklığı: Kullanım sıklığı, örneğin bir uygulamanın ne kadar sık kullanıldığı, genellikle Weibull dağılımlıdır.\n",
    "### Bu örnekler Weibull dağılımın çeşitli alanlarda nasıl uygulandığını gösterir ve Weibull dağılımının geniş bir yelpazede kullanılabileceğini gösterir."
   ]
  }
 ],
 "metadata": {
  "kernelspec": {
   "display_name": "Python 3 (ipykernel)",
   "language": "python",
   "name": "python3"
  },
  "language_info": {
   "codemirror_mode": {
    "name": "ipython",
    "version": 3
   },
   "file_extension": ".py",
   "mimetype": "text/x-python",
   "name": "python",
   "nbconvert_exporter": "python",
   "pygments_lexer": "ipython3",
   "version": "3.9.12"
  }
 },
 "nbformat": 4,
 "nbformat_minor": 5
}
