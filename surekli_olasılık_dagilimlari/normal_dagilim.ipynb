{
 "cells": [
  {
   "cell_type": "markdown",
   "id": "5d9770cd-0a20-479b-aff3-d154943de720",
   "metadata": {},
   "source": [
    "# Normal Dağılım"
   ]
  },
  {
   "cell_type": "markdown",
   "id": "b91547d8-8dd1-4029-8c04-4c96c421836b",
   "metadata": {},
   "source": [
    "### Normal dağıldığı bilinen sürekli rassal değişkenler için olasılık hesaplaması için kullanılır."
   ]
  },
  {
   "cell_type": "markdown",
   "id": "c6eb86f2-49d6-486d-8387-9c27237c7754",
   "metadata": {},
   "source": [
    "### Normal dağılım, istatistikte sıklıkla kullanılan bir olasılık dağılımıdır. Normal dağılım, verilerin çoğunluğunun ortalamaya yakın olduğu ve ortalamadan uzaklaştıkça dağılımın azaldığı bir yapıya sahiptir.\n",
    "\n",
    "### Normal dağılımın kullanımı, özellikle hipotez testi ve güven aralığı hesaplamalarında çok yaygındır. Örneğin, bir araştırmacı bir örneklem üzerinde bir test yapmak istediğinde, normal dağılım varsayımı genellikle doğrudan veya dolaylı olarak kullanılır. Bu varsayım, normal dağılımı olan bir örneklem için, örneklem ortalamasının toplam popülasyon ortalamasından ne kadar uzak olduğuna ilişkin olasılıkların hesaplanmasına olanak tanır. Ayrıca, normal dağılım, regresyon analizi gibi diğer istatistiksel analizlerde de sıklıkla kullanılır.\n",
    "\n",
    "### Sonuç olarak, normal dağılım istatistikte çok önemli bir role sahiptir. Bu dağılımın kullanımı, verilerin dağılımını anlamamıza, istatistiksel testlerin doğruluğunu ve güvenilirliğini artırmamıza yardımcı olur."
   ]
  },
  {
   "cell_type": "markdown",
   "id": "fb28c0d4-67bc-4560-8a9b-a10f8b5b18df",
   "metadata": {},
   "source": [
    "# ---------------------------------------------------------"
   ]
  },
  {
   "cell_type": "markdown",
   "id": "2c6fa18f-22f2-4081-8470-dd311f5126e5",
   "metadata": {},
   "source": [
    "# İş Uygulaması: Ürün Satış Olasılıklarının Hesaplanması"
   ]
  },
  {
   "cell_type": "markdown",
   "id": "432b3b5b-b00d-4e8d-bdff-acd9feb10143",
   "metadata": {},
   "source": [
    "## Problem:\n",
    "### Bir yatırım/toplantı öncesinde gelecek ay ile ilgili satışların belirli değerlerde gerçekleşmesi olasılıkları belirlenmek isteniyor.\n",
    "\n",
    "## Detaylar:\n",
    "### Dağılımın normal olduğu biliniyor.\n",
    "### Aylık ortalama satış sayısı 80K, standart sapması 5K\n",
    "### 90K' dan fazla satış yapma olasılığı nedir ?"
   ]
  },
  {
   "cell_type": "code",
   "execution_count": 3,
   "id": "c7e962d9-3917-4189-b5ad-e2bbf688ee66",
   "metadata": {},
   "outputs": [],
   "source": [
    "from scipy.stats import norm"
   ]
  },
  {
   "cell_type": "code",
   "execution_count": 9,
   "id": "449dabbf-f865-4efe-b439-1ee28b231c0f",
   "metadata": {},
   "outputs": [
    {
     "data": {
      "text/plain": [
       "0.02275013194817921"
      ]
     },
     "execution_count": 9,
     "metadata": {},
     "output_type": "execute_result"
    }
   ],
   "source": [
    "# 90'dan fazla satış yapma olasılığı\n",
    "\n",
    "hedef = 90\n",
    "mean = 80\n",
    "std = 5\n",
    "\n",
    "1 - norm.cdf(hedef, mean, std)"
   ]
  },
  {
   "cell_type": "code",
   "execution_count": 10,
   "id": "2177312b-35e2-459f-9244-706944f624c4",
   "metadata": {},
   "outputs": [
    {
     "data": {
      "text/plain": [
       "0.9772498680518208"
      ]
     },
     "execution_count": 10,
     "metadata": {},
     "output_type": "execute_result"
    }
   ],
   "source": [
    "# 70'den fazla satış yapma olasılığı\n",
    "\n",
    "hedef = 70\n",
    "mean = 80\n",
    "std = 5\n",
    "\n",
    "1 - norm.cdf(hedef, mean, std)"
   ]
  },
  {
   "cell_type": "code",
   "execution_count": 11,
   "id": "0877eef2-5b3c-402a-bed5-0a4795072f71",
   "metadata": {},
   "outputs": [
    {
     "data": {
      "text/plain": [
       "0.08075665923377107"
      ]
     },
     "execution_count": 11,
     "metadata": {},
     "output_type": "execute_result"
    }
   ],
   "source": [
    "# 73 'den az satış yapma olasılığı\n",
    "\n",
    "hedef = 73\n",
    "mean = 80\n",
    "std = 5\n",
    "\n",
    "norm.cdf(73, 80, 5)"
   ]
  },
  {
   "cell_type": "code",
   "execution_count": 12,
   "id": "d0318146-cea9-4d78-876e-71d53e8c5c86",
   "metadata": {},
   "outputs": [
    {
     "data": {
      "text/plain": [
       "0.13590512198327787"
      ]
     },
     "execution_count": 12,
     "metadata": {},
     "output_type": "execute_result"
    }
   ],
   "source": [
    "# 85 ile 90 arasında satış yapma olasılığı\n",
    "\n",
    "hedef1 = 85\n",
    "hedef2 = 90\n",
    "mean = 80\n",
    "std = 5\n",
    "\n",
    "norm.cdf(hedef2, mean, std) - norm.cdf(hedef1, mean, std)"
   ]
  },
  {
   "cell_type": "markdown",
   "id": "9fbe94f1-7256-48a9-9c42-0c98edb26180",
   "metadata": {},
   "source": [
    "## Bir ürünün ağırlığının normal olarak dağıldığı durum."
   ]
  },
  {
   "cell_type": "code",
   "execution_count": 13,
   "id": "0e6239ea-c7e8-4121-8522-1ab08eccf7c5",
   "metadata": {},
   "outputs": [
    {
     "data": {
      "text/plain": [
       "array([491.79715868, 500.58298949, 492.9482415 , 505.81375476,\n",
       "       503.0113998 ])"
      ]
     },
     "execution_count": 13,
     "metadata": {},
     "output_type": "execute_result"
    }
   ],
   "source": [
    "mean = 500\n",
    "std = 10\n",
    "\n",
    "dist = norm(mean, std)\n",
    "samples = dist.rvs(5)  # Rastgele 5 örneklem çıkarma\n",
    "samples"
   ]
  },
  {
   "cell_type": "markdown",
   "id": "af7522f5-4847-4518-87d7-e258d9a1a4f2",
   "metadata": {},
   "source": [
    "## Bir öğrencinin sınav sonucunun normal olarak dağıldığı durum."
   ]
  },
  {
   "cell_type": "code",
   "execution_count": 14,
   "id": "c4b1ba66-8b3f-4351-b283-bb083c65cc5f",
   "metadata": {},
   "outputs": [
    {
     "name": "stdout",
     "output_type": "stream",
     "text": [
      "Notunuz 69.15 yüzdelik dilimdedir.\n"
     ]
    }
   ],
   "source": [
    "mean = 75\n",
    "std = 10\n",
    "\n",
    "dist = norm(mean, std)\n",
    "\n",
    "score = 80 # öğrencinin aldığı not\n",
    "\n",
    "percentile = dist.cdf(score) * 100   # Notun sınavda kaçıncı yüzdelik dilime denk geldiği\n",
    "print(f'Notunuz {percentile:.2f} yüzdelik dilimdedir.')"
   ]
  },
  {
   "cell_type": "markdown",
   "id": "cbe3e817-6bab-4899-8450-d908657bc151",
   "metadata": {},
   "source": [
    "## Bir şirketin çalışanlarının ücretinin normal olarak dağıldığı durum."
   ]
  },
  {
   "cell_type": "code",
   "execution_count": 15,
   "id": "642af26c-4080-4b1b-973a-f30e3af80743",
   "metadata": {},
   "outputs": [
    {
     "name": "stdout",
     "output_type": "stream",
     "text": [
      "[17.50178726 20.94997712 19.7053768  15.57302311 15.10632017 24.70394365\n",
      " 19.50745026 24.93885995 20.38676972 21.69922757]\n"
     ]
    }
   ],
   "source": [
    "mean = 20 # dolar\n",
    "std = 3 # dolar\n",
    "\n",
    "dist = norm(mean, std)\n",
    "\n",
    "salaries = dist.rvs(10) # Şirketin 10 çalışanından rastgele seçilenlerin saatlik ücreti\n",
    "print(salaries)"
   ]
  },
  {
   "cell_type": "markdown",
   "id": "cced6815-fa46-4a6d-97a7-5afae679e69f",
   "metadata": {},
   "source": [
    "## Bir şirketin web sitesinde geçirilen sürenin normal olarak dağıldığı durum."
   ]
  },
  {
   "cell_type": "code",
   "execution_count": 16,
   "id": "7158eb81-7d81-433a-b75c-3dc88869e909",
   "metadata": {},
   "outputs": [
    {
     "data": {
      "text/plain": [
       "array([3.47889672, 6.05619298, 5.18768275])"
      ]
     },
     "execution_count": 16,
     "metadata": {},
     "output_type": "execute_result"
    }
   ],
   "source": [
    "mean = 5 # dakika\n",
    "std = 1 # dakika\n",
    "\n",
    "dist = norm(mean, std)\n",
    "\n",
    "times = dist.rvs(3) # Rastgele 3 ziyaretçinin web sitesinde geçirdiği süre\n",
    "times"
   ]
  },
  {
   "cell_type": "markdown",
   "id": "a95f6a38-aab0-4439-8800-efcfb50b4edb",
   "metadata": {},
   "source": [
    "## Bir hastanın kan basıncının normal olarak dağıldığı durum."
   ]
  },
  {
   "cell_type": "code",
   "execution_count": 29,
   "id": "8afe9d9a-cf28-4ff0-aeed-592db8a4142a",
   "metadata": {},
   "outputs": [
    {
     "data": {
      "text/plain": [
       "'Yüksek tansiyon hastalığı yok.'"
      ]
     },
     "execution_count": 29,
     "metadata": {},
     "output_type": "execute_result"
    }
   ],
   "source": [
    "mean = 120 # mmHg\n",
    "std = 10 # mmHg\n",
    "\n",
    "dist = norm(mean, std)\n",
    "\n",
    "blood_pressure = 130 # Hastanın kan basıncı 130 mmHg\n",
    "\n",
    "\"Yüksek tansiyon hastalığı var.\" if blood_pressure > dist.mean() + 2 * dist.std() else \"Yüksek tansiyon hastalığı yok.\""
   ]
  }
 ],
 "metadata": {
  "kernelspec": {
   "display_name": "Python 3 (ipykernel)",
   "language": "python",
   "name": "python3"
  },
  "language_info": {
   "codemirror_mode": {
    "name": "ipython",
    "version": 3
   },
   "file_extension": ".py",
   "mimetype": "text/x-python",
   "name": "python",
   "nbconvert_exporter": "python",
   "pygments_lexer": "ipython3",
   "version": "3.9.12"
  }
 },
 "nbformat": 4,
 "nbformat_minor": 5
}
