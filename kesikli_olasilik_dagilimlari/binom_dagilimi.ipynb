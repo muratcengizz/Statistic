{
 "cells": [
  {
   "cell_type": "markdown",
   "id": "9606129f-3bc8-4380-9695-f5c7a493b00f",
   "metadata": {},
   "source": [
    "# Binom Dağılımı"
   ]
  },
  {
   "cell_type": "markdown",
   "id": "efcaa4fe-646f-4256-a1fd-fa662dc8b66b",
   "metadata": {},
   "source": [
    "### Binom dağılımı, bağımsız n deneme sonucu k başarılı olma olasılığı ile ilgilenildiğinde kullanılan dağılımdır."
   ]
  },
  {
   "cell_type": "markdown",
   "id": "3e66cafe-3f72-40e7-838e-a4772bb6ea98",
   "metadata": {},
   "source": [
    "##     Bir yatırımcı, herhangi bir hisse senedinin değerinin gelecek bir yıl içinde artacağına veya azalacağına bahis oynayabilir. Yatırımcı, 10 hisse senedi satın aldığında, 7 hisse senedinin gelecek bir yıl içinde artacağını düşünüyor. Bu durumda, yatırımcının kâr elde etme olasılığı nedir?\n",
    "\n",
    "##    Bu örnek, n = 10 ve p = 0.7 olarak verilen bir binom dağılımını modellemektedir. Burada, kâr elde etme olayı 'başarılı' bir olaydır ve p değeri 0.7 olarak verilmiştir. Binom dağılımının olasılık fonksiyonunu kullanarak, yatırımcının tam olarak 7 hisse senedinin değerinin artacağı olasılığı şu şekilde hesaplanabilir:\n",
    "\n",
    "##    P(X=7) = (10 choose 7) * (0.7)^7 * (0.3)^3 ≈ 0.266\n",
    "\n",
    "##    Bir otomobil üreticisi, bir modelinin yakıt tüketimiyle ilgili bir test gerçekleştiriyor. Test sırasında, otomobilin 10 tur boyunca 6 litre veya daha fazla yakıt tüketmesi durumunda, otomobilin başarısız sayılacağı belirlenmiştir. Otomobil üreticisi, otomobilin normal koşullar altında ortalama 4 litre yakıt tüketeceğine inanıyor. Bu durumda, otomobilin testi geçme olasılığı nedir?\n",
    "\n",
    "##    Bu örnek, n = 10 ve p = 0.5 olarak verilen bir binom dağılımını modellemektedir. Burada, testi geçme olayı 'başarılı' bir olaydır ve p değeri 1 - F(5;10;0.4) ≈ 0.53 olarak verilmiştir. Binom dağılımının olasılık fonksiyonunu kullanarak, otomobilin tam olarak 5 tur boyunca 6 litre veya daha fazla yakıt tüketeceği olasılığı şu şekilde hesaplanabilir:\n",
    "\n",
    "##    P(X=5) = (10 choose 5) * (0.53)^5 * (0.47)^5 ≈ 0.162\n",
    "\n",
    "##    Bir oyuncu, bir zarın 6 gelme olasılığına sahip olduğunu biliyor. Oyuncu, zarı 10 kez attığında, 6'ların en az 5 kez gelme olasılığını hesaplamak istiyor. Bu durumda, oyuncunun istediği sonucu elde etme olasılığı nedir?"
   ]
  },
  {
   "cell_type": "markdown",
   "id": "fce65f16-585e-4169-8867-1cd30aec6f99",
   "metadata": {},
   "source": [
    "### P(X = k) = (n choose k) * p^k * (1 - p) ^ (n - k)\n",
    "\n",
    "### (n choose k) = n! / (k! * (n-k)!)\n",
    "\n",
    "#### Burada;\n",
    "#### n = deneme sayısı\n",
    "#### k = başarı sayısı\n",
    "#### p = başarı olasılığı\n",
    "#### X = k değişkeni ile ifade edilen olayın gerçekleşme olasılığıdır."
   ]
  },
  {
   "cell_type": "code",
   "execution_count": 16,
   "id": "d711bf32-693b-45d1-a70e-b0de70e69728",
   "metadata": {},
   "outputs": [],
   "source": [
    "from scipy.stats import binom"
   ]
  },
  {
   "cell_type": "markdown",
   "id": "f91830f6-c534-4706-8402-fc5b914a6705",
   "metadata": {},
   "source": [
    "# -------------------------------------------------------------------"
   ]
  },
  {
   "cell_type": "markdown",
   "id": "31eb60f6-d016-45fd-b764-2bd9161f60ac",
   "metadata": {},
   "source": [
    "## Bir zarda 6 gelme olasılığı 0.2 ise, 10 kez zar atılırsa tam olarak 2 kez 6 gelme olasılığı nedir ?"
   ]
  },
  {
   "cell_type": "code",
   "execution_count": 8,
   "id": "cdb450ad-7c4e-4147-b75a-771ec3478571",
   "metadata": {},
   "outputs": [],
   "source": [
    "n = 10   # deneme sayısı\n",
    "p = 0.2  # başarı olasılığı\n",
    "k = 2    # başarı sayısı\n",
    "combination = 1    # combination = (n choose k)"
   ]
  },
  {
   "cell_type": "code",
   "execution_count": 9,
   "id": "05d4e4d9-b5aa-47e1-9177-3c5f2706bda1",
   "metadata": {},
   "outputs": [
    {
     "name": "stdout",
     "output_type": "stream",
     "text": [
      "Sonuç:  0.3019898880000002\n"
     ]
    }
   ],
   "source": [
    "for element in range(1, k+1):\n",
    "    combination *= (n - element + 1) / element\n",
    "result = combination * (p ** k) * ((1 - p) ** (n - k))\n",
    "print('Sonuç: ', result)"
   ]
  },
  {
   "cell_type": "markdown",
   "id": "876fc6c1-0875-42f9-bde6-e35a1c92d480",
   "metadata": {},
   "source": [
    "### Scipy Kütüphanesi İle Çözelim."
   ]
  },
  {
   "cell_type": "code",
   "execution_count": 17,
   "id": "d06d47bb-4320-4cc0-b646-fbd09ebe79b4",
   "metadata": {},
   "outputs": [
    {
     "name": "stdout",
     "output_type": "stream",
     "text": [
      "Sonuç:  0.30198988800000004\n"
     ]
    }
   ],
   "source": [
    "n = 10\n",
    "p = 0.2\n",
    "k = 2\n",
    "\n",
    "result = binom.pmf(k, n, p)\n",
    "print('Sonuç: ', result)"
   ]
  },
  {
   "cell_type": "markdown",
   "id": "b04fc730-0e31-46a5-8be0-481a281aa359",
   "metadata": {},
   "source": [
    "# --------------------------------------------------------------------"
   ]
  },
  {
   "cell_type": "markdown",
   "id": "6e8c5ff7-6781-46cd-87b9-9623552a7855",
   "metadata": {},
   "source": [
    "## Bir müşteri hizmetleri merkezi, 100 çağrı aldı ve her çağrının başarı olasılığı %80 ise, en az 80 çağrının başarılı olması olasılığı nedir ?"
   ]
  },
  {
   "cell_type": "code",
   "execution_count": 10,
   "id": "6a491703-92c9-42f8-b80b-ef8db353ee88",
   "metadata": {},
   "outputs": [],
   "source": [
    "n = 100\n",
    "p = 0.8\n",
    "k = 80\n",
    "result = 0"
   ]
  },
  {
   "cell_type": "code",
   "execution_count": 11,
   "id": "0448c2f8-7553-4e4c-8d5c-4d44a702a7f0",
   "metadata": {},
   "outputs": [
    {
     "name": "stdout",
     "output_type": "stream",
     "text": [
      "Sonuç:  0.5594615848733979\n"
     ]
    }
   ],
   "source": [
    "for element in range(k, n+1):\n",
    "    combination = 1\n",
    "    for i in range(1, element+1):\n",
    "        combination *= (n - i + 1) / i\n",
    "    result += combination * (p ** element) * ((1 - p) ** (n - element))\n",
    "print('Sonuç: ', result)"
   ]
  },
  {
   "cell_type": "markdown",
   "id": "5030a104-91cc-49eb-a4f3-def86dbc6fc4",
   "metadata": {},
   "source": [
    "### Scipy Kütüphanesi İle Çözelim."
   ]
  },
  {
   "cell_type": "code",
   "execution_count": 23,
   "id": "ad308d4f-43f1-44cd-b514-d3a52f83bfdd",
   "metadata": {},
   "outputs": [
    {
     "name": "stdout",
     "output_type": "stream",
     "text": [
      "Sonuç:  0.5594615848733986\n"
     ]
    }
   ],
   "source": [
    "n = 100\n",
    "p = 0.8\n",
    "k = 80\n",
    "\n",
    "result = 1 - binom.cdf(k-1, n, p)\n",
    "print('Sonuç: ', result)"
   ]
  },
  {
   "cell_type": "markdown",
   "id": "af188a70-2110-440b-b95a-6cd40d158dd0",
   "metadata": {},
   "source": [
    "# --------------------------------------------------------------------"
   ]
  },
  {
   "cell_type": "markdown",
   "id": "a4c7afe3-0c69-45da-afcf-f5d38107884a",
   "metadata": {},
   "source": [
    "## Bir kumarhanede, bir oyuncu 20 kez rulet oynuyor ve her oyun kazanma olasılığı %48 ise, tam olarak 10 kez kazanma olasılığı nedir ?"
   ]
  },
  {
   "cell_type": "code",
   "execution_count": 12,
   "id": "b99cd2f2-171f-4ab9-b0b4-bb8b30f3db19",
   "metadata": {},
   "outputs": [],
   "source": [
    "n = 20\n",
    "p = 0.48\n",
    "k = 10\n",
    "combination = 1"
   ]
  },
  {
   "cell_type": "code",
   "execution_count": 13,
   "id": "c7283d7c-bae8-452d-98a3-44e64899bc3f",
   "metadata": {},
   "outputs": [
    {
     "name": "stdout",
     "output_type": "stream",
     "text": [
      "Sonuç:  0.1733981107079648\n"
     ]
    }
   ],
   "source": [
    "for element in range(1, k+1):\n",
    "    combination *= (n - element + 1) / element\n",
    "\n",
    "result = combination * (p ** k) * ((1 - p) ** (n - k))\n",
    "print('Sonuç: ', result)"
   ]
  },
  {
   "cell_type": "markdown",
   "id": "364a4f6c-e564-4f8a-ba52-a515b7ef9cd5",
   "metadata": {},
   "source": [
    "### Scipy Kütüphanesi ile Çözelim"
   ]
  },
  {
   "cell_type": "code",
   "execution_count": 24,
   "id": "2626a194-35f7-4bcc-80c0-c4122de0730a",
   "metadata": {},
   "outputs": [
    {
     "name": "stdout",
     "output_type": "stream",
     "text": [
      "Sonuç:  0.17339811070796488\n"
     ]
    }
   ],
   "source": [
    "n = 20\n",
    "p = 0.48\n",
    "k = 10\n",
    "\n",
    "result = binom.pmf(k, n, p)\n",
    "print('Sonuç: ', result)"
   ]
  },
  {
   "cell_type": "markdown",
   "id": "f60adcc5-b514-4aeb-a445-a8d9381ce7a7",
   "metadata": {},
   "source": [
    "# --------------------------------------------------------------------"
   ]
  },
  {
   "cell_type": "markdown",
   "id": "c9790dd2-0212-481e-8bfe-064c66e643b6",
   "metadata": {},
   "source": [
    "## Bir üretim hattında, üretilen her parçanın hatalı olma olasılığı %2 ise, 500 parça üretildiğinde tam olarak 10 parçanın hatalı olması olasılığı nedir ?"
   ]
  },
  {
   "cell_type": "code",
   "execution_count": 14,
   "id": "62efebed-9b60-4534-93b7-244b1d36fcbc",
   "metadata": {},
   "outputs": [],
   "source": [
    "n = 500\n",
    "p = 0.02\n",
    "k = 10\n",
    "combination = 1"
   ]
  },
  {
   "cell_type": "code",
   "execution_count": 15,
   "id": "6539b73e-8592-4f04-907a-c20fccd22b37",
   "metadata": {},
   "outputs": [
    {
     "name": "stdout",
     "output_type": "stream",
     "text": [
      "Sonuç:  0.12637979106892916\n"
     ]
    }
   ],
   "source": [
    "for element in range(1, k+1):\n",
    "    combination *= (n - element + 1) / element\n",
    "\n",
    "result = combination * (p ** k) * ((1 - p) ** (n - k))\n",
    "print('Sonuç: ', result)"
   ]
  },
  {
   "cell_type": "markdown",
   "id": "d094e569-49dc-43bf-95d3-0463a6497dea",
   "metadata": {},
   "source": [
    "### Scipy Kütüphanesi İle Çözelim."
   ]
  },
  {
   "cell_type": "code",
   "execution_count": 25,
   "id": "3b83ebd4-d5ab-4b51-a9d4-c27c250fd539",
   "metadata": {},
   "outputs": [
    {
     "name": "stdout",
     "output_type": "stream",
     "text": [
      "Sonuç:  0.12637979106893057\n"
     ]
    }
   ],
   "source": [
    "n = 500\n",
    "p = 0.02\n",
    "k = 10\n",
    "\n",
    "result = binom.pmf(k, n, p)\n",
    "print('Sonuç: ', result)"
   ]
  },
  {
   "cell_type": "markdown",
   "id": "9a6b2bca-1e21-4f0e-992b-3e1cabeb2036",
   "metadata": {},
   "source": [
    "# --------------------------------------------------------------------"
   ]
  },
  {
   "cell_type": "markdown",
   "id": "605c6cb6-c45a-40d5-a265-be8ca2c102cc",
   "metadata": {},
   "source": [
    "## Bir dijital reklam ajansı, müşterilerinin web sitelerine yerleştirdiği reklamlar için her gösterim başına tıklanma oranının %1 olduğunu gözlemledi. Bir müşteri için 1000 gösterim yapıldığında, en az 20 tıklama alması olasılığı nedir ?"
   ]
  },
  {
   "cell_type": "code",
   "execution_count": 26,
   "id": "e90cd8c5-643e-4910-8549-dd479034d0e3",
   "metadata": {},
   "outputs": [
    {
     "name": "stdout",
     "output_type": "stream",
     "text": [
      "Sonuç:  0.0032883597877274573\n"
     ]
    }
   ],
   "source": [
    "n = 1000\n",
    "p = 0.01\n",
    "k = 20\n",
    "\n",
    "result = 1 - binom.cdf(k-1, n, p)\n",
    "print('Sonuç: ', result)"
   ]
  },
  {
   "cell_type": "markdown",
   "id": "b8609abb-0d16-40d5-abb3-4d3c24c4c685",
   "metadata": {},
   "source": [
    "# --------------------------------------------------------------------"
   ]
  },
  {
   "cell_type": "markdown",
   "id": "de4380a6-2542-422c-b94a-f0a3188603c2",
   "metadata": {},
   "source": [
    "# İş Uygulaması: Reklam Harcaması Optimizasyonu\n",
    "\n",
    "## Problem:\n",
    "### Çeşitli mecralara reklam veriliyor, reklamların tıklanma ve geri dönüşüm oranları optimize edilmeye çalışılıyor. Buna yönelik olarak belirli bir mecrada çeşitli senaryolara göre reklama tıklama olasılıkları hesaplanmak isteniliyor.\n",
    "\n",
    "## Detaylar:\n",
    "### Bir mecrada reklam verilecek.\n",
    "### Dağılım ve reklama tıklama olasılığı biliniyor (0.01)\n",
    "\n",
    "# Soru: Reklamı 100 kişi gördüğünde 1, 5, 10 tıklanması olasılığı nedir ?"
   ]
  },
  {
   "cell_type": "code",
   "execution_count": 27,
   "id": "a06403e8-dfdf-4686-a668-243f1c0deda2",
   "metadata": {},
   "outputs": [],
   "source": [
    "p = 0.01\n",
    "n = 100"
   ]
  },
  {
   "cell_type": "code",
   "execution_count": 28,
   "id": "7415dc34-0329-4659-8556-c0c58284daa0",
   "metadata": {},
   "outputs": [
    {
     "data": {
      "text/plain": [
       "0.36972963764972666"
      ]
     },
     "execution_count": 28,
     "metadata": {},
     "output_type": "execute_result"
    }
   ],
   "source": [
    "k = 1\n",
    "binom.pmf(k, n, p)"
   ]
  },
  {
   "cell_type": "code",
   "execution_count": 29,
   "id": "84e9e8b2-522f-4c63-9a6c-40a99ae2dcc4",
   "metadata": {},
   "outputs": [
    {
     "data": {
      "text/plain": [
       "0.002897787123761478"
      ]
     },
     "execution_count": 29,
     "metadata": {},
     "output_type": "execute_result"
    }
   ],
   "source": [
    "k = 5 \n",
    "binom.pmf(k, n, p)"
   ]
  },
  {
   "cell_type": "code",
   "execution_count": 30,
   "id": "32001eae-57cc-4b12-890d-2aaff56414c7",
   "metadata": {},
   "outputs": [
    {
     "data": {
      "text/plain": [
       "7.006035693977194e-08"
      ]
     },
     "execution_count": 30,
     "metadata": {},
     "output_type": "execute_result"
    }
   ],
   "source": [
    "k = 10\n",
    "binom.pmf(k, n, p)"
   ]
  }
 ],
 "metadata": {
  "kernelspec": {
   "display_name": "Python 3 (ipykernel)",
   "language": "python",
   "name": "python3"
  },
  "language_info": {
   "codemirror_mode": {
    "name": "ipython",
    "version": 3
   },
   "file_extension": ".py",
   "mimetype": "text/x-python",
   "name": "python",
   "nbconvert_exporter": "python",
   "pygments_lexer": "ipython3",
   "version": "3.9.12"
  }
 },
 "nbformat": 4,
 "nbformat_minor": 5
}
