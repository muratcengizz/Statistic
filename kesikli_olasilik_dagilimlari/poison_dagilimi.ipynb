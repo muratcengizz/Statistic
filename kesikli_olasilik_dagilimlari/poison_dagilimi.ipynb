{
 "cells": [
  {
   "cell_type": "markdown",
   "id": "5f07bad3-b366-4928-8283-a82595dc710f",
   "metadata": {},
   "source": [
    "# Poisson Dağılımı"
   ]
  },
  {
   "cell_type": "markdown",
   "id": "1483b458-629c-43b3-bd51-26b372a7ba0a",
   "metadata": {},
   "source": [
    "### Belirli bir zaman aralığında belirli bir alanda nadiren rastlanan olayların olasılıklarını hesaplamak için kullanılır."
   ]
  },
  {
   "cell_type": "markdown",
   "id": "7a68c6a2-4630-4153-bbca-579665d3244a",
   "metadata": {},
   "source": [
    "### Poisson dağılımı, nadir olayların sayısını modellemek için kullanılan bir olasılık dağılımıdır. Özellikle, rastgele bir süre içinde veya belirli bir alanda nadir olayların gerçekleşme olasılığını tahmin etmek için kullanılır. \n",
    "### Örneğin, bir web sitesine gelen ziyaretçi sayısının Poisson dağılımı ile modellenebileceğini düşünelim. Eğer bu web sitesi genellikle 100 ziyaretçi alıyorsa, ancak bazen beklenmedik şekilde 150 ziyaretçi oluyorsa, Poisson dağılımı bu tür nadir olayların gerçekleşme olasılığını hesaplamak için kullanılabilir.\n",
    "### Başka bir örnek olarak, bir tedarik zincirinde, her gün belirli bir ürünün satışlarının kaç adet olacağı tahmin edilebilir. Bu satış sayıları, Poisson dağılımı kullanılarak modellenebilir ve tedarik zincirindeki stok seviyelerinin yönetilmesi için kullanılabilir.\n",
    "### Poisson dağılımı, ayrık verilerin modellenmesi için önemli bir araçtır ve özellikle istatistiksel süreç kontrolü, mühendislik, ekonomi, biyoloji ve diğer birçok alanda kullanılır."
   ]
  },
  {
   "cell_type": "markdown",
   "id": "9c1c0361-c863-47c2-b4a3-0c81f7c5c7de",
   "metadata": {},
   "source": [
    "# Örnekler"
   ]
  },
  {
   "cell_type": "markdown",
   "id": "cfe209e1-cb22-4ddd-a0cb-e7fcf1717933",
   "metadata": {},
   "source": [
    "### 10 BİN kelimeden oluşan bir kitapta hatalı kelime sayısı\n",
    "### 4000 öğrencili okulda not girişinde hata yapılması\n",
    "### Bir iş gününde çağrı merkezine gelen taktir sayısı\n",
    "### Kredi kartı işlemlerinde sahtekarlık olması\n",
    "### Rötara düşen uçuş sefer sayısı"
   ]
  },
  {
   "cell_type": "markdown",
   "id": "e9c8b39a-b310-4b02-b4db-d8119a312dea",
   "metadata": {},
   "source": [
    "### 1. Bir telefon santralinin çağrı trafiği: Bir telefon santralinin çağrı trafiği, bir saat içinde veya belirli bir zaman aralığında alınan çağrı sayısı için Poisson dağılımı kullanılarak modelleyebilir.\n",
    "### 2. Bir web sitesine gelen trafiğin sayısı: Bir web sitesine gelen trafiğin sayısı, belirli bir zaman aralığındaki ziyaretçi sayısı için Poisson dağılımı kullanılarak modelleyebilir.\n",
    "### 3. Bir araba kiralama şirketinin günlük kaza sayısı: Bir araba kiralama şirketinin günlük kaza sayısı, araba sayısı ve müşteri sayısı gibi faktörlere bağlı olarak Poisson dağılımı ile modellenebilir.\n",
    "### 4. Bir hastanenin acil servisine gelen hasta sayısı: Bir hastanenin acil servisine gelen hasta sayısı, bir gün içindeki hastalık veya yaralanma sayısı için Poisson dağılımı kullanılarak modellenebilir.\n",
    "### 5. Bir fabrikadaki hatalı ürün sayısı: Bir fabrikadaki hatalı ürün sayısı, üretim hattındaki hatalı ürünlerin sayısı için Poisson dağılımı ile modellenebilir."
   ]
  },
  {
   "cell_type": "markdown",
   "id": "7b665cdc-f588-46ca-a7fc-5776f15c7ee3",
   "metadata": {},
   "source": [
    "# --------------------------------------------------------"
   ]
  },
  {
   "cell_type": "markdown",
   "id": "a7d3c8a8-a6b2-41d9-97c6-4498c057b123",
   "metadata": {},
   "source": [
    "### Bir trafik kavşağında belirli bir süre içinde kaç araç geleceğini tahmin edelim."
   ]
  },
  {
   "cell_type": "code",
   "execution_count": 6,
   "id": "7dbb74ae-5c7b-4ad4-97f0-49ec13c50bd1",
   "metadata": {},
   "outputs": [],
   "source": [
    "from numpy import random"
   ]
  },
  {
   "cell_type": "code",
   "execution_count": 7,
   "id": "53ac7928-05fb-42f4-8d3e-d3249ba14b86",
   "metadata": {},
   "outputs": [],
   "source": [
    "lambd = 2.5 #lambda değeri  beklenen ortalama/ortalama\n",
    "time = 60 # dakika"
   ]
  },
  {
   "cell_type": "code",
   "execution_count": 8,
   "id": "b0e0c325-a12b-4065-b1fa-53ff26bad8f0",
   "metadata": {},
   "outputs": [
    {
     "name": "stdout",
     "output_type": "stream",
     "text": [
      "137 araç gelecek.\n"
     ]
    }
   ],
   "source": [
    "num_of_cars = random.poisson(lambd * time)\n",
    "print(f'{num_of_cars} araç gelecek.')"
   ]
  },
  {
   "cell_type": "markdown",
   "id": "368a967a-3597-46f9-a1a7-031d5e08fe44",
   "metadata": {},
   "source": [
    "### Bir web sitesine gelen isteklerin sayısı Poisson dağılımı ile modellenebilir. Siteye belirli bir sürede kaç istek geleceği tahmin edilebilir."
   ]
  },
  {
   "cell_type": "code",
   "execution_count": 51,
   "id": "c46a427c-2a19-4730-87c5-5b63f8bcdebf",
   "metadata": {},
   "outputs": [],
   "source": [
    "lambd = 3 # beklenen ortalama\n",
    "time = 60"
   ]
  },
  {
   "cell_type": "code",
   "execution_count": 11,
   "id": "3664043c-01d7-4ecf-9008-6b9e81222e20",
   "metadata": {},
   "outputs": [
    {
     "name": "stdout",
     "output_type": "stream",
     "text": [
      "169 istek gelecek.\n"
     ]
    }
   ],
   "source": [
    "num_of_requests = random.poisson(lambd * time)\n",
    "print(f'{num_of_requests} istek gelecek.')"
   ]
  },
  {
   "cell_type": "markdown",
   "id": "142ea9c2-3eb0-4c0d-b039-b803c32af38d",
   "metadata": {},
   "source": [
    "### Bir fabrikada üretilen ürünlerin arızalanma sayısı Poisson dağılımı ile modellenebilir. Belirli bir üretim miktarında kaç arızalı ürün olacağı tahmin edilir."
   ]
  },
  {
   "cell_type": "code",
   "execution_count": 52,
   "id": "3cf77c0e-ece5-41d4-9a38-e03361dab717",
   "metadata": {},
   "outputs": [],
   "source": [
    "lambd = 0.5 # beklenen ortalama\n",
    "num_of_products = 1000 # üretilen ürün sayısı"
   ]
  },
  {
   "cell_type": "code",
   "execution_count": 20,
   "id": "c93a54b7-dcef-431a-b91f-e7f550c4c45f",
   "metadata": {},
   "outputs": [
    {
     "name": "stdout",
     "output_type": "stream",
     "text": [
      "493 arızalı ürün olacak.\n"
     ]
    }
   ],
   "source": [
    "num_of_defective_products = random.poisson(lambd * num_of_products)\n",
    "print(f'{num_of_defective_products} arızalı ürün olacak.')"
   ]
  },
  {
   "cell_type": "markdown",
   "id": "8270edf8-c42e-48d7-99e9-249bd12fff52",
   "metadata": {},
   "source": [
    "### Bir şehirdeki acil servise gelen hasta sayısı Poisson dağılımı ile modellenebilir. Belirli bir süre içinde kaç hasta geleceği tahmin edilir."
   ]
  },
  {
   "cell_type": "code",
   "execution_count": 53,
   "id": "021e8646-5b6c-44bc-a9fc-25d54c0b7884",
   "metadata": {},
   "outputs": [],
   "source": [
    "lambd = 6 # beklenen ortalama\n",
    "time = 120"
   ]
  },
  {
   "cell_type": "code",
   "execution_count": 28,
   "id": "d7c4a45e-cac4-4924-acde-e42e8920699b",
   "metadata": {},
   "outputs": [
    {
     "name": "stdout",
     "output_type": "stream",
     "text": [
      "716 hasta gelecek.\n"
     ]
    }
   ],
   "source": [
    "num_of_patients = random.poisson(lambd * time)\n",
    "print(f'{num_of_patients} hasta gelecek.')"
   ]
  },
  {
   "cell_type": "markdown",
   "id": "e77c33cf-093d-4de3-bd7b-8dc609a5496a",
   "metadata": {},
   "source": [
    "### Bir mağazada saat başına düşen müşteri sayısı Poisson dağılımı ile modellenebilir. Belirli bir süre içinde kaç müşteri geleceği tahmin edilir."
   ]
  },
  {
   "cell_type": "code",
   "execution_count": 54,
   "id": "c406c2fa-2781-4ce6-9797-717f49f0f8cd",
   "metadata": {},
   "outputs": [],
   "source": [
    "lambd = 4 # beklenen ortalama\n",
    "time = 180"
   ]
  },
  {
   "cell_type": "code",
   "execution_count": 41,
   "id": "d078b1e1-f960-44df-a785-3ac32e5153b7",
   "metadata": {},
   "outputs": [
    {
     "name": "stdout",
     "output_type": "stream",
     "text": [
      "8 müşteri gelecek.\n"
     ]
    }
   ],
   "source": [
    "num_of_customers = random.poisson(lambd * time / 60)\n",
    "print(f'{num_of_customers} müşteri gelecek.')"
   ]
  },
  {
   "cell_type": "markdown",
   "id": "c5c99ae6-c898-4e0d-9664-b45d09b323a6",
   "metadata": {},
   "source": [
    "### Bir e-posta hesabına gelen spam e-posta sayısı Poisson dağılımı ile modellenebilir. Belirli bir sürede kaç spam e-posta alınacağı tahmin edilir."
   ]
  },
  {
   "cell_type": "code",
   "execution_count": 55,
   "id": "44da0bf2-efec-46f8-8ca0-23eefba46bca",
   "metadata": {},
   "outputs": [],
   "source": [
    "lambd = 1.5 # beklenen ortalama\n",
    "time = 3600 # saniye"
   ]
  },
  {
   "cell_type": "code",
   "execution_count": 50,
   "id": "edf3be56-ea35-46e8-a175-1c8473c7d76c",
   "metadata": {},
   "outputs": [
    {
     "name": "stdout",
     "output_type": "stream",
     "text": [
      "1 spam e-posta alınacak.\n"
     ]
    }
   ],
   "source": [
    "num_of_spam_emails = random.poisson(lambd * time / 3600)\n",
    "print(f'{num_of_spam_emails} spam e-posta alınacak.')"
   ]
  },
  {
   "cell_type": "markdown",
   "id": "ae588e6a-ae3c-4af9-8b90-1721706e59f2",
   "metadata": {},
   "source": [
    "# ------------------------------------------------------------"
   ]
  },
  {
   "cell_type": "markdown",
   "id": "237c2949-3768-46af-bc45-215c569cbf9a",
   "metadata": {},
   "source": [
    "# İş Uygulaması: İlan Girişi Hata Olasılıklarının Hesaplanması\n",
    "\n",
    "## Problem:\n",
    "### Hatalı ilan girişi olasılıkları hesaplanmak isteniyor.\n",
    "\n",
    "## Detaylar:\n",
    "### Bir yıl süresince ölçümler yapılıyor.\n",
    "### Dağılım biliniyor. (Poisson) ve Lambda 0.1 (ortalama hata sayısı)\n",
    "### Hiç hata olmaması, 3 hata olması ve 5 hata olması olasılıkları nedir ?"
   ]
  },
  {
   "cell_type": "code",
   "execution_count": 56,
   "id": "248ef69a-e529-4d2e-af65-edfbba238803",
   "metadata": {},
   "outputs": [],
   "source": [
    "from scipy.stats import poisson"
   ]
  },
  {
   "cell_type": "code",
   "execution_count": 58,
   "id": "ad9d6dd0-e9e0-4fce-b784-2b853adaadcf",
   "metadata": {},
   "outputs": [],
   "source": [
    "lambd = 0.1\n",
    "rv = poisson(mu=lambd)"
   ]
  },
  {
   "cell_type": "code",
   "execution_count": 59,
   "id": "fe43f53d-f4d3-4e63-9b82-d60198336b2d",
   "metadata": {},
   "outputs": [
    {
     "data": {
      "text/plain": [
       "0.9048374180359595"
      ]
     },
     "execution_count": 59,
     "metadata": {},
     "output_type": "execute_result"
    }
   ],
   "source": [
    "rv.pmf(k=0)"
   ]
  },
  {
   "cell_type": "code",
   "execution_count": 60,
   "id": "37de23f7-1c22-4b1c-b763-bce730c1f1d7",
   "metadata": {},
   "outputs": [
    {
     "data": {
      "text/plain": [
       "0.00015080623633932676"
      ]
     },
     "execution_count": 60,
     "metadata": {},
     "output_type": "execute_result"
    }
   ],
   "source": [
    "rv.pmf(k=3)"
   ]
  },
  {
   "cell_type": "code",
   "execution_count": 61,
   "id": "ef727ff9-e37a-4f52-802c-32eef23da949",
   "metadata": {},
   "outputs": [
    {
     "data": {
      "text/plain": [
       "7.54031181696634e-08"
      ]
     },
     "execution_count": 61,
     "metadata": {},
     "output_type": "execute_result"
    }
   ],
   "source": [
    "rv.pmf(k=5)"
   ]
  }
 ],
 "metadata": {
  "kernelspec": {
   "display_name": "Python 3 (ipykernel)",
   "language": "python",
   "name": "python3"
  },
  "language_info": {
   "codemirror_mode": {
    "name": "ipython",
    "version": 3
   },
   "file_extension": ".py",
   "mimetype": "text/x-python",
   "name": "python",
   "nbconvert_exporter": "python",
   "pygments_lexer": "ipython3",
   "version": "3.9.12"
  }
 },
 "nbformat": 4,
 "nbformat_minor": 5
}
