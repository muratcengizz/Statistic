{
 "cells": [
  {
   "cell_type": "markdown",
   "id": "3689e97d-0bd0-4c7f-9007-163f7a0d3ae0",
   "metadata": {},
   "source": [
    "# Bernoulli Dağılımı"
   ]
  },
  {
   "cell_type": "markdown",
   "id": "02a2531d-de54-4751-900b-c6e9cfe6c2d7",
   "metadata": {},
   "source": [
    "## Başarılı-başarısız, olumlu-olumsuz şeklindeki iki sonuçlu olaylar ile ilgilenildiğinde kullanılan kesikli olasılık dağılımıdır."
   ]
  },
  {
   "cell_type": "markdown",
   "id": "5eea3fbe-edc1-439d-ac32-5155d3a4bc8f",
   "metadata": {},
   "source": [
    "# Bernoulli Dağılımı Örnekler\n",
    "\n",
    "## 1) Başarı/Başarısızlık: Bernoulli dağılımı, bir denemede başarı ya da başarıszlığı modellemek için kullanılır. Örneğin, bir müşterinin bir ürünü satın alma olasılığı ya da bir hastanın bir tedaviyi başarıyla tamamlamama olasılıgı gibi.\n",
    "## 2) Evet/Hayır Soruları: Bernoulli dağılımı, bir soruda 'evet' ya da 'hayır' şıkkı olan soruları modellemek için kullanılır. Örneğin, bir ankette katılımcıların bir partiye katılma olasılığı ya da bir müşterinin bir ürünü önerilen bir arkadaşına önerme olasılığı gibi.\n",
    "## 3) Doğru/Yanlış: Bernoulli dağılımı, bir soruda 'doğru' ya da 'yanlış' şıkkı olan soruları modellemek için kullanılır. Örneğin, bir sınavda sorunun doğru ya da yanlış cevaplanma olasılığı gibi.\n",
    "## 4) Kirli/Temiz: Bernoulli dağılımı, bir nesnenin kirli ya da temiz olma olasılığını modellemek için kullanılır. Örneğin, bir evdeki bir pencerenin kirli ya da temiz olma olasılığı gibi.\n",
    "## 5) İşe Alınma/İşe Alınmama: Bernoulli dağılımı, bir adayın işe alınma ya da işe alınmama olasılığını modellemek için kullanılır. Örneğin, bir şirketin bir adayı işe alma ya da işe almama olasılığı gibi.\n",
    "## Bu örnekler, bernoulli dağılımın çeşitli alanlarda nasıl kullanılabileceğini gösterir ve bernoulli dağılımının çok basit ve kullanışlı bir olduğunu gösterir."
   ]
  },
  {
   "cell_type": "markdown",
   "id": "509cb9ab-3693-4ceb-aae3-27ab126a8883",
   "metadata": {},
   "source": [
    "# -------------------------------------------------------------"
   ]
  },
  {
   "cell_type": "markdown",
   "id": "12a2432f-a279-4488-b9f8-9eae553f2b0e",
   "metadata": {},
   "source": [
    "### Örnek olarak, bir ürünün satın alınma olasılığının %70 olduğunu ve 100 müşterinin bu ürünü satın alma olasılığını hesaplamak istediğimizi düşünelim."
   ]
  },
  {
   "cell_type": "code",
   "execution_count": 1,
   "id": "d9ac81ed-43b7-4797-9ef6-103c7fee1256",
   "metadata": {},
   "outputs": [],
   "source": [
    "import random"
   ]
  },
  {
   "cell_type": "code",
   "execution_count": 2,
   "id": "7049c6c0-53f0-4f75-adfb-1cf3058c7409",
   "metadata": {},
   "outputs": [],
   "source": [
    "p = 0.7 # Başarı olasılığı\n",
    "n = 100 # Deneme sayısı\n",
    "success = 0"
   ]
  },
  {
   "cell_type": "code",
   "execution_count": 3,
   "id": "65e1cfa9-683a-402e-8299-bcce725a93bf",
   "metadata": {},
   "outputs": [
    {
     "name": "stdout",
     "output_type": "stream",
     "text": [
      "Başarı Sayısı:  67\n"
     ]
    }
   ],
   "source": [
    "for element in range(n):\n",
    "    if random.random() < p:\n",
    "        success += 1\n",
    "print('Başarı Sayısı: ', success)"
   ]
  },
  {
   "cell_type": "markdown",
   "id": "3ac79fb7-78d4-4270-ace2-2e5f658af4db",
   "metadata": {},
   "source": [
    "### Bu örnekte, 'random.random()' fonksiyonu 0 ile 1 arasında rastgele bir sayı döndürür ve bu sayı 'p' den küçükse deneme başarılı sayılır ve 'success' değişkeni 1 arttırılır."
   ]
  },
  {
   "cell_type": "markdown",
   "id": "3cdb2df4-7e8d-4243-9df4-97c4891f1f52",
   "metadata": {},
   "source": [
    "# --------------------------------------------------------------"
   ]
  },
  {
   "cell_type": "code",
   "execution_count": 4,
   "id": "f6ed9354-483f-4abf-a029-797fbbe64157",
   "metadata": {},
   "outputs": [],
   "source": [
    "from scipy.stats import bernoulli"
   ]
  },
  {
   "cell_type": "code",
   "execution_count": 5,
   "id": "7fbf059a-1a9b-4039-86df-1b86424b9477",
   "metadata": {},
   "outputs": [],
   "source": [
    "p = 0.6"
   ]
  },
  {
   "cell_type": "code",
   "execution_count": 6,
   "id": "7072ce82-6ee2-4c00-b11e-dcae2032af35",
   "metadata": {},
   "outputs": [
    {
     "data": {
      "text/plain": [
       "0.4"
      ]
     },
     "execution_count": 6,
     "metadata": {},
     "output_type": "execute_result"
    }
   ],
   "source": [
    "rv = bernoulli(p)\n",
    "rv.pmf(k=0)"
   ]
  },
  {
   "cell_type": "markdown",
   "id": "72f29aca-1c4f-4baa-bfae-9c52b7b473e9",
   "metadata": {},
   "source": [
    "# ------------------------------------------------------------"
   ]
  },
  {
   "cell_type": "markdown",
   "id": "2492da50-263e-4860-9f00-31c0a0b44ef1",
   "metadata": {},
   "source": [
    "## p = 0.3 olasılığı ile bir Bernoulli denemesi;"
   ]
  },
  {
   "cell_type": "code",
   "execution_count": 7,
   "id": "bf5f42b2-5063-4d89-b7a4-3fd61149680e",
   "metadata": {},
   "outputs": [],
   "source": [
    "p = 0.3"
   ]
  },
  {
   "cell_type": "code",
   "execution_count": 8,
   "id": "c0bde64f-b4a8-435f-978c-80e55b43f3a1",
   "metadata": {},
   "outputs": [
    {
     "name": "stdout",
     "output_type": "stream",
     "text": [
      "0\n"
     ]
    }
   ],
   "source": [
    "x = 1 if random.random() < p else 0\n",
    "print(x)"
   ]
  },
  {
   "cell_type": "markdown",
   "id": "cc67a5e0-3cd7-430e-aad7-2e6c7a5743ca",
   "metadata": {},
   "source": [
    "## 10 adet Bernoulli denemesi gerçekleştirme ve sonucu liste olarak alma;"
   ]
  },
  {
   "cell_type": "code",
   "execution_count": 9,
   "id": "6e5b3e31-2d53-49ca-b0d8-8a15c2f66531",
   "metadata": {},
   "outputs": [],
   "source": [
    "p = 0.5\n",
    "n = 10"
   ]
  },
  {
   "cell_type": "code",
   "execution_count": 10,
   "id": "6db42218-c4ca-47e8-8ca6-fa798320935e",
   "metadata": {},
   "outputs": [
    {
     "data": {
      "text/plain": [
       "[1, 0, 0, 1, 1, 1, 1, 0, 0, 0]"
      ]
     },
     "execution_count": 10,
     "metadata": {},
     "output_type": "execute_result"
    }
   ],
   "source": [
    "samples = [1 if random.random() < p else 0 for i in range(n) ]\n",
    "samples"
   ]
  },
  {
   "cell_type": "markdown",
   "id": "6e0d73c3-76b3-44c8-b520-6e0b7856134e",
   "metadata": {},
   "source": [
    "## p = 0.8 olasılığı ile bir Bernoulli denemesi gerçekleştirme ve sonucun kaçıncı denemede oluştuğunu bulma;"
   ]
  },
  {
   "cell_type": "code",
   "execution_count": 11,
   "id": "165c66c0-c472-40a2-af63-e7f450764e8d",
   "metadata": {},
   "outputs": [],
   "source": [
    "p = 0.8\n",
    "n = 1"
   ]
  },
  {
   "cell_type": "code",
   "execution_count": 12,
   "id": "0f9cee45-8ca7-4bd5-aef5-6eda5668acf5",
   "metadata": {},
   "outputs": [
    {
     "name": "stdout",
     "output_type": "stream",
     "text": [
      "Sonuç:  1  Deneme Sayısı:  3\n"
     ]
    }
   ],
   "source": [
    "while True:\n",
    "    n += 1\n",
    "    x = 1 if random.random() < p else 0\n",
    "    if x == 1:\n",
    "        break\n",
    "print('Sonuç: ', x, ' Deneme Sayısı: ', n)"
   ]
  },
  {
   "cell_type": "markdown",
   "id": "e6aa76e1-d9cf-4664-bf1e-ed4ca24db91c",
   "metadata": {},
   "source": [
    "## p = 0.1 olasılığı ile bir Bernoulli denemesi gerçekleştirme ve sonucun olumlu gelme olasılığını bulma;"
   ]
  },
  {
   "cell_type": "code",
   "execution_count": 13,
   "id": "35a5896a-53fa-43c2-a490-6b6f21102ca4",
   "metadata": {},
   "outputs": [],
   "source": [
    "p = 0.1\n",
    "n = 1000"
   ]
  },
  {
   "cell_type": "code",
   "execution_count": 14,
   "id": "0e65a387-a4c5-4f7a-a903-3540cecaf549",
   "metadata": {},
   "outputs": [],
   "source": [
    "samples = [1 if random.random() < p else 0 for element in range(n)]"
   ]
  },
  {
   "cell_type": "code",
   "execution_count": 15,
   "id": "277e8afd-8c25-4bc6-92f8-8aee61e7b9d0",
   "metadata": {},
   "outputs": [
    {
     "name": "stdout",
     "output_type": "stream",
     "text": [
      "Olasılık:  0.088\n"
     ]
    }
   ],
   "source": [
    "prob = sum(samples) / n\n",
    "print('Olasılık: ', prob)"
   ]
  },
  {
   "cell_type": "markdown",
   "id": "de173133-355b-4da5-a8c3-a064250107cb",
   "metadata": {},
   "source": [
    "## 100 adet Bernoulli denemesi gerçekleştirme ve sonucun ortalama değerini bulma;"
   ]
  },
  {
   "cell_type": "code",
   "execution_count": 16,
   "id": "1cb89546-7dac-48b8-b086-6193eed642cb",
   "metadata": {},
   "outputs": [],
   "source": [
    "p = 0.6\n",
    "n = 100"
   ]
  },
  {
   "cell_type": "code",
   "execution_count": 17,
   "id": "cacadab3-d1c6-4a3c-99d8-6c21e549f155",
   "metadata": {},
   "outputs": [],
   "source": [
    "samples = [1 if random.random() < p else 0 for element in range(n)]"
   ]
  },
  {
   "cell_type": "code",
   "execution_count": 18,
   "id": "e06cfa25-f731-4be6-a49c-576635506e58",
   "metadata": {},
   "outputs": [
    {
     "name": "stdout",
     "output_type": "stream",
     "text": [
      "Ortalama:  0.55\n"
     ]
    }
   ],
   "source": [
    "mean = sum(samples) / n\n",
    "print('Ortalama: ', mean)"
   ]
  },
  {
   "cell_type": "markdown",
   "id": "489fbbff-c71d-4438-bda2-e2f1bae30dda",
   "metadata": {},
   "source": [
    "# --------------------------------------------"
   ]
  },
  {
   "cell_type": "code",
   "execution_count": 19,
   "id": "693ae76e-9a35-4611-abf9-8534a360f2de",
   "metadata": {},
   "outputs": [],
   "source": [
    "import numpy as np"
   ]
  },
  {
   "cell_type": "markdown",
   "id": "369792ff-d431-4b7f-a86e-d68004eb4186",
   "metadata": {},
   "source": [
    "## İki sonuçlu bir deneyi düşün ve başarılı sonucun olasılığını p olarak belirle. Bu değer 0 ile 1 arasında olmalıdır."
   ]
  },
  {
   "cell_type": "code",
   "execution_count": 20,
   "id": "17ed3e95-9e26-4b4d-af16-13be94a7a7aa",
   "metadata": {},
   "outputs": [],
   "source": [
    "p = 0.5"
   ]
  },
  {
   "cell_type": "markdown",
   "id": "81027161-e636-4b86-a2f5-7618917367d0",
   "metadata": {},
   "source": [
    "## İstenilen sayıda Bernoulli dağılımı örneği üretmek için np.random.rand() fonksiyonunu kullan ve p değerine göre örneklerin başarılı/başarısız sonuçlarını belirle. Örneğin, 5 örnek üretmek için şu kodu yazabiliriz:"
   ]
  },
  {
   "cell_type": "code",
   "execution_count": 21,
   "id": "8eb65133-b55b-4245-aa42-f44eda6644b1",
   "metadata": {},
   "outputs": [],
   "source": [
    "n = 5\n",
    "samples = (np.random.rand(n) < p).astype(int)"
   ]
  },
  {
   "cell_type": "markdown",
   "id": "db76a56e-42eb-48bb-be93-313b1b8ca97b",
   "metadata": {},
   "source": [
    "## Bu kod, n adet örnek üretir ve her bir örnek için rastgele sayı üretir. Eğer rastgele sayı, p değerinden küçükse, o örnek başarılı olarak kabul edilir ve 1 ile temsil edilir. Aksi taktirde, örnek başarısız olarak kabul edilir ve 0 ile temsil edilir."
   ]
  },
  {
   "cell_type": "code",
   "execution_count": 22,
   "id": "84167440-5a47-46a0-a6f5-ea70996deccf",
   "metadata": {},
   "outputs": [
    {
     "data": {
      "text/plain": [
       "array([0, 1, 0, 0, 1])"
      ]
     },
     "execution_count": 22,
     "metadata": {},
     "output_type": "execute_result"
    }
   ],
   "source": [
    "samples"
   ]
  },
  {
   "cell_type": "markdown",
   "id": "43c7c441-61fe-4b51-88bb-77b3c68b80ee",
   "metadata": {},
   "source": [
    "## Bu çıktının anlamı; 1. ve 4. index değerlerinin başarılı, geri kalanının ise başarısız olduğudur."
   ]
  },
  {
   "cell_type": "markdown",
   "id": "f46c1c51-5ba8-4969-9389-a17da5f91bfb",
   "metadata": {},
   "source": [
    "# -----------------------------------------------------"
   ]
  }
 ],
 "metadata": {
  "kernelspec": {
   "display_name": "Python 3 (ipykernel)",
   "language": "python",
   "name": "python3"
  },
  "language_info": {
   "codemirror_mode": {
    "name": "ipython",
    "version": 3
   },
   "file_extension": ".py",
   "mimetype": "text/x-python",
   "name": "python",
   "nbconvert_exporter": "python",
   "pygments_lexer": "ipython3",
   "version": "3.9.12"
  }
 },
 "nbformat": 4,
 "nbformat_minor": 5
}
