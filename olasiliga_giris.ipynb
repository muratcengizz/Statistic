{
 "cells": [
  {
   "cell_type": "markdown",
   "id": "1a500c4c-0514-4b0a-a046-d9ea6bbbbfc6",
   "metadata": {},
   "source": [
    "# Olasılık Nedir ? \n",
    "### Olayların olabilirliğinin sayısal ifadesidir."
   ]
  },
  {
   "cell_type": "markdown",
   "id": "dd64f646-04e6-4b6f-aa24-f48184023fe2",
   "metadata": {},
   "source": [
    "#### Olasılık, bir olayın ya da rastgele değişkenin belirli bir sonuç olma şansını ifade etmek için kullanılan bir kavramdır. Olasılık değeri 0 ile 1 arasında bir sayıdır, ve 0 olasılık değeri, olayın hiç gerçekleşmeyeceğini, 1 olasılık değeri ise olayın mutlaka gerçekleşeceğini ifade eder. Olasılık değerleri, bir olayın ya da rastgele değişkenin belirli bir sonuç olma şansını gösterir ve bize, olası sonuçların olasılıkları hakkında bilgi verir."
   ]
  },
  {
   "cell_type": "markdown",
   "id": "2f823c85-1476-40ef-a554-42d142891933",
   "metadata": {
    "jp-MarkdownHeadingCollapsed": true,
    "tags": []
   },
   "source": [
    "# ---------------------------------------------------------------"
   ]
  },
  {
   "cell_type": "markdown",
   "id": "974eb846-c8eb-4149-a65d-5400449b26f1",
   "metadata": {},
   "source": [
    "# Rassal değişkenler\n",
    "#### Değerlerini bir deneyin sonuçlarından alan değişkene rassal değişken denir."
   ]
  },
  {
   "cell_type": "markdown",
   "id": "6d642c14-8348-4c74-a6bb-a0b05fa254ad",
   "metadata": {},
   "source": [
    "#### Rastgele değişken, belirsiz bir sonuçta bulunan bir değişkeni ifade etmek için kullanılan bir terimdir. Rastgele değişkenler, belirli bir olayın ya da deneyin sonucunu ifade etmek için kullanılır. Örneğin, bir zar atma deneyinin sonucu, rastgele değişken olarak tanımlanabilir ve her bir zar atma sonucu için farklı bir değere sahip olabilir. Rastgele değişkenin değerleri belirli bir olasılık dağılımına göre belirlenir ve bu dağılım, o rastgele değişkenin olası sonuçlarının olasılıklarını gösterir. Olasılık teorisi, rastgele değişkenlerin analizini ve modellemesini içermektedir."
   ]
  },
  {
   "cell_type": "markdown",
   "id": "172fa6f9-d4db-44af-a21b-4abca764a5fa",
   "metadata": {},
   "source": [
    "### Örnekler\n",
    "#### 1) Atış Oyunu: Atış oyununda, bir zar atılır ve atışın sonucu (1-6 arası) rassal olarak belirlenir. Bu rassal değişken, zar atışının sonucunu ifade eder.\n",
    "#### 2) İşletme içi satış miktarı: Bir periyod içinde satılan ürünlerin sayısıdır. Bu değişken, farklı satış kanalları, promosyonlar ve müşteri talep gibi faktörlere bağlı olarak rassal olarak belirlenir.\n",
    "#### 3) Günlük hava sıcaklığı: Hava koşullarının, rüzgar, yağmur ve diğer atmosferik faktörlerin etkisi sonucu rassal olarak değişir.\n",
    "#### 4) Stok Fiyatı: Piyasa koşulları, şirket haberleri ve diğer ekonomik faktörlere bağlı olarak rassal olarak değişir.\n",
    "#### 5) Çizgi film karakteri seçimi: Çizgi film izlerken, bir sonraki karakterin hangisi olacağı rassal olarak belirlenir ve izleyici bu karakteri görür.\n",
    "#### Bu örnekler, rassal değişkenin nasıl belirlendiğini ve neden belirsiz olduğunu göstermektedir."
   ]
  },
  {
   "cell_type": "markdown",
   "id": "0382bc75-db46-484f-9a3a-643f41ac97f1",
   "metadata": {},
   "source": [
    "# -------------------------------------------------------------"
   ]
  },
  {
   "cell_type": "markdown",
   "id": "658b48e0-f0a5-4877-aa20-12f318119a8b",
   "metadata": {},
   "source": [
    "# Dağılım Nedir ?\n",
    "\n",
    "#### İstatistikte dağılım, bir rastgele değişkenin değerlerinin nasıl dağıldığını ifade eden bir kavramdır. Dağılım, bir rastgele değişkenin belirli değerlere sahip olma şansını gösterir ve bize, o rastgele değişkenin olası sonuçlarının olasılıkları hakkında bilgi verir.\n",
    "#### Dağılımlar genellikle bir olasılık dağılım fonksiyonu ile tanımlanır. Olasılık dağılım fonksiyonu, her bir değer için o değerin olasılığını verir. Örneğin, bir atışın sonucu olarak bir sayının olasılığı, o sayının olasılık dağılım fonksiyonunda verilir.\n",
    "#### Bazı önemli olasılık dağılımları şunlardır: \n",
    "##### - Normal Dağılım\n",
    "##### - Poisson Dağılımı\n",
    "##### - Binom Dağılımı\n",
    "##### - Üstel Dağılım\n",
    "#### Her bir dağılım, farklı durumlarda kullanılmak üzere tasarlandı ve her birinin kendine özgü özellikleri vardır."
   ]
  },
  {
   "cell_type": "markdown",
   "id": "5169e383-7298-4ab0-a244-1fd8d447f790",
   "metadata": {},
   "source": [
    "## Kesikli Olasılık Dağılımları\n",
    "#### Belirli sayı aralığındaki değerlere sahip olan rassal değişkenler için tanımlanmış olasılık dağılımlarıdır. Bu dağılımlar, sadece belirli sayı değerlerine sahip olabilecek rastgele değişkenler için uygulanır.\n",
    "#### Bazı önemli kesikli olasılık dağılımları şunlardır:\n",
    "##### - Poisson Dağılımı: belirli bir zaman aralığı içinde belirli bir sayıda olayın gerçekleşme olasılığını tanımlar.\n",
    "##### - Binom Dağılımı: Belirli sayıda başarı/başarısızlık denemesinde başarı sayısının dağılımını tanımlar.\n",
    "##### - Geometrik Dağılım: Belirli sayıda başarısız deneme sonrası ilk başarı denemesinin sayısını tanımlar.\n",
    "##### - Bernoulli Dağılımı: Başarılı-başarısız, olumlu-olumsuz şeklindeki iki sonuçlu olaylar ile ilgilenildiğinde kullanılan dağılımdır.\n",
    "#### Kesikli olasılık dağılımları, rastgele değişkenlerin belirli aralıklardaki değerlerinin olasılıklarını tanımlayan ve bu değerlerin dağılımlarını modellerken kullanılır."
   ]
  },
  {
   "cell_type": "markdown",
   "id": "30495c7e-20ee-4410-8821-708ca1e007a8",
   "metadata": {
    "tags": []
   },
   "source": [
    "## Sürekli Olasılık Dağılımları\n",
    "#### Rassal değişkenlerin değerleri aralıklar halinde değil, tam sayılar dışındaki tüm değerlere sahip olabilen rassal değişkenler için tanımlanmış olasılık dağılımlarıdır.\n",
    "#### Bazı önemli sürekli olasılık dağılımları şunlardır:\n",
    "##### - Normal Dağılım: Birçok sayısal veri serisinde görülen bir dağılım türüdür ve verilerin çoğunun ortalama değer etrafında dağıldığını gösterir."
   ]
  },
  {
   "cell_type": "markdown",
   "id": "cf4b3b3e-62f8-4338-a5fe-6e25c5138ed1",
   "metadata": {},
   "source": [
    "##### - Log-Normal Dağılım: Verilerin logaritmik dönüşümleri için tanımlanmış bir sürekli olasılık dağılımıdır.\n"
   ]
  },
  {
   "cell_type": "markdown",
   "id": "61a0c721-c429-4f1f-8d78-eb1061b49990",
   "metadata": {},
   "source": [
    "##### - Exponensiyel Dağılım: Belirli bir zaman aralığı içinde bir olayın beklenen süresini tanımlar."
   ]
  },
  {
   "cell_type": "markdown",
   "id": "fd2a7ec7-d1b5-4e61-ad59-ef2492c8e59a",
   "metadata": {},
   "source": [
    "##### - Weibull Dağılım: Belirli bir zaman aralığı içinde bir olayın olası süresini tanımlar.\n"
   ]
  },
  {
   "cell_type": "markdown",
   "id": "2b7ecdea-0447-488b-aea3-fbf09cea49be",
   "metadata": {},
   "source": [
    "#### Sürekli olasılık dağılımları, rassal değişkenlerin değerlerinin tüm aralıklardaki olasılıklarını tanımlayan ve bu değerlerin dağılımlarını modellerken kullanılır"
   ]
  }
 ],
 "metadata": {
  "kernelspec": {
   "display_name": "Python 3 (ipykernel)",
   "language": "python",
   "name": "python3"
  },
  "language_info": {
   "codemirror_mode": {
    "name": "ipython",
    "version": 3
   },
   "file_extension": ".py",
   "mimetype": "text/x-python",
   "name": "python",
   "nbconvert_exporter": "python",
   "pygments_lexer": "ipython3",
   "version": "3.9.12"
  }
 },
 "nbformat": 4,
 "nbformat_minor": 5
}
