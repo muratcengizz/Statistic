{
 "cells": [
  {
   "cell_type": "markdown",
   "id": "ce7777ec-47c1-4e27-bd0e-979f6e09c67b",
   "metadata": {
    "tags": []
   },
   "source": [
    "# Önemli olasılık dağılımları şunlardır:\n",
    "\n",
    "##    Normal Dağılım (Gaussian Dağılım)\n",
    "##    Poisson Dağılım\n",
    "##    Binom Dağılım\n",
    "##    Bernoulli Dağılım\n",
    "##    Uniform Dağılım\n",
    "##    Exponential Dağılım\n",
    "##    Gamma Dağılım\n",
    "##    Weibull Dağılım\n",
    "##    Beta Dağılım."
   ]
  }
 ],
 "metadata": {
  "kernelspec": {
   "display_name": "Python 3 (ipykernel)",
   "language": "python",
   "name": "python3"
  },
  "language_info": {
   "codemirror_mode": {
    "name": "ipython",
    "version": 3
   },
   "file_extension": ".py",
   "mimetype": "text/x-python",
   "name": "python",
   "nbconvert_exporter": "python",
   "pygments_lexer": "ipython3",
   "version": "3.9.12"
  }
 },
 "nbformat": 4,
 "nbformat_minor": 5
}
