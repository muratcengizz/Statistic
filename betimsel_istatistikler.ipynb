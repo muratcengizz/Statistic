{
 "cells": [
  {
   "cell_type": "markdown",
   "id": "e7cecb0d-e9d5-4814-900c-4dc68ca673fd",
   "metadata": {},
   "source": [
    "# Betimsel İstatistikler"
   ]
  },
  {
   "cell_type": "markdown",
   "id": "a920213f-52cf-4b19-9c33-2f7a7bc41fab",
   "metadata": {},
   "source": [
    "### Ortalama\n",
    "#### Bir veri kümesinin elemanlarının toplamının eleman sayısına bölünmesi sonucu bulunan bir değerdir. Verilerin dağılımını ve elemanların genel trendlerini belirlemek için kullanılan bir ölçüt olarak ortalama, veri analizi ve istatistikte sıkça kullanılan bir kavramdır. Örnek olarak, bir sınıftaki öğrencilerin not ortalaması gibi."
   ]
  },
  {
   "cell_type": "markdown",
   "id": "0c178c81-5c8c-4fe7-b81b-d267cffa9030",
   "metadata": {},
   "source": [
    "## ---------------------------------------------------------------------------------------"
   ]
  },
  {
   "cell_type": "markdown",
   "id": "3c725fbc-9191-4197-b8b6-b08634f3c620",
   "metadata": {},
   "source": [
    "### Medyan\n",
    "#### Bir veri kümesindeki değerlerin sıralandıktan sonra ortadaki değerdir. Eğer veri kümesi eleman sayısı çift ise, ortadaki iki değerin ortalaması alınır. Medyan, ortalama gibi verilen dağılımını ve elemanların genel trendlerini belirlemek için kullanılan bir ölçüt olarak, veri analizi ve istatistikte sıkça kullanılan bir kavramdır. Örneğin, bir sınıftaki öğrencilerin not medyası gibi. Fakat farklı veri kümelerinde ortalama ile medyan arasında farklılık gösterebilir ve verilerin dağılımına göre birinin diğerinden daha uygun olduğu durumlar olabilir."
   ]
  },
  {
   "cell_type": "markdown",
   "id": "61a81402-b677-4162-86d6-d0f3b40886f8",
   "metadata": {},
   "source": [
    "## ----------------------------------------------------------------------------------------"
   ]
  },
  {
   "cell_type": "markdown",
   "id": "ee8c47cc-0f07-4626-8689-67336544080c",
   "metadata": {},
   "source": [
    "### Mod\n",
    "#### Bir tam sayının diğer bir tam sayıya bölümünden kalanı ifade eder. Mod operatörü (%), veri analizi ve istatistikte sıkça kullanılan bir işlemdir. Örneğin, 7 mod 3 = 1 ifadesi 7 sayısının 3'e bölümünden kalan 1'i ifade eder. Mod, verilerin belirli aralıklarda gruplandırılması, verilerin belirli bir değere yakınlığının belirlenmesi veya verilerin belirli bir periyodik döngü içinde incelenmesi gibi durumlarda kullanılabilir."
   ]
  },
  {
   "cell_type": "markdown",
   "id": "02661ca0-3ee9-4312-852e-159bac5cb692",
   "metadata": {},
   "source": [
    "## ---------------------------------------------------------------------------------------"
   ]
  },
  {
   "cell_type": "markdown",
   "id": "57164472-3cdc-4896-96a7-d53bab92ee65",
   "metadata": {},
   "source": [
    "### Kuartil\n",
    "#### Bir veri kümesinin elemanlarının sıralandıktan sonra, verilerin %25'ini, %50'sini ve %75'ini ifade eder. Bunlar sırasıyla birinci kuartil (Q1), medyan ve üçüncü kuartil (Q3) olarak adlandırılır ve verilerin dağılımı hakkında bilgi verir."
   ]
  },
  {
   "cell_type": "markdown",
   "id": "de2542db-359d-45c1-8f0a-f690b0567949",
   "metadata": {},
   "source": [
    "## ---------------------------------------------------------------------------------------"
   ]
  },
  {
   "cell_type": "markdown",
   "id": "07fa2581-920d-4872-8346-3633b6d7316f",
   "metadata": {},
   "source": [
    "### Değişim Aralığı\n",
    "#### Bir veri kümesindeki en küçük ve en büyük değer arasındaki farkı ifade eder. Değişim aralığı, verilerin dağılımı hakkında genel bir fikir verir ve verilerin ne kadar dağınık olduğunu gösterir. Matematiksel olarak, değişim aralığı verilerin en büyük değeri (X_max) ile en küçük değeri (X_min) arasındaki fark olarak hesaplanır:\n",
    "#### Değişim Aralığı = X_max - X_min\n",
    "#### Değişim aralığı, verilerin yapısı hakkında fikir vermek için kullanılan diğer ölçütler gibi medyan, ortalam ve kuartil ile birlikte kullanılabilir."
   ]
  },
  {
   "cell_type": "markdown",
   "id": "7663f408-742f-41ce-a2d3-c691904d7543",
   "metadata": {},
   "source": [
    "## -----------------------------------------------------------------------------------------"
   ]
  },
  {
   "cell_type": "markdown",
   "id": "ae4a3805-daa2-4a3e-b817-a645cfb0e648",
   "metadata": {},
   "source": [
    "### Standart Sapma\n",
    "#### Bir veri kümesindeki değerlerin ortalamadan ne kadar uzak olduğunu ölçen bir göstergedir. Standart sapma, verilerin dağılımı hakkında genel bir fikir verir ve verilerin ne kadar dağınık olduğunu gösterir. Matematiksel olarak, standart sapma bir veri kümesindeki n elemanın ortalaman (μ) uzaklıklarının karelerinin ortalamasının karekökü olarak hesaplanır.\n",
    "#### σ = √( (1/n) * Σ ( x_i - μ )^2 )\n",
    "#### Burada x_i veri kümesindeki her bir eleman için verilir ve Σ (x_i - μ)^2 verilerin ortalamadan uzaklıklarının karelerinin toplamıdır. Standart sapma, verilerin ortalama hakkında daha detaylı bilgi verir ve verilerin ne kadar dağınık olduğunu gösterir."
   ]
  },
  {
   "cell_type": "markdown",
   "id": "82ca314a-1a31-43f1-84a3-0b0c8dc39bad",
   "metadata": {},
   "source": [
    "### İstatistikte Standart Sapma Ne İşe Yarar ?\n",
    "#### Bir değişkenin verilerinin ortalamadan sapmalarının bir ölçüsüdür ve varyansın karekökü olarak hesaplanır. Standart sapma, verilerin dağılımının ne kadar geniş olduğunu gösterir ve verilerin ortalamadan ne kadar uzaklaştıklarını ölçer. Aynı zamanda, standart sapma, verilerin olasılık dağılımlarını tanımlamada ve veriler arasındaki farklılıkları ölçmede de kullanılır. Standart sapma, verilerin birimlerinde ölçülür ve varyans gibi, veriler arasındaki farklılığı ölçer."
   ]
  },
  {
   "cell_type": "markdown",
   "id": "228c0f60-860d-47c8-a3c0-b02843a9a91a",
   "metadata": {},
   "source": [
    "## --------------------------------------------------------------------------------------"
   ]
  },
  {
   "cell_type": "markdown",
   "id": "af0d10d4-aa77-47af-b940-fe9548c23cb9",
   "metadata": {},
   "source": [
    "### Varyans\n",
    "#### Bir veri kümesindeki değerlerin ortalamadan ne kadar uzak olduğunu ölçen bir göstergedir. Varyans, verilerin dağılımı hakkında genel bir fikir verir ve verilerin ne kadar dağınık olduğunu gösterir. Matematiksel olarak, varyans bir veri kümesindeki n elemanın ortalamadan (μ) uzaklıklarının karelerinin ortalaması olarak hesaplanır.\n",
    "#### V = (1/n) * Σ ( x_i - μ )^2\n",
    "#### Burada x_i veri kümesindeki her bir eleman için verilir ve  Σ (x_i - μ)^2 verilerin ortalamadan uzaklıklarının karelerinin toplamıdır. Varyans, standart sapma'nın karekökü olarak tanımlanır ve verilerin ne kadar dağınık olduğunu gösterir"
   ]
  },
  {
   "cell_type": "markdown",
   "id": "264d71bd-b8f5-4cd7-8ed4-0f0fad13d084",
   "metadata": {},
   "source": [
    "### İstatistikte Varyans Ne İşe Yarar ?\n",
    "#### Bir değişkenin değerlerinin dağılımı hakkında bilgi verir ve bir değişkenin verilerinin ortalamadan sapmalarının ne kadar büyük olduğunu ölçer. Bu sapmaların büyüklüğü, değişkenin verilerinin dağılımı hakkında bilgi verir ve varyansın büyüklüğü, verilerin ortalamadan ne kadar uzaklatıklarını gösterir. Bu da verilerin ne kadar yaygın bir dağılıma sahip olduuğunu ve ne kadar değişken olduğunu gösterir. Ayrıca varyans, veriler arasındaki farklılıkların ölçülmesinde de kullanılır."
   ]
  },
  {
   "cell_type": "markdown",
   "id": "71797d31-8171-43e0-8037-12d136f301bb",
   "metadata": {},
   "source": [
    "## ---------------------------------------------------------------------------------------"
   ]
  },
  {
   "cell_type": "markdown",
   "id": "1837453d-122b-4450-af50-bd6a20b96df9",
   "metadata": {},
   "source": [
    "### Kovaryans\n",
    "#### İki değişken arasındaki lineer ilişkinin miktarını ölçen bir istatistiktir. Pozitif kovaryans, iki değişkenin birlikte artmasına işaret eder, negatif kovaryans ise iki değişkenin birlikte azalmasına işaret eder. Kovaryans, değişkenlerin ortalamalarından kopukluklarının büyüklüğünü ölçer ve birimleri değişkenlerin birimleridir."
   ]
  },
  {
   "cell_type": "markdown",
   "id": "b0d58e3a-7d66-4efb-a7bb-b1dfe3c16a22",
   "metadata": {},
   "source": [
    "### İstatistikte Kovaryans Ne İşe Yarar ?\n",
    "#### İki değişken arasındaki lineer ilişki gücünü ölçer ve bu iki değişkenin birbirine olan etkisini gösterir. Kovaryans, iki değişken arasındaki ilişkinin yönünü belirtmez, ancak pozitif bir değer iki değişkenin birlikte artmasına, negatif bir değer ise iki değişkenin birlikte azalmasına işaret eder. Kovaryans, verilerin birimlerinde ölçülür ve birimi yoktur. Kovaryans, veriler arasındaki farklılıkları ölçmek ve verilerin olasılık dağılımlarını tanımlamak için kullanılabilir."
   ]
  },
  {
   "cell_type": "markdown",
   "id": "33cab020-242a-49e6-847c-1b0f53375e0d",
   "metadata": {},
   "source": [
    "## --------------------------------------------------------------------------------------"
   ]
  },
  {
   "cell_type": "markdown",
   "id": "cc78a93e-fe88-4334-9462-0791cd6b3689",
   "metadata": {},
   "source": [
    "### Korelasyon\n",
    "#### İki değişken arasındaki lineer ilişkinin yönünü ve gücünü ölçen bir istatistiktir. Korelasyon, -1 ile 1 arasında bir değere sahiptir ve sıfır ile negatif olana dek değişkenler arasında ters bir ilişki, pozitif olana dek ise doğru bir ilişki olduğunu gösterir. Korelasyon, değişkenlerin birbirine olan bağımlılık düzeyini ölçer ve birimi yoktur."
   ]
  },
  {
   "cell_type": "markdown",
   "id": "3b0d0334-7c60-4119-9984-bcf99ffe2730",
   "metadata": {},
   "source": [
    "### İstatistikte Korelasyon Ne İşe Yarar ?\n",
    "#### Korelasyon, kovaryans gibi, iki değişken arasındaki ilişkinin yönünü de belirtir ve pozitif bir değer iki değişkenin birlikte artmasına, negatif bir değer ise iki değişkenin birlikte azalmasına işaret eder. Ancak, korelasyon, kovaryansa göre daha kolay anlaşılabilir ve değerlendirilebilir çünkü -1 ile 1 arasında bir skala kullanır ve bu değerler ilişkinin gücünü ifade eder. Korelasyon, veriler arasındaki farklılıkları ölçmek ve verilerin olasılık dağılımlarını tanımlamak için de kullanılabilir."
   ]
  },
  {
   "cell_type": "markdown",
   "id": "34fe2221-1813-4961-9e5c-0700122fca21",
   "metadata": {},
   "source": [
    "# --------------------------------------------------------------------------------------------------------------------------"
   ]
  },
  {
   "cell_type": "markdown",
   "id": "26baa943-13de-4d22-80d5-2fe0f30d8b8e",
   "metadata": {},
   "source": [
    "# Betimsel İstatistikler - Uygulama"
   ]
  },
  {
   "cell_type": "code",
   "execution_count": 1,
   "id": "b848c711-257f-4031-986b-d46da4d8df7b",
   "metadata": {},
   "outputs": [
    {
     "data": {
      "text/html": [
       "<div>\n",
       "<style scoped>\n",
       "    .dataframe tbody tr th:only-of-type {\n",
       "        vertical-align: middle;\n",
       "    }\n",
       "\n",
       "    .dataframe tbody tr th {\n",
       "        vertical-align: top;\n",
       "    }\n",
       "\n",
       "    .dataframe thead th {\n",
       "        text-align: right;\n",
       "    }\n",
       "</style>\n",
       "<table border=\"1\" class=\"dataframe\">\n",
       "  <thead>\n",
       "    <tr style=\"text-align: right;\">\n",
       "      <th></th>\n",
       "      <th>total_bill</th>\n",
       "      <th>tip</th>\n",
       "      <th>sex</th>\n",
       "      <th>smoker</th>\n",
       "      <th>day</th>\n",
       "      <th>time</th>\n",
       "      <th>size</th>\n",
       "    </tr>\n",
       "  </thead>\n",
       "  <tbody>\n",
       "    <tr>\n",
       "      <th>0</th>\n",
       "      <td>16.99</td>\n",
       "      <td>1.01</td>\n",
       "      <td>Female</td>\n",
       "      <td>No</td>\n",
       "      <td>Sun</td>\n",
       "      <td>Dinner</td>\n",
       "      <td>2</td>\n",
       "    </tr>\n",
       "    <tr>\n",
       "      <th>1</th>\n",
       "      <td>10.34</td>\n",
       "      <td>1.66</td>\n",
       "      <td>Male</td>\n",
       "      <td>No</td>\n",
       "      <td>Sun</td>\n",
       "      <td>Dinner</td>\n",
       "      <td>3</td>\n",
       "    </tr>\n",
       "    <tr>\n",
       "      <th>2</th>\n",
       "      <td>21.01</td>\n",
       "      <td>3.50</td>\n",
       "      <td>Male</td>\n",
       "      <td>No</td>\n",
       "      <td>Sun</td>\n",
       "      <td>Dinner</td>\n",
       "      <td>3</td>\n",
       "    </tr>\n",
       "    <tr>\n",
       "      <th>3</th>\n",
       "      <td>23.68</td>\n",
       "      <td>3.31</td>\n",
       "      <td>Male</td>\n",
       "      <td>No</td>\n",
       "      <td>Sun</td>\n",
       "      <td>Dinner</td>\n",
       "      <td>2</td>\n",
       "    </tr>\n",
       "    <tr>\n",
       "      <th>4</th>\n",
       "      <td>24.59</td>\n",
       "      <td>3.61</td>\n",
       "      <td>Female</td>\n",
       "      <td>No</td>\n",
       "      <td>Sun</td>\n",
       "      <td>Dinner</td>\n",
       "      <td>4</td>\n",
       "    </tr>\n",
       "  </tbody>\n",
       "</table>\n",
       "</div>"
      ],
      "text/plain": [
       "   total_bill   tip     sex smoker  day    time  size\n",
       "0       16.99  1.01  Female     No  Sun  Dinner     2\n",
       "1       10.34  1.66    Male     No  Sun  Dinner     3\n",
       "2       21.01  3.50    Male     No  Sun  Dinner     3\n",
       "3       23.68  3.31    Male     No  Sun  Dinner     2\n",
       "4       24.59  3.61  Female     No  Sun  Dinner     4"
      ]
     },
     "execution_count": 1,
     "metadata": {},
     "output_type": "execute_result"
    }
   ],
   "source": [
    "import seaborn as sns\n",
    "tips = sns.load_dataset('tips')\n",
    "df = tips.copy()\n",
    "df.head()"
   ]
  },
  {
   "cell_type": "code",
   "execution_count": 2,
   "id": "b926cfc7-328c-4dc0-ab11-6f953b1d5fca",
   "metadata": {},
   "outputs": [
    {
     "data": {
      "text/html": [
       "<div>\n",
       "<style scoped>\n",
       "    .dataframe tbody tr th:only-of-type {\n",
       "        vertical-align: middle;\n",
       "    }\n",
       "\n",
       "    .dataframe tbody tr th {\n",
       "        vertical-align: top;\n",
       "    }\n",
       "\n",
       "    .dataframe thead th {\n",
       "        text-align: right;\n",
       "    }\n",
       "</style>\n",
       "<table border=\"1\" class=\"dataframe\">\n",
       "  <thead>\n",
       "    <tr style=\"text-align: right;\">\n",
       "      <th></th>\n",
       "      <th>count</th>\n",
       "      <th>mean</th>\n",
       "      <th>std</th>\n",
       "      <th>min</th>\n",
       "      <th>25%</th>\n",
       "      <th>50%</th>\n",
       "      <th>75%</th>\n",
       "      <th>max</th>\n",
       "    </tr>\n",
       "  </thead>\n",
       "  <tbody>\n",
       "    <tr>\n",
       "      <th>total_bill</th>\n",
       "      <td>244.0</td>\n",
       "      <td>19.785943</td>\n",
       "      <td>8.902412</td>\n",
       "      <td>3.07</td>\n",
       "      <td>13.3475</td>\n",
       "      <td>17.795</td>\n",
       "      <td>24.1275</td>\n",
       "      <td>50.81</td>\n",
       "    </tr>\n",
       "    <tr>\n",
       "      <th>tip</th>\n",
       "      <td>244.0</td>\n",
       "      <td>2.998279</td>\n",
       "      <td>1.383638</td>\n",
       "      <td>1.00</td>\n",
       "      <td>2.0000</td>\n",
       "      <td>2.900</td>\n",
       "      <td>3.5625</td>\n",
       "      <td>10.00</td>\n",
       "    </tr>\n",
       "    <tr>\n",
       "      <th>size</th>\n",
       "      <td>244.0</td>\n",
       "      <td>2.569672</td>\n",
       "      <td>0.951100</td>\n",
       "      <td>1.00</td>\n",
       "      <td>2.0000</td>\n",
       "      <td>2.000</td>\n",
       "      <td>3.0000</td>\n",
       "      <td>6.00</td>\n",
       "    </tr>\n",
       "  </tbody>\n",
       "</table>\n",
       "</div>"
      ],
      "text/plain": [
       "            count       mean       std   min      25%     50%      75%    max\n",
       "total_bill  244.0  19.785943  8.902412  3.07  13.3475  17.795  24.1275  50.81\n",
       "tip         244.0   2.998279  1.383638  1.00   2.0000   2.900   3.5625  10.00\n",
       "size        244.0   2.569672  0.951100  1.00   2.0000   2.000   3.0000   6.00"
      ]
     },
     "execution_count": 2,
     "metadata": {},
     "output_type": "execute_result"
    }
   ],
   "source": [
    "df.describe().T\n",
    "# count -> Değişkende ki gözlem miktari\n",
    "# mean -> Değişkenin ortalaması\n",
    "# std -> Değişkenin standart sapması\n",
    "# min -> Değişkende ki minimum değer\n",
    "# 25%, 50%, 75% -> Değişkende ki kartil değerleri\n",
    "# max -> Değişkende ki maximum değer"
   ]
  },
  {
   "cell_type": "code",
   "execution_count": 3,
   "id": "79501299-55c5-43c2-995e-8dddb19779b4",
   "metadata": {},
   "outputs": [],
   "source": [
    "import researchpy as rp"
   ]
  },
  {
   "cell_type": "code",
   "execution_count": 4,
   "id": "048a8731-0618-4fd8-b6b7-68a961e2bd67",
   "metadata": {},
   "outputs": [
    {
     "name": "stdout",
     "output_type": "stream",
     "text": [
      "\n",
      "\n"
     ]
    },
    {
     "data": {
      "text/html": [
       "<div>\n",
       "<style scoped>\n",
       "    .dataframe tbody tr th:only-of-type {\n",
       "        vertical-align: middle;\n",
       "    }\n",
       "\n",
       "    .dataframe tbody tr th {\n",
       "        vertical-align: top;\n",
       "    }\n",
       "\n",
       "    .dataframe thead th {\n",
       "        text-align: right;\n",
       "    }\n",
       "</style>\n",
       "<table border=\"1\" class=\"dataframe\">\n",
       "  <thead>\n",
       "    <tr style=\"text-align: right;\">\n",
       "      <th></th>\n",
       "      <th>Variable</th>\n",
       "      <th>N</th>\n",
       "      <th>Mean</th>\n",
       "      <th>SD</th>\n",
       "      <th>SE</th>\n",
       "      <th>95% Conf.</th>\n",
       "      <th>Interval</th>\n",
       "    </tr>\n",
       "  </thead>\n",
       "  <tbody>\n",
       "    <tr>\n",
       "      <th>0</th>\n",
       "      <td>total_bill</td>\n",
       "      <td>244.0</td>\n",
       "      <td>19.7859</td>\n",
       "      <td>8.9024</td>\n",
       "      <td>0.5699</td>\n",
       "      <td>18.6633</td>\n",
       "      <td>20.9086</td>\n",
       "    </tr>\n",
       "    <tr>\n",
       "      <th>1</th>\n",
       "      <td>tip</td>\n",
       "      <td>244.0</td>\n",
       "      <td>2.9983</td>\n",
       "      <td>1.3836</td>\n",
       "      <td>0.0886</td>\n",
       "      <td>2.8238</td>\n",
       "      <td>3.1728</td>\n",
       "    </tr>\n",
       "    <tr>\n",
       "      <th>2</th>\n",
       "      <td>size</td>\n",
       "      <td>244.0</td>\n",
       "      <td>2.5697</td>\n",
       "      <td>0.9511</td>\n",
       "      <td>0.0609</td>\n",
       "      <td>2.4497</td>\n",
       "      <td>2.6896</td>\n",
       "    </tr>\n",
       "  </tbody>\n",
       "</table>\n",
       "</div>"
      ],
      "text/plain": [
       "     Variable      N     Mean      SD      SE  95% Conf.  Interval\n",
       "0  total_bill  244.0  19.7859  8.9024  0.5699    18.6633   20.9086\n",
       "1         tip  244.0   2.9983  1.3836  0.0886     2.8238    3.1728\n",
       "2        size  244.0   2.5697  0.9511  0.0609     2.4497    2.6896"
      ]
     },
     "execution_count": 4,
     "metadata": {},
     "output_type": "execute_result"
    }
   ],
   "source": [
    "rp.summary_cont(df[['total_bill', 'tip', 'size']])\n",
    "# Sayısal değişkenler için summary_cont() fonskiyonu kullanılır.\n",
    "# Variable -> değişken ismi\n",
    "# N -> count\n",
    "# Mean -> Ortalama\n",
    "# SD -> Standart Sapma"
   ]
  },
  {
   "cell_type": "code",
   "execution_count": 6,
   "id": "268e50ce-fcc8-405b-bc6d-5615a97d383d",
   "metadata": {},
   "outputs": [
    {
     "data": {
      "text/html": [
       "<div>\n",
       "<style scoped>\n",
       "    .dataframe tbody tr th:only-of-type {\n",
       "        vertical-align: middle;\n",
       "    }\n",
       "\n",
       "    .dataframe tbody tr th {\n",
       "        vertical-align: top;\n",
       "    }\n",
       "\n",
       "    .dataframe thead th {\n",
       "        text-align: right;\n",
       "    }\n",
       "</style>\n",
       "<table border=\"1\" class=\"dataframe\">\n",
       "  <thead>\n",
       "    <tr style=\"text-align: right;\">\n",
       "      <th></th>\n",
       "      <th>Variable</th>\n",
       "      <th>Outcome</th>\n",
       "      <th>Count</th>\n",
       "      <th>Percent</th>\n",
       "    </tr>\n",
       "  </thead>\n",
       "  <tbody>\n",
       "    <tr>\n",
       "      <th>0</th>\n",
       "      <td>sex</td>\n",
       "      <td>Male</td>\n",
       "      <td>157</td>\n",
       "      <td>64.34</td>\n",
       "    </tr>\n",
       "    <tr>\n",
       "      <th>1</th>\n",
       "      <td></td>\n",
       "      <td>Female</td>\n",
       "      <td>87</td>\n",
       "      <td>35.66</td>\n",
       "    </tr>\n",
       "    <tr>\n",
       "      <th>2</th>\n",
       "      <td>smoker</td>\n",
       "      <td>No</td>\n",
       "      <td>151</td>\n",
       "      <td>61.89</td>\n",
       "    </tr>\n",
       "    <tr>\n",
       "      <th>3</th>\n",
       "      <td></td>\n",
       "      <td>Yes</td>\n",
       "      <td>93</td>\n",
       "      <td>38.11</td>\n",
       "    </tr>\n",
       "    <tr>\n",
       "      <th>4</th>\n",
       "      <td>day</td>\n",
       "      <td>Sat</td>\n",
       "      <td>87</td>\n",
       "      <td>35.66</td>\n",
       "    </tr>\n",
       "    <tr>\n",
       "      <th>5</th>\n",
       "      <td></td>\n",
       "      <td>Sun</td>\n",
       "      <td>76</td>\n",
       "      <td>31.15</td>\n",
       "    </tr>\n",
       "    <tr>\n",
       "      <th>6</th>\n",
       "      <td></td>\n",
       "      <td>Thur</td>\n",
       "      <td>62</td>\n",
       "      <td>25.41</td>\n",
       "    </tr>\n",
       "    <tr>\n",
       "      <th>7</th>\n",
       "      <td></td>\n",
       "      <td>Fri</td>\n",
       "      <td>19</td>\n",
       "      <td>7.79</td>\n",
       "    </tr>\n",
       "  </tbody>\n",
       "</table>\n",
       "</div>"
      ],
      "text/plain": [
       "  Variable Outcome  Count  Percent\n",
       "0      sex    Male    157    64.34\n",
       "1           Female     87    35.66\n",
       "2   smoker      No    151    61.89\n",
       "3              Yes     93    38.11\n",
       "4      day     Sat     87    35.66\n",
       "5              Sun     76    31.15\n",
       "6             Thur     62    25.41\n",
       "7              Fri     19     7.79"
      ]
     },
     "execution_count": 6,
     "metadata": {},
     "output_type": "execute_result"
    }
   ],
   "source": [
    "rp.summary_cat(df[['sex', 'smoker', 'day']])\n",
    "# Kategorik değişkenlerin frekanslarına erişmek için summary_cat fonksiyonunu kullandık.\n",
    "# Bu fonksiyon parametre olarak verdiğimiz değişkenlerin sayı, yüzdelik olarak miktar bilgilerini bize verir."
   ]
  },
  {
   "cell_type": "code",
   "execution_count": 8,
   "id": "f2ce41de-5e9e-430b-9900-c39fb4d7baa8",
   "metadata": {},
   "outputs": [
    {
     "data": {
      "text/html": [
       "<div>\n",
       "<style scoped>\n",
       "    .dataframe tbody tr th:only-of-type {\n",
       "        vertical-align: middle;\n",
       "    }\n",
       "\n",
       "    .dataframe tbody tr th {\n",
       "        vertical-align: top;\n",
       "    }\n",
       "\n",
       "    .dataframe thead th {\n",
       "        text-align: right;\n",
       "    }\n",
       "</style>\n",
       "<table border=\"1\" class=\"dataframe\">\n",
       "  <thead>\n",
       "    <tr style=\"text-align: right;\">\n",
       "      <th></th>\n",
       "      <th>tip</th>\n",
       "      <th>total_bill</th>\n",
       "    </tr>\n",
       "  </thead>\n",
       "  <tbody>\n",
       "    <tr>\n",
       "      <th>tip</th>\n",
       "      <td>1.914455</td>\n",
       "      <td>8.323502</td>\n",
       "    </tr>\n",
       "    <tr>\n",
       "      <th>total_bill</th>\n",
       "      <td>8.323502</td>\n",
       "      <td>79.252939</td>\n",
       "    </tr>\n",
       "  </tbody>\n",
       "</table>\n",
       "</div>"
      ],
      "text/plain": [
       "                 tip  total_bill\n",
       "tip         1.914455    8.323502\n",
       "total_bill  8.323502   79.252939"
      ]
     },
     "execution_count": 8,
     "metadata": {},
     "output_type": "execute_result"
    }
   ],
   "source": [
    "df[['tip', 'total_bill']].cov()\n",
    "# cov() fonksiyonu ile değişkenler arasındaki kovaryans değerlerini aldık.\n",
    "# iki değişkenin kesişimine baktığımızda pozitif yönlü kovaryans görüyoruz.\n",
    "# Yani total_bill değişkeni arttıkça tip değişkeni de artıyor."
   ]
  },
  {
   "cell_type": "code",
   "execution_count": 11,
   "id": "f3a41eff-5a4e-4d35-8649-5aa147c2dc74",
   "metadata": {},
   "outputs": [
    {
     "data": {
      "text/html": [
       "<div>\n",
       "<style scoped>\n",
       "    .dataframe tbody tr th:only-of-type {\n",
       "        vertical-align: middle;\n",
       "    }\n",
       "\n",
       "    .dataframe tbody tr th {\n",
       "        vertical-align: top;\n",
       "    }\n",
       "\n",
       "    .dataframe thead th {\n",
       "        text-align: right;\n",
       "    }\n",
       "</style>\n",
       "<table border=\"1\" class=\"dataframe\">\n",
       "  <thead>\n",
       "    <tr style=\"text-align: right;\">\n",
       "      <th></th>\n",
       "      <th>tip</th>\n",
       "      <th>total_bill</th>\n",
       "    </tr>\n",
       "  </thead>\n",
       "  <tbody>\n",
       "    <tr>\n",
       "      <th>tip</th>\n",
       "      <td>1.000000</td>\n",
       "      <td>0.675734</td>\n",
       "    </tr>\n",
       "    <tr>\n",
       "      <th>total_bill</th>\n",
       "      <td>0.675734</td>\n",
       "      <td>1.000000</td>\n",
       "    </tr>\n",
       "  </tbody>\n",
       "</table>\n",
       "</div>"
      ],
      "text/plain": [
       "                 tip  total_bill\n",
       "tip         1.000000    0.675734\n",
       "total_bill  0.675734    1.000000"
      ]
     },
     "execution_count": 11,
     "metadata": {},
     "output_type": "execute_result"
    }
   ],
   "source": [
    "df[['tip', 'total_bill']].corr()\n",
    "# corr() fonksiyonunu kullanarak değişkenlerin arasındaki korelasyon değerlerini aldık.\n",
    "# Korelasyon değişkenlerin arasındaki ilişkinin tutarlı olup olmadığı bilgisini verir.\n",
    "# -1 ile 1 arasında değer alır.\n",
    "# -1 ile 0 arasında ise ters yönlü korelasyon vardır.\n",
    "# 0 ile 1 arasında ise doğru yönlü korelasyon vardır.\n",
    "# total_bill ve tip değişkenleri arasında pozitif yönlü korelasyon vardır. Yani bir değişkenin değeri arttıkça diğeri de artar."
   ]
  }
 ],
 "metadata": {
  "kernelspec": {
   "display_name": "Python 3 (ipykernel)",
   "language": "python",
   "name": "python3"
  },
  "language_info": {
   "codemirror_mode": {
    "name": "ipython",
    "version": 3
   },
   "file_extension": ".py",
   "mimetype": "text/x-python",
   "name": "python",
   "nbconvert_exporter": "python",
   "pygments_lexer": "ipython3",
   "version": "3.9.12"
  }
 },
 "nbformat": 4,
 "nbformat_minor": 5
}
